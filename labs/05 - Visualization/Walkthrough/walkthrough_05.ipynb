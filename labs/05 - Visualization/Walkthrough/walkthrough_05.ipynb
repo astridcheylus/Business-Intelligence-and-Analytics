{
  "cells": [
    {
      "cell_type": "markdown",
      "metadata": {
        "id": "view-in-github"
      },
      "source": [
        "<a href=\"https://colab.research.google.com/github/michalis0/Business-Intelligence-and-Analytics/blob/Editing/labs/04%20-%20Visualization/walkthrough_4.ipynb\" target=\"_parent\"><img src=\"https://colab.research.google.com/assets/colab-badge.svg\" alt=\"Open In Colab\"/></a>"
      ]
    },
    {
      "cell_type": "markdown",
      "source": [],
      "metadata": {
        "id": "zjYm4VDED2-6"
      }
    },
    {
      "cell_type": "markdown",
      "metadata": {
        "cellView": "form",
        "id": "xelqowdAL51s",
        "outputId": "2c324e0e-07a9-45d5-e4d6-525284af1249"
      },
      "source": [
        "<h1><center>Walkthrough - Lab 4<center>\n",
        "\n",
        "<div>\n",
        "<td>\n",
        "<img src=\"https://upload.wikimedia.org/wikipedia/commons/thumb/2/2b/Logo_Universit%C3%A9_de_Lausanne.svg/2000px-Logo_Universit%C3%A9_de_Lausanne.svg.png\" style=\"padding-right:10px;width:240px;float:left\" width=700/></td>\n",
        "<h2 style=\"white-space: nowrap\">Business Intelligence and Analytics</h2></td>\n",
        "<hr style=\"clear:both\">\n",
        "<p style=\"font-size:0.85em; margin:2px; text-align:justify\">\n",
        "\n",
        "</div>"
      ]
    },
    {
      "cell_type": "markdown",
      "metadata": {
        "id": "BM5wVWxxjdZz"
      },
      "source": [
        ">The goal of this week's walkthrough is to introduce you to visualization tools and to teach you how to present and interpret data in graphical formats. In essence, Data Visualization can be thought of as whole science looking at the numerous ways and choices one has to represent Data. Therefore, we will also show you some typical examples of visualization for proper representation or analysis of a given problem.\n",
        ">\n",
        "> In the first part of this walkthrough, you will likely encounter visualization used in the last lab session along some new ones.\n",
        ">\n",
        "> Then in a second part, we will go a bit further and show you how to build interactive visualizations."
      ]
    },
    {
      "cell_type": "markdown",
      "metadata": {
        "id": "389Q2JK58WLb"
      },
      "source": [
        "##Imports and data set\n",
        ">First, let's import the various librairies we'll need throughout the walkthrough.\n",
        ">\n",
        ">We will use [`matplotlib`](https://matplotlib.org/stable/index.html) a library for plotting and [`seaborn`](https://seaborn.pydata.org) a package for statistical data visualization."
      ]
    },
    {
      "cell_type": "code",
      "execution_count": 1,
      "metadata": {
        "id": "_AtSzzEOjYVf"
      },
      "outputs": [],
      "source": [
        "#Library imports\n",
        "import pandas as pd #nothing new here\n",
        "import matplotlib\n",
        "import matplotlib.pyplot as plt\n",
        "import seaborn as sns"
      ]
    },
    {
      "cell_type": "markdown",
      "metadata": {
        "id": "-7ZhLjcm94AH"
      },
      "source": [
        ">Today, we will use the **credit.csv** data set, wich contains personal and economical information of credit card owners."
      ]
    },
    {
      "cell_type": "code",
      "execution_count": 2,
      "metadata": {
        "id": "3CbyEYa3-tHx",
        "colab": {
          "base_uri": "https://localhost:8080/",
          "height": 206
        },
        "outputId": "c2064864-89a0-48be-e7ea-152c8d4bd6e2"
      },
      "outputs": [
        {
          "output_type": "execute_result",
          "data": {
            "text/plain": [
              "   Unnamed: 0   Income  Limit  Rating  Cards  Age  Education  Gender Student  \\\n",
              "0           1   14.891   3606     283      2   34         11    Male      No   \n",
              "1           2  106.025   6645     483      3   82         15  Female     Yes   \n",
              "2           3  104.593   7075     514      4   71         11    Male      No   \n",
              "3           4  148.924   9504     681      3   36         11  Female      No   \n",
              "4           5   55.882   4897     357      2   68         16    Male      No   \n",
              "\n",
              "  Married  Ethnicity  Balance  \n",
              "0     Yes  Caucasian      333  \n",
              "1     Yes      Asian      903  \n",
              "2      No      Asian      580  \n",
              "3      No      Asian      964  \n",
              "4     Yes  Caucasian      331  "
            ],
            "text/html": [
              "\n",
              "  <div id=\"df-2cc31b2f-3f5d-4a45-9200-2681a7d92b43\" class=\"colab-df-container\">\n",
              "    <div>\n",
              "<style scoped>\n",
              "    .dataframe tbody tr th:only-of-type {\n",
              "        vertical-align: middle;\n",
              "    }\n",
              "\n",
              "    .dataframe tbody tr th {\n",
              "        vertical-align: top;\n",
              "    }\n",
              "\n",
              "    .dataframe thead th {\n",
              "        text-align: right;\n",
              "    }\n",
              "</style>\n",
              "<table border=\"1\" class=\"dataframe\">\n",
              "  <thead>\n",
              "    <tr style=\"text-align: right;\">\n",
              "      <th></th>\n",
              "      <th>Unnamed: 0</th>\n",
              "      <th>Income</th>\n",
              "      <th>Limit</th>\n",
              "      <th>Rating</th>\n",
              "      <th>Cards</th>\n",
              "      <th>Age</th>\n",
              "      <th>Education</th>\n",
              "      <th>Gender</th>\n",
              "      <th>Student</th>\n",
              "      <th>Married</th>\n",
              "      <th>Ethnicity</th>\n",
              "      <th>Balance</th>\n",
              "    </tr>\n",
              "  </thead>\n",
              "  <tbody>\n",
              "    <tr>\n",
              "      <th>0</th>\n",
              "      <td>1</td>\n",
              "      <td>14.891</td>\n",
              "      <td>3606</td>\n",
              "      <td>283</td>\n",
              "      <td>2</td>\n",
              "      <td>34</td>\n",
              "      <td>11</td>\n",
              "      <td>Male</td>\n",
              "      <td>No</td>\n",
              "      <td>Yes</td>\n",
              "      <td>Caucasian</td>\n",
              "      <td>333</td>\n",
              "    </tr>\n",
              "    <tr>\n",
              "      <th>1</th>\n",
              "      <td>2</td>\n",
              "      <td>106.025</td>\n",
              "      <td>6645</td>\n",
              "      <td>483</td>\n",
              "      <td>3</td>\n",
              "      <td>82</td>\n",
              "      <td>15</td>\n",
              "      <td>Female</td>\n",
              "      <td>Yes</td>\n",
              "      <td>Yes</td>\n",
              "      <td>Asian</td>\n",
              "      <td>903</td>\n",
              "    </tr>\n",
              "    <tr>\n",
              "      <th>2</th>\n",
              "      <td>3</td>\n",
              "      <td>104.593</td>\n",
              "      <td>7075</td>\n",
              "      <td>514</td>\n",
              "      <td>4</td>\n",
              "      <td>71</td>\n",
              "      <td>11</td>\n",
              "      <td>Male</td>\n",
              "      <td>No</td>\n",
              "      <td>No</td>\n",
              "      <td>Asian</td>\n",
              "      <td>580</td>\n",
              "    </tr>\n",
              "    <tr>\n",
              "      <th>3</th>\n",
              "      <td>4</td>\n",
              "      <td>148.924</td>\n",
              "      <td>9504</td>\n",
              "      <td>681</td>\n",
              "      <td>3</td>\n",
              "      <td>36</td>\n",
              "      <td>11</td>\n",
              "      <td>Female</td>\n",
              "      <td>No</td>\n",
              "      <td>No</td>\n",
              "      <td>Asian</td>\n",
              "      <td>964</td>\n",
              "    </tr>\n",
              "    <tr>\n",
              "      <th>4</th>\n",
              "      <td>5</td>\n",
              "      <td>55.882</td>\n",
              "      <td>4897</td>\n",
              "      <td>357</td>\n",
              "      <td>2</td>\n",
              "      <td>68</td>\n",
              "      <td>16</td>\n",
              "      <td>Male</td>\n",
              "      <td>No</td>\n",
              "      <td>Yes</td>\n",
              "      <td>Caucasian</td>\n",
              "      <td>331</td>\n",
              "    </tr>\n",
              "  </tbody>\n",
              "</table>\n",
              "</div>\n",
              "    <div class=\"colab-df-buttons\">\n",
              "\n",
              "  <div class=\"colab-df-container\">\n",
              "    <button class=\"colab-df-convert\" onclick=\"convertToInteractive('df-2cc31b2f-3f5d-4a45-9200-2681a7d92b43')\"\n",
              "            title=\"Convert this dataframe to an interactive table.\"\n",
              "            style=\"display:none;\">\n",
              "\n",
              "  <svg xmlns=\"http://www.w3.org/2000/svg\" height=\"24px\" viewBox=\"0 -960 960 960\">\n",
              "    <path d=\"M120-120v-720h720v720H120Zm60-500h600v-160H180v160Zm220 220h160v-160H400v160Zm0 220h160v-160H400v160ZM180-400h160v-160H180v160Zm440 0h160v-160H620v160ZM180-180h160v-160H180v160Zm440 0h160v-160H620v160Z\"/>\n",
              "  </svg>\n",
              "    </button>\n",
              "\n",
              "  <style>\n",
              "    .colab-df-container {\n",
              "      display:flex;\n",
              "      gap: 12px;\n",
              "    }\n",
              "\n",
              "    .colab-df-convert {\n",
              "      background-color: #E8F0FE;\n",
              "      border: none;\n",
              "      border-radius: 50%;\n",
              "      cursor: pointer;\n",
              "      display: none;\n",
              "      fill: #1967D2;\n",
              "      height: 32px;\n",
              "      padding: 0 0 0 0;\n",
              "      width: 32px;\n",
              "    }\n",
              "\n",
              "    .colab-df-convert:hover {\n",
              "      background-color: #E2EBFA;\n",
              "      box-shadow: 0px 1px 2px rgba(60, 64, 67, 0.3), 0px 1px 3px 1px rgba(60, 64, 67, 0.15);\n",
              "      fill: #174EA6;\n",
              "    }\n",
              "\n",
              "    .colab-df-buttons div {\n",
              "      margin-bottom: 4px;\n",
              "    }\n",
              "\n",
              "    [theme=dark] .colab-df-convert {\n",
              "      background-color: #3B4455;\n",
              "      fill: #D2E3FC;\n",
              "    }\n",
              "\n",
              "    [theme=dark] .colab-df-convert:hover {\n",
              "      background-color: #434B5C;\n",
              "      box-shadow: 0px 1px 3px 1px rgba(0, 0, 0, 0.15);\n",
              "      filter: drop-shadow(0px 1px 2px rgba(0, 0, 0, 0.3));\n",
              "      fill: #FFFFFF;\n",
              "    }\n",
              "  </style>\n",
              "\n",
              "    <script>\n",
              "      const buttonEl =\n",
              "        document.querySelector('#df-2cc31b2f-3f5d-4a45-9200-2681a7d92b43 button.colab-df-convert');\n",
              "      buttonEl.style.display =\n",
              "        google.colab.kernel.accessAllowed ? 'block' : 'none';\n",
              "\n",
              "      async function convertToInteractive(key) {\n",
              "        const element = document.querySelector('#df-2cc31b2f-3f5d-4a45-9200-2681a7d92b43');\n",
              "        const dataTable =\n",
              "          await google.colab.kernel.invokeFunction('convertToInteractive',\n",
              "                                                    [key], {});\n",
              "        if (!dataTable) return;\n",
              "\n",
              "        const docLinkHtml = 'Like what you see? Visit the ' +\n",
              "          '<a target=\"_blank\" href=https://colab.research.google.com/notebooks/data_table.ipynb>data table notebook</a>'\n",
              "          + ' to learn more about interactive tables.';\n",
              "        element.innerHTML = '';\n",
              "        dataTable['output_type'] = 'display_data';\n",
              "        await google.colab.output.renderOutput(dataTable, element);\n",
              "        const docLink = document.createElement('div');\n",
              "        docLink.innerHTML = docLinkHtml;\n",
              "        element.appendChild(docLink);\n",
              "      }\n",
              "    </script>\n",
              "  </div>\n",
              "\n",
              "\n",
              "<div id=\"df-65dc70be-b011-4088-a177-6456a65800d9\">\n",
              "  <button class=\"colab-df-quickchart\" onclick=\"quickchart('df-65dc70be-b011-4088-a177-6456a65800d9')\"\n",
              "            title=\"Suggest charts\"\n",
              "            style=\"display:none;\">\n",
              "\n",
              "<svg xmlns=\"http://www.w3.org/2000/svg\" height=\"24px\"viewBox=\"0 0 24 24\"\n",
              "     width=\"24px\">\n",
              "    <g>\n",
              "        <path d=\"M19 3H5c-1.1 0-2 .9-2 2v14c0 1.1.9 2 2 2h14c1.1 0 2-.9 2-2V5c0-1.1-.9-2-2-2zM9 17H7v-7h2v7zm4 0h-2V7h2v10zm4 0h-2v-4h2v4z\"/>\n",
              "    </g>\n",
              "</svg>\n",
              "  </button>\n",
              "\n",
              "<style>\n",
              "  .colab-df-quickchart {\n",
              "      --bg-color: #E8F0FE;\n",
              "      --fill-color: #1967D2;\n",
              "      --hover-bg-color: #E2EBFA;\n",
              "      --hover-fill-color: #174EA6;\n",
              "      --disabled-fill-color: #AAA;\n",
              "      --disabled-bg-color: #DDD;\n",
              "  }\n",
              "\n",
              "  [theme=dark] .colab-df-quickchart {\n",
              "      --bg-color: #3B4455;\n",
              "      --fill-color: #D2E3FC;\n",
              "      --hover-bg-color: #434B5C;\n",
              "      --hover-fill-color: #FFFFFF;\n",
              "      --disabled-bg-color: #3B4455;\n",
              "      --disabled-fill-color: #666;\n",
              "  }\n",
              "\n",
              "  .colab-df-quickchart {\n",
              "    background-color: var(--bg-color);\n",
              "    border: none;\n",
              "    border-radius: 50%;\n",
              "    cursor: pointer;\n",
              "    display: none;\n",
              "    fill: var(--fill-color);\n",
              "    height: 32px;\n",
              "    padding: 0;\n",
              "    width: 32px;\n",
              "  }\n",
              "\n",
              "  .colab-df-quickchart:hover {\n",
              "    background-color: var(--hover-bg-color);\n",
              "    box-shadow: 0 1px 2px rgba(60, 64, 67, 0.3), 0 1px 3px 1px rgba(60, 64, 67, 0.15);\n",
              "    fill: var(--button-hover-fill-color);\n",
              "  }\n",
              "\n",
              "  .colab-df-quickchart-complete:disabled,\n",
              "  .colab-df-quickchart-complete:disabled:hover {\n",
              "    background-color: var(--disabled-bg-color);\n",
              "    fill: var(--disabled-fill-color);\n",
              "    box-shadow: none;\n",
              "  }\n",
              "\n",
              "  .colab-df-spinner {\n",
              "    border: 2px solid var(--fill-color);\n",
              "    border-color: transparent;\n",
              "    border-bottom-color: var(--fill-color);\n",
              "    animation:\n",
              "      spin 1s steps(1) infinite;\n",
              "  }\n",
              "\n",
              "  @keyframes spin {\n",
              "    0% {\n",
              "      border-color: transparent;\n",
              "      border-bottom-color: var(--fill-color);\n",
              "      border-left-color: var(--fill-color);\n",
              "    }\n",
              "    20% {\n",
              "      border-color: transparent;\n",
              "      border-left-color: var(--fill-color);\n",
              "      border-top-color: var(--fill-color);\n",
              "    }\n",
              "    30% {\n",
              "      border-color: transparent;\n",
              "      border-left-color: var(--fill-color);\n",
              "      border-top-color: var(--fill-color);\n",
              "      border-right-color: var(--fill-color);\n",
              "    }\n",
              "    40% {\n",
              "      border-color: transparent;\n",
              "      border-right-color: var(--fill-color);\n",
              "      border-top-color: var(--fill-color);\n",
              "    }\n",
              "    60% {\n",
              "      border-color: transparent;\n",
              "      border-right-color: var(--fill-color);\n",
              "    }\n",
              "    80% {\n",
              "      border-color: transparent;\n",
              "      border-right-color: var(--fill-color);\n",
              "      border-bottom-color: var(--fill-color);\n",
              "    }\n",
              "    90% {\n",
              "      border-color: transparent;\n",
              "      border-bottom-color: var(--fill-color);\n",
              "    }\n",
              "  }\n",
              "</style>\n",
              "\n",
              "  <script>\n",
              "    async function quickchart(key) {\n",
              "      const quickchartButtonEl =\n",
              "        document.querySelector('#' + key + ' button');\n",
              "      quickchartButtonEl.disabled = true;  // To prevent multiple clicks.\n",
              "      quickchartButtonEl.classList.add('colab-df-spinner');\n",
              "      try {\n",
              "        const charts = await google.colab.kernel.invokeFunction(\n",
              "            'suggestCharts', [key], {});\n",
              "      } catch (error) {\n",
              "        console.error('Error during call to suggestCharts:', error);\n",
              "      }\n",
              "      quickchartButtonEl.classList.remove('colab-df-spinner');\n",
              "      quickchartButtonEl.classList.add('colab-df-quickchart-complete');\n",
              "    }\n",
              "    (() => {\n",
              "      let quickchartButtonEl =\n",
              "        document.querySelector('#df-65dc70be-b011-4088-a177-6456a65800d9 button');\n",
              "      quickchartButtonEl.style.display =\n",
              "        google.colab.kernel.accessAllowed ? 'block' : 'none';\n",
              "    })();\n",
              "  </script>\n",
              "</div>\n",
              "\n",
              "    </div>\n",
              "  </div>\n"
            ],
            "application/vnd.google.colaboratory.intrinsic+json": {
              "type": "dataframe",
              "variable_name": "data",
              "summary": "{\n  \"name\": \"data\",\n  \"rows\": 400,\n  \"fields\": [\n    {\n      \"column\": \"Unnamed: 0\",\n      \"properties\": {\n        \"dtype\": \"number\",\n        \"std\": 115,\n        \"min\": 1,\n        \"max\": 400,\n        \"num_unique_values\": 400,\n        \"samples\": [\n          210,\n          281,\n          34\n        ],\n        \"semantic_type\": \"\",\n        \"description\": \"\"\n      }\n    },\n    {\n      \"column\": \"Income\",\n      \"properties\": {\n        \"dtype\": \"number\",\n        \"std\": 35.24427316507052,\n        \"min\": 10.354,\n        \"max\": 186.634,\n        \"num_unique_values\": 399,\n        \"samples\": [\n          27.349,\n          48.577,\n          31.367\n        ],\n        \"semantic_type\": \"\",\n        \"description\": \"\"\n      }\n    },\n    {\n      \"column\": \"Limit\",\n      \"properties\": {\n        \"dtype\": \"number\",\n        \"std\": 2308,\n        \"min\": 855,\n        \"max\": 13913,\n        \"num_unique_values\": 387,\n        \"samples\": [\n          3096,\n          1362,\n          6040\n        ],\n        \"semantic_type\": \"\",\n        \"description\": \"\"\n      }\n    },\n    {\n      \"column\": \"Rating\",\n      \"properties\": {\n        \"dtype\": \"number\",\n        \"std\": 154,\n        \"min\": 93,\n        \"max\": 982,\n        \"num_unique_values\": 283,\n        \"samples\": [\n          491,\n          329,\n          214\n        ],\n        \"semantic_type\": \"\",\n        \"description\": \"\"\n      }\n    },\n    {\n      \"column\": \"Cards\",\n      \"properties\": {\n        \"dtype\": \"number\",\n        \"std\": 1,\n        \"min\": 1,\n        \"max\": 9,\n        \"num_unique_values\": 9,\n        \"samples\": [\n          8,\n          3,\n          6\n        ],\n        \"semantic_type\": \"\",\n        \"description\": \"\"\n      }\n    },\n    {\n      \"column\": \"Age\",\n      \"properties\": {\n        \"dtype\": \"number\",\n        \"std\": 17,\n        \"min\": 23,\n        \"max\": 98,\n        \"num_unique_values\": 68,\n        \"samples\": [\n          52,\n          69,\n          68\n        ],\n        \"semantic_type\": \"\",\n        \"description\": \"\"\n      }\n    },\n    {\n      \"column\": \"Education\",\n      \"properties\": {\n        \"dtype\": \"number\",\n        \"std\": 3,\n        \"min\": 5,\n        \"max\": 20,\n        \"num_unique_values\": 16,\n        \"samples\": [\n          11,\n          15,\n          9\n        ],\n        \"semantic_type\": \"\",\n        \"description\": \"\"\n      }\n    },\n    {\n      \"column\": \"Gender\",\n      \"properties\": {\n        \"dtype\": \"category\",\n        \"num_unique_values\": 2,\n        \"samples\": [\n          \"Female\",\n          \"Male\"\n        ],\n        \"semantic_type\": \"\",\n        \"description\": \"\"\n      }\n    },\n    {\n      \"column\": \"Student\",\n      \"properties\": {\n        \"dtype\": \"category\",\n        \"num_unique_values\": 2,\n        \"samples\": [\n          \"Yes\",\n          \"No\"\n        ],\n        \"semantic_type\": \"\",\n        \"description\": \"\"\n      }\n    },\n    {\n      \"column\": \"Married\",\n      \"properties\": {\n        \"dtype\": \"category\",\n        \"num_unique_values\": 2,\n        \"samples\": [\n          \"No\",\n          \"Yes\"\n        ],\n        \"semantic_type\": \"\",\n        \"description\": \"\"\n      }\n    },\n    {\n      \"column\": \"Ethnicity\",\n      \"properties\": {\n        \"dtype\": \"category\",\n        \"num_unique_values\": 3,\n        \"samples\": [\n          \"Caucasian\",\n          \"Asian\"\n        ],\n        \"semantic_type\": \"\",\n        \"description\": \"\"\n      }\n    },\n    {\n      \"column\": \"Balance\",\n      \"properties\": {\n        \"dtype\": \"number\",\n        \"std\": 459,\n        \"min\": 0,\n        \"max\": 1999,\n        \"num_unique_values\": 284,\n        \"samples\": [\n          1350,\n          1405\n        ],\n        \"semantic_type\": \"\",\n        \"description\": \"\"\n      }\n    }\n  ]\n}"
            }
          },
          "metadata": {},
          "execution_count": 2
        }
      ],
      "source": [
        "url = 'https://media.githubusercontent.com/media/michalis0/Business-Intelligence-and-Analytics/master/data/Credit.csv'\n",
        "data = pd.read_csv(url)\n",
        "data.head()\n"
      ]
    },
    {
      "cell_type": "markdown",
      "metadata": {
        "id": "Kbl4xwJrk_Kj"
      },
      "source": [
        "###Data Cleaning\n",
        ">As you probably wondered, it is not very helpful nor useful to have an \"Unnamed: 0\" column. Lets rename it and use it as index."
      ]
    },
    {
      "cell_type": "code",
      "execution_count": 3,
      "metadata": {
        "id": "ibIxmwrLkbGx",
        "colab": {
          "base_uri": "https://localhost:8080/",
          "height": 206
        },
        "outputId": "d0657ec9-f3c1-42c3-b320-9101aa92b984"
      },
      "outputs": [
        {
          "output_type": "execute_result",
          "data": {
            "text/plain": [
              "   CustomerID   Income  Limit  Rating  Cards  Age  Education  Gender Student  \\\n",
              "0           1   14.891   3606     283      2   34         11    Male      No   \n",
              "1           2  106.025   6645     483      3   82         15  Female     Yes   \n",
              "2           3  104.593   7075     514      4   71         11    Male      No   \n",
              "3           4  148.924   9504     681      3   36         11  Female      No   \n",
              "4           5   55.882   4897     357      2   68         16    Male      No   \n",
              "\n",
              "  Married  Ethnicity  Balance  \n",
              "0     Yes  Caucasian      333  \n",
              "1     Yes      Asian      903  \n",
              "2      No      Asian      580  \n",
              "3      No      Asian      964  \n",
              "4     Yes  Caucasian      331  "
            ],
            "text/html": [
              "\n",
              "  <div id=\"df-5a7da012-21cb-4e34-b9cf-5c1856185bf5\" class=\"colab-df-container\">\n",
              "    <div>\n",
              "<style scoped>\n",
              "    .dataframe tbody tr th:only-of-type {\n",
              "        vertical-align: middle;\n",
              "    }\n",
              "\n",
              "    .dataframe tbody tr th {\n",
              "        vertical-align: top;\n",
              "    }\n",
              "\n",
              "    .dataframe thead th {\n",
              "        text-align: right;\n",
              "    }\n",
              "</style>\n",
              "<table border=\"1\" class=\"dataframe\">\n",
              "  <thead>\n",
              "    <tr style=\"text-align: right;\">\n",
              "      <th></th>\n",
              "      <th>CustomerID</th>\n",
              "      <th>Income</th>\n",
              "      <th>Limit</th>\n",
              "      <th>Rating</th>\n",
              "      <th>Cards</th>\n",
              "      <th>Age</th>\n",
              "      <th>Education</th>\n",
              "      <th>Gender</th>\n",
              "      <th>Student</th>\n",
              "      <th>Married</th>\n",
              "      <th>Ethnicity</th>\n",
              "      <th>Balance</th>\n",
              "    </tr>\n",
              "  </thead>\n",
              "  <tbody>\n",
              "    <tr>\n",
              "      <th>0</th>\n",
              "      <td>1</td>\n",
              "      <td>14.891</td>\n",
              "      <td>3606</td>\n",
              "      <td>283</td>\n",
              "      <td>2</td>\n",
              "      <td>34</td>\n",
              "      <td>11</td>\n",
              "      <td>Male</td>\n",
              "      <td>No</td>\n",
              "      <td>Yes</td>\n",
              "      <td>Caucasian</td>\n",
              "      <td>333</td>\n",
              "    </tr>\n",
              "    <tr>\n",
              "      <th>1</th>\n",
              "      <td>2</td>\n",
              "      <td>106.025</td>\n",
              "      <td>6645</td>\n",
              "      <td>483</td>\n",
              "      <td>3</td>\n",
              "      <td>82</td>\n",
              "      <td>15</td>\n",
              "      <td>Female</td>\n",
              "      <td>Yes</td>\n",
              "      <td>Yes</td>\n",
              "      <td>Asian</td>\n",
              "      <td>903</td>\n",
              "    </tr>\n",
              "    <tr>\n",
              "      <th>2</th>\n",
              "      <td>3</td>\n",
              "      <td>104.593</td>\n",
              "      <td>7075</td>\n",
              "      <td>514</td>\n",
              "      <td>4</td>\n",
              "      <td>71</td>\n",
              "      <td>11</td>\n",
              "      <td>Male</td>\n",
              "      <td>No</td>\n",
              "      <td>No</td>\n",
              "      <td>Asian</td>\n",
              "      <td>580</td>\n",
              "    </tr>\n",
              "    <tr>\n",
              "      <th>3</th>\n",
              "      <td>4</td>\n",
              "      <td>148.924</td>\n",
              "      <td>9504</td>\n",
              "      <td>681</td>\n",
              "      <td>3</td>\n",
              "      <td>36</td>\n",
              "      <td>11</td>\n",
              "      <td>Female</td>\n",
              "      <td>No</td>\n",
              "      <td>No</td>\n",
              "      <td>Asian</td>\n",
              "      <td>964</td>\n",
              "    </tr>\n",
              "    <tr>\n",
              "      <th>4</th>\n",
              "      <td>5</td>\n",
              "      <td>55.882</td>\n",
              "      <td>4897</td>\n",
              "      <td>357</td>\n",
              "      <td>2</td>\n",
              "      <td>68</td>\n",
              "      <td>16</td>\n",
              "      <td>Male</td>\n",
              "      <td>No</td>\n",
              "      <td>Yes</td>\n",
              "      <td>Caucasian</td>\n",
              "      <td>331</td>\n",
              "    </tr>\n",
              "  </tbody>\n",
              "</table>\n",
              "</div>\n",
              "    <div class=\"colab-df-buttons\">\n",
              "\n",
              "  <div class=\"colab-df-container\">\n",
              "    <button class=\"colab-df-convert\" onclick=\"convertToInteractive('df-5a7da012-21cb-4e34-b9cf-5c1856185bf5')\"\n",
              "            title=\"Convert this dataframe to an interactive table.\"\n",
              "            style=\"display:none;\">\n",
              "\n",
              "  <svg xmlns=\"http://www.w3.org/2000/svg\" height=\"24px\" viewBox=\"0 -960 960 960\">\n",
              "    <path d=\"M120-120v-720h720v720H120Zm60-500h600v-160H180v160Zm220 220h160v-160H400v160Zm0 220h160v-160H400v160ZM180-400h160v-160H180v160Zm440 0h160v-160H620v160ZM180-180h160v-160H180v160Zm440 0h160v-160H620v160Z\"/>\n",
              "  </svg>\n",
              "    </button>\n",
              "\n",
              "  <style>\n",
              "    .colab-df-container {\n",
              "      display:flex;\n",
              "      gap: 12px;\n",
              "    }\n",
              "\n",
              "    .colab-df-convert {\n",
              "      background-color: #E8F0FE;\n",
              "      border: none;\n",
              "      border-radius: 50%;\n",
              "      cursor: pointer;\n",
              "      display: none;\n",
              "      fill: #1967D2;\n",
              "      height: 32px;\n",
              "      padding: 0 0 0 0;\n",
              "      width: 32px;\n",
              "    }\n",
              "\n",
              "    .colab-df-convert:hover {\n",
              "      background-color: #E2EBFA;\n",
              "      box-shadow: 0px 1px 2px rgba(60, 64, 67, 0.3), 0px 1px 3px 1px rgba(60, 64, 67, 0.15);\n",
              "      fill: #174EA6;\n",
              "    }\n",
              "\n",
              "    .colab-df-buttons div {\n",
              "      margin-bottom: 4px;\n",
              "    }\n",
              "\n",
              "    [theme=dark] .colab-df-convert {\n",
              "      background-color: #3B4455;\n",
              "      fill: #D2E3FC;\n",
              "    }\n",
              "\n",
              "    [theme=dark] .colab-df-convert:hover {\n",
              "      background-color: #434B5C;\n",
              "      box-shadow: 0px 1px 3px 1px rgba(0, 0, 0, 0.15);\n",
              "      filter: drop-shadow(0px 1px 2px rgba(0, 0, 0, 0.3));\n",
              "      fill: #FFFFFF;\n",
              "    }\n",
              "  </style>\n",
              "\n",
              "    <script>\n",
              "      const buttonEl =\n",
              "        document.querySelector('#df-5a7da012-21cb-4e34-b9cf-5c1856185bf5 button.colab-df-convert');\n",
              "      buttonEl.style.display =\n",
              "        google.colab.kernel.accessAllowed ? 'block' : 'none';\n",
              "\n",
              "      async function convertToInteractive(key) {\n",
              "        const element = document.querySelector('#df-5a7da012-21cb-4e34-b9cf-5c1856185bf5');\n",
              "        const dataTable =\n",
              "          await google.colab.kernel.invokeFunction('convertToInteractive',\n",
              "                                                    [key], {});\n",
              "        if (!dataTable) return;\n",
              "\n",
              "        const docLinkHtml = 'Like what you see? Visit the ' +\n",
              "          '<a target=\"_blank\" href=https://colab.research.google.com/notebooks/data_table.ipynb>data table notebook</a>'\n",
              "          + ' to learn more about interactive tables.';\n",
              "        element.innerHTML = '';\n",
              "        dataTable['output_type'] = 'display_data';\n",
              "        await google.colab.output.renderOutput(dataTable, element);\n",
              "        const docLink = document.createElement('div');\n",
              "        docLink.innerHTML = docLinkHtml;\n",
              "        element.appendChild(docLink);\n",
              "      }\n",
              "    </script>\n",
              "  </div>\n",
              "\n",
              "\n",
              "<div id=\"df-259f0b11-2b45-40e1-b241-a1edaf16f056\">\n",
              "  <button class=\"colab-df-quickchart\" onclick=\"quickchart('df-259f0b11-2b45-40e1-b241-a1edaf16f056')\"\n",
              "            title=\"Suggest charts\"\n",
              "            style=\"display:none;\">\n",
              "\n",
              "<svg xmlns=\"http://www.w3.org/2000/svg\" height=\"24px\"viewBox=\"0 0 24 24\"\n",
              "     width=\"24px\">\n",
              "    <g>\n",
              "        <path d=\"M19 3H5c-1.1 0-2 .9-2 2v14c0 1.1.9 2 2 2h14c1.1 0 2-.9 2-2V5c0-1.1-.9-2-2-2zM9 17H7v-7h2v7zm4 0h-2V7h2v10zm4 0h-2v-4h2v4z\"/>\n",
              "    </g>\n",
              "</svg>\n",
              "  </button>\n",
              "\n",
              "<style>\n",
              "  .colab-df-quickchart {\n",
              "      --bg-color: #E8F0FE;\n",
              "      --fill-color: #1967D2;\n",
              "      --hover-bg-color: #E2EBFA;\n",
              "      --hover-fill-color: #174EA6;\n",
              "      --disabled-fill-color: #AAA;\n",
              "      --disabled-bg-color: #DDD;\n",
              "  }\n",
              "\n",
              "  [theme=dark] .colab-df-quickchart {\n",
              "      --bg-color: #3B4455;\n",
              "      --fill-color: #D2E3FC;\n",
              "      --hover-bg-color: #434B5C;\n",
              "      --hover-fill-color: #FFFFFF;\n",
              "      --disabled-bg-color: #3B4455;\n",
              "      --disabled-fill-color: #666;\n",
              "  }\n",
              "\n",
              "  .colab-df-quickchart {\n",
              "    background-color: var(--bg-color);\n",
              "    border: none;\n",
              "    border-radius: 50%;\n",
              "    cursor: pointer;\n",
              "    display: none;\n",
              "    fill: var(--fill-color);\n",
              "    height: 32px;\n",
              "    padding: 0;\n",
              "    width: 32px;\n",
              "  }\n",
              "\n",
              "  .colab-df-quickchart:hover {\n",
              "    background-color: var(--hover-bg-color);\n",
              "    box-shadow: 0 1px 2px rgba(60, 64, 67, 0.3), 0 1px 3px 1px rgba(60, 64, 67, 0.15);\n",
              "    fill: var(--button-hover-fill-color);\n",
              "  }\n",
              "\n",
              "  .colab-df-quickchart-complete:disabled,\n",
              "  .colab-df-quickchart-complete:disabled:hover {\n",
              "    background-color: var(--disabled-bg-color);\n",
              "    fill: var(--disabled-fill-color);\n",
              "    box-shadow: none;\n",
              "  }\n",
              "\n",
              "  .colab-df-spinner {\n",
              "    border: 2px solid var(--fill-color);\n",
              "    border-color: transparent;\n",
              "    border-bottom-color: var(--fill-color);\n",
              "    animation:\n",
              "      spin 1s steps(1) infinite;\n",
              "  }\n",
              "\n",
              "  @keyframes spin {\n",
              "    0% {\n",
              "      border-color: transparent;\n",
              "      border-bottom-color: var(--fill-color);\n",
              "      border-left-color: var(--fill-color);\n",
              "    }\n",
              "    20% {\n",
              "      border-color: transparent;\n",
              "      border-left-color: var(--fill-color);\n",
              "      border-top-color: var(--fill-color);\n",
              "    }\n",
              "    30% {\n",
              "      border-color: transparent;\n",
              "      border-left-color: var(--fill-color);\n",
              "      border-top-color: var(--fill-color);\n",
              "      border-right-color: var(--fill-color);\n",
              "    }\n",
              "    40% {\n",
              "      border-color: transparent;\n",
              "      border-right-color: var(--fill-color);\n",
              "      border-top-color: var(--fill-color);\n",
              "    }\n",
              "    60% {\n",
              "      border-color: transparent;\n",
              "      border-right-color: var(--fill-color);\n",
              "    }\n",
              "    80% {\n",
              "      border-color: transparent;\n",
              "      border-right-color: var(--fill-color);\n",
              "      border-bottom-color: var(--fill-color);\n",
              "    }\n",
              "    90% {\n",
              "      border-color: transparent;\n",
              "      border-bottom-color: var(--fill-color);\n",
              "    }\n",
              "  }\n",
              "</style>\n",
              "\n",
              "  <script>\n",
              "    async function quickchart(key) {\n",
              "      const quickchartButtonEl =\n",
              "        document.querySelector('#' + key + ' button');\n",
              "      quickchartButtonEl.disabled = true;  // To prevent multiple clicks.\n",
              "      quickchartButtonEl.classList.add('colab-df-spinner');\n",
              "      try {\n",
              "        const charts = await google.colab.kernel.invokeFunction(\n",
              "            'suggestCharts', [key], {});\n",
              "      } catch (error) {\n",
              "        console.error('Error during call to suggestCharts:', error);\n",
              "      }\n",
              "      quickchartButtonEl.classList.remove('colab-df-spinner');\n",
              "      quickchartButtonEl.classList.add('colab-df-quickchart-complete');\n",
              "    }\n",
              "    (() => {\n",
              "      let quickchartButtonEl =\n",
              "        document.querySelector('#df-259f0b11-2b45-40e1-b241-a1edaf16f056 button');\n",
              "      quickchartButtonEl.style.display =\n",
              "        google.colab.kernel.accessAllowed ? 'block' : 'none';\n",
              "    })();\n",
              "  </script>\n",
              "</div>\n",
              "\n",
              "    </div>\n",
              "  </div>\n"
            ],
            "application/vnd.google.colaboratory.intrinsic+json": {
              "type": "dataframe",
              "variable_name": "data",
              "summary": "{\n  \"name\": \"data\",\n  \"rows\": 400,\n  \"fields\": [\n    {\n      \"column\": \"CustomerID\",\n      \"properties\": {\n        \"dtype\": \"number\",\n        \"std\": 115,\n        \"min\": 1,\n        \"max\": 400,\n        \"num_unique_values\": 400,\n        \"samples\": [\n          210,\n          281,\n          34\n        ],\n        \"semantic_type\": \"\",\n        \"description\": \"\"\n      }\n    },\n    {\n      \"column\": \"Income\",\n      \"properties\": {\n        \"dtype\": \"number\",\n        \"std\": 35.24427316507052,\n        \"min\": 10.354,\n        \"max\": 186.634,\n        \"num_unique_values\": 399,\n        \"samples\": [\n          27.349,\n          48.577,\n          31.367\n        ],\n        \"semantic_type\": \"\",\n        \"description\": \"\"\n      }\n    },\n    {\n      \"column\": \"Limit\",\n      \"properties\": {\n        \"dtype\": \"number\",\n        \"std\": 2308,\n        \"min\": 855,\n        \"max\": 13913,\n        \"num_unique_values\": 387,\n        \"samples\": [\n          3096,\n          1362,\n          6040\n        ],\n        \"semantic_type\": \"\",\n        \"description\": \"\"\n      }\n    },\n    {\n      \"column\": \"Rating\",\n      \"properties\": {\n        \"dtype\": \"number\",\n        \"std\": 154,\n        \"min\": 93,\n        \"max\": 982,\n        \"num_unique_values\": 283,\n        \"samples\": [\n          491,\n          329,\n          214\n        ],\n        \"semantic_type\": \"\",\n        \"description\": \"\"\n      }\n    },\n    {\n      \"column\": \"Cards\",\n      \"properties\": {\n        \"dtype\": \"number\",\n        \"std\": 1,\n        \"min\": 1,\n        \"max\": 9,\n        \"num_unique_values\": 9,\n        \"samples\": [\n          8,\n          3,\n          6\n        ],\n        \"semantic_type\": \"\",\n        \"description\": \"\"\n      }\n    },\n    {\n      \"column\": \"Age\",\n      \"properties\": {\n        \"dtype\": \"number\",\n        \"std\": 17,\n        \"min\": 23,\n        \"max\": 98,\n        \"num_unique_values\": 68,\n        \"samples\": [\n          52,\n          69,\n          68\n        ],\n        \"semantic_type\": \"\",\n        \"description\": \"\"\n      }\n    },\n    {\n      \"column\": \"Education\",\n      \"properties\": {\n        \"dtype\": \"number\",\n        \"std\": 3,\n        \"min\": 5,\n        \"max\": 20,\n        \"num_unique_values\": 16,\n        \"samples\": [\n          11,\n          15,\n          9\n        ],\n        \"semantic_type\": \"\",\n        \"description\": \"\"\n      }\n    },\n    {\n      \"column\": \"Gender\",\n      \"properties\": {\n        \"dtype\": \"category\",\n        \"num_unique_values\": 2,\n        \"samples\": [\n          \"Female\",\n          \"Male\"\n        ],\n        \"semantic_type\": \"\",\n        \"description\": \"\"\n      }\n    },\n    {\n      \"column\": \"Student\",\n      \"properties\": {\n        \"dtype\": \"category\",\n        \"num_unique_values\": 2,\n        \"samples\": [\n          \"Yes\",\n          \"No\"\n        ],\n        \"semantic_type\": \"\",\n        \"description\": \"\"\n      }\n    },\n    {\n      \"column\": \"Married\",\n      \"properties\": {\n        \"dtype\": \"category\",\n        \"num_unique_values\": 2,\n        \"samples\": [\n          \"No\",\n          \"Yes\"\n        ],\n        \"semantic_type\": \"\",\n        \"description\": \"\"\n      }\n    },\n    {\n      \"column\": \"Ethnicity\",\n      \"properties\": {\n        \"dtype\": \"category\",\n        \"num_unique_values\": 3,\n        \"samples\": [\n          \"Caucasian\",\n          \"Asian\"\n        ],\n        \"semantic_type\": \"\",\n        \"description\": \"\"\n      }\n    },\n    {\n      \"column\": \"Balance\",\n      \"properties\": {\n        \"dtype\": \"number\",\n        \"std\": 459,\n        \"min\": 0,\n        \"max\": 1999,\n        \"num_unique_values\": 284,\n        \"samples\": [\n          1350,\n          1405\n        ],\n        \"semantic_type\": \"\",\n        \"description\": \"\"\n      }\n    }\n  ]\n}"
            }
          },
          "metadata": {},
          "execution_count": 3
        }
      ],
      "source": [
        "data = data.rename( columns = {'Unnamed: 0' : 'CustomerID' })\n",
        "#data = data.set_index('CustomerID')\n",
        "data.head()"
      ]
    },
    {
      "cell_type": "code",
      "execution_count": 4,
      "metadata": {
        "id": "1epqNoQCanUh",
        "colab": {
          "base_uri": "https://localhost:8080/",
          "height": 300
        },
        "outputId": "4cd43933-20a6-4360-e025-253f0dcb0009"
      },
      "outputs": [
        {
          "output_type": "execute_result",
          "data": {
            "text/plain": [
              "       CustomerID  Income     Limit  Rating   Cards     Age  Education  \\\n",
              "count      400.00  400.00    400.00  400.00  400.00  400.00     400.00   \n",
              "mean       200.50   45.22   4735.60  354.94    2.96   55.67      13.45   \n",
              "std        115.61   35.24   2308.20  154.72    1.37   17.25       3.13   \n",
              "min          1.00   10.35    855.00   93.00    1.00   23.00       5.00   \n",
              "25%        100.75   21.01   3088.00  247.25    2.00   41.75      11.00   \n",
              "50%        200.50   33.12   4622.50  344.00    3.00   56.00      14.00   \n",
              "75%        300.25   57.47   5872.75  437.25    4.00   70.00      16.00   \n",
              "max        400.00  186.63  13913.00  982.00    9.00   98.00      20.00   \n",
              "\n",
              "       Balance  \n",
              "count   400.00  \n",
              "mean    520.02  \n",
              "std     459.76  \n",
              "min       0.00  \n",
              "25%      68.75  \n",
              "50%     459.50  \n",
              "75%     863.00  \n",
              "max    1999.00  "
            ],
            "text/html": [
              "\n",
              "  <div id=\"df-b5b6f2f0-cbba-464f-9fed-2538e873afab\" class=\"colab-df-container\">\n",
              "    <div>\n",
              "<style scoped>\n",
              "    .dataframe tbody tr th:only-of-type {\n",
              "        vertical-align: middle;\n",
              "    }\n",
              "\n",
              "    .dataframe tbody tr th {\n",
              "        vertical-align: top;\n",
              "    }\n",
              "\n",
              "    .dataframe thead th {\n",
              "        text-align: right;\n",
              "    }\n",
              "</style>\n",
              "<table border=\"1\" class=\"dataframe\">\n",
              "  <thead>\n",
              "    <tr style=\"text-align: right;\">\n",
              "      <th></th>\n",
              "      <th>CustomerID</th>\n",
              "      <th>Income</th>\n",
              "      <th>Limit</th>\n",
              "      <th>Rating</th>\n",
              "      <th>Cards</th>\n",
              "      <th>Age</th>\n",
              "      <th>Education</th>\n",
              "      <th>Balance</th>\n",
              "    </tr>\n",
              "  </thead>\n",
              "  <tbody>\n",
              "    <tr>\n",
              "      <th>count</th>\n",
              "      <td>400.00</td>\n",
              "      <td>400.00</td>\n",
              "      <td>400.00</td>\n",
              "      <td>400.00</td>\n",
              "      <td>400.00</td>\n",
              "      <td>400.00</td>\n",
              "      <td>400.00</td>\n",
              "      <td>400.00</td>\n",
              "    </tr>\n",
              "    <tr>\n",
              "      <th>mean</th>\n",
              "      <td>200.50</td>\n",
              "      <td>45.22</td>\n",
              "      <td>4735.60</td>\n",
              "      <td>354.94</td>\n",
              "      <td>2.96</td>\n",
              "      <td>55.67</td>\n",
              "      <td>13.45</td>\n",
              "      <td>520.02</td>\n",
              "    </tr>\n",
              "    <tr>\n",
              "      <th>std</th>\n",
              "      <td>115.61</td>\n",
              "      <td>35.24</td>\n",
              "      <td>2308.20</td>\n",
              "      <td>154.72</td>\n",
              "      <td>1.37</td>\n",
              "      <td>17.25</td>\n",
              "      <td>3.13</td>\n",
              "      <td>459.76</td>\n",
              "    </tr>\n",
              "    <tr>\n",
              "      <th>min</th>\n",
              "      <td>1.00</td>\n",
              "      <td>10.35</td>\n",
              "      <td>855.00</td>\n",
              "      <td>93.00</td>\n",
              "      <td>1.00</td>\n",
              "      <td>23.00</td>\n",
              "      <td>5.00</td>\n",
              "      <td>0.00</td>\n",
              "    </tr>\n",
              "    <tr>\n",
              "      <th>25%</th>\n",
              "      <td>100.75</td>\n",
              "      <td>21.01</td>\n",
              "      <td>3088.00</td>\n",
              "      <td>247.25</td>\n",
              "      <td>2.00</td>\n",
              "      <td>41.75</td>\n",
              "      <td>11.00</td>\n",
              "      <td>68.75</td>\n",
              "    </tr>\n",
              "    <tr>\n",
              "      <th>50%</th>\n",
              "      <td>200.50</td>\n",
              "      <td>33.12</td>\n",
              "      <td>4622.50</td>\n",
              "      <td>344.00</td>\n",
              "      <td>3.00</td>\n",
              "      <td>56.00</td>\n",
              "      <td>14.00</td>\n",
              "      <td>459.50</td>\n",
              "    </tr>\n",
              "    <tr>\n",
              "      <th>75%</th>\n",
              "      <td>300.25</td>\n",
              "      <td>57.47</td>\n",
              "      <td>5872.75</td>\n",
              "      <td>437.25</td>\n",
              "      <td>4.00</td>\n",
              "      <td>70.00</td>\n",
              "      <td>16.00</td>\n",
              "      <td>863.00</td>\n",
              "    </tr>\n",
              "    <tr>\n",
              "      <th>max</th>\n",
              "      <td>400.00</td>\n",
              "      <td>186.63</td>\n",
              "      <td>13913.00</td>\n",
              "      <td>982.00</td>\n",
              "      <td>9.00</td>\n",
              "      <td>98.00</td>\n",
              "      <td>20.00</td>\n",
              "      <td>1999.00</td>\n",
              "    </tr>\n",
              "  </tbody>\n",
              "</table>\n",
              "</div>\n",
              "    <div class=\"colab-df-buttons\">\n",
              "\n",
              "  <div class=\"colab-df-container\">\n",
              "    <button class=\"colab-df-convert\" onclick=\"convertToInteractive('df-b5b6f2f0-cbba-464f-9fed-2538e873afab')\"\n",
              "            title=\"Convert this dataframe to an interactive table.\"\n",
              "            style=\"display:none;\">\n",
              "\n",
              "  <svg xmlns=\"http://www.w3.org/2000/svg\" height=\"24px\" viewBox=\"0 -960 960 960\">\n",
              "    <path d=\"M120-120v-720h720v720H120Zm60-500h600v-160H180v160Zm220 220h160v-160H400v160Zm0 220h160v-160H400v160ZM180-400h160v-160H180v160Zm440 0h160v-160H620v160ZM180-180h160v-160H180v160Zm440 0h160v-160H620v160Z\"/>\n",
              "  </svg>\n",
              "    </button>\n",
              "\n",
              "  <style>\n",
              "    .colab-df-container {\n",
              "      display:flex;\n",
              "      gap: 12px;\n",
              "    }\n",
              "\n",
              "    .colab-df-convert {\n",
              "      background-color: #E8F0FE;\n",
              "      border: none;\n",
              "      border-radius: 50%;\n",
              "      cursor: pointer;\n",
              "      display: none;\n",
              "      fill: #1967D2;\n",
              "      height: 32px;\n",
              "      padding: 0 0 0 0;\n",
              "      width: 32px;\n",
              "    }\n",
              "\n",
              "    .colab-df-convert:hover {\n",
              "      background-color: #E2EBFA;\n",
              "      box-shadow: 0px 1px 2px rgba(60, 64, 67, 0.3), 0px 1px 3px 1px rgba(60, 64, 67, 0.15);\n",
              "      fill: #174EA6;\n",
              "    }\n",
              "\n",
              "    .colab-df-buttons div {\n",
              "      margin-bottom: 4px;\n",
              "    }\n",
              "\n",
              "    [theme=dark] .colab-df-convert {\n",
              "      background-color: #3B4455;\n",
              "      fill: #D2E3FC;\n",
              "    }\n",
              "\n",
              "    [theme=dark] .colab-df-convert:hover {\n",
              "      background-color: #434B5C;\n",
              "      box-shadow: 0px 1px 3px 1px rgba(0, 0, 0, 0.15);\n",
              "      filter: drop-shadow(0px 1px 2px rgba(0, 0, 0, 0.3));\n",
              "      fill: #FFFFFF;\n",
              "    }\n",
              "  </style>\n",
              "\n",
              "    <script>\n",
              "      const buttonEl =\n",
              "        document.querySelector('#df-b5b6f2f0-cbba-464f-9fed-2538e873afab button.colab-df-convert');\n",
              "      buttonEl.style.display =\n",
              "        google.colab.kernel.accessAllowed ? 'block' : 'none';\n",
              "\n",
              "      async function convertToInteractive(key) {\n",
              "        const element = document.querySelector('#df-b5b6f2f0-cbba-464f-9fed-2538e873afab');\n",
              "        const dataTable =\n",
              "          await google.colab.kernel.invokeFunction('convertToInteractive',\n",
              "                                                    [key], {});\n",
              "        if (!dataTable) return;\n",
              "\n",
              "        const docLinkHtml = 'Like what you see? Visit the ' +\n",
              "          '<a target=\"_blank\" href=https://colab.research.google.com/notebooks/data_table.ipynb>data table notebook</a>'\n",
              "          + ' to learn more about interactive tables.';\n",
              "        element.innerHTML = '';\n",
              "        dataTable['output_type'] = 'display_data';\n",
              "        await google.colab.output.renderOutput(dataTable, element);\n",
              "        const docLink = document.createElement('div');\n",
              "        docLink.innerHTML = docLinkHtml;\n",
              "        element.appendChild(docLink);\n",
              "      }\n",
              "    </script>\n",
              "  </div>\n",
              "\n",
              "\n",
              "<div id=\"df-4e3c8fbf-64f1-4b38-a42c-24fdc12c120a\">\n",
              "  <button class=\"colab-df-quickchart\" onclick=\"quickchart('df-4e3c8fbf-64f1-4b38-a42c-24fdc12c120a')\"\n",
              "            title=\"Suggest charts\"\n",
              "            style=\"display:none;\">\n",
              "\n",
              "<svg xmlns=\"http://www.w3.org/2000/svg\" height=\"24px\"viewBox=\"0 0 24 24\"\n",
              "     width=\"24px\">\n",
              "    <g>\n",
              "        <path d=\"M19 3H5c-1.1 0-2 .9-2 2v14c0 1.1.9 2 2 2h14c1.1 0 2-.9 2-2V5c0-1.1-.9-2-2-2zM9 17H7v-7h2v7zm4 0h-2V7h2v10zm4 0h-2v-4h2v4z\"/>\n",
              "    </g>\n",
              "</svg>\n",
              "  </button>\n",
              "\n",
              "<style>\n",
              "  .colab-df-quickchart {\n",
              "      --bg-color: #E8F0FE;\n",
              "      --fill-color: #1967D2;\n",
              "      --hover-bg-color: #E2EBFA;\n",
              "      --hover-fill-color: #174EA6;\n",
              "      --disabled-fill-color: #AAA;\n",
              "      --disabled-bg-color: #DDD;\n",
              "  }\n",
              "\n",
              "  [theme=dark] .colab-df-quickchart {\n",
              "      --bg-color: #3B4455;\n",
              "      --fill-color: #D2E3FC;\n",
              "      --hover-bg-color: #434B5C;\n",
              "      --hover-fill-color: #FFFFFF;\n",
              "      --disabled-bg-color: #3B4455;\n",
              "      --disabled-fill-color: #666;\n",
              "  }\n",
              "\n",
              "  .colab-df-quickchart {\n",
              "    background-color: var(--bg-color);\n",
              "    border: none;\n",
              "    border-radius: 50%;\n",
              "    cursor: pointer;\n",
              "    display: none;\n",
              "    fill: var(--fill-color);\n",
              "    height: 32px;\n",
              "    padding: 0;\n",
              "    width: 32px;\n",
              "  }\n",
              "\n",
              "  .colab-df-quickchart:hover {\n",
              "    background-color: var(--hover-bg-color);\n",
              "    box-shadow: 0 1px 2px rgba(60, 64, 67, 0.3), 0 1px 3px 1px rgba(60, 64, 67, 0.15);\n",
              "    fill: var(--button-hover-fill-color);\n",
              "  }\n",
              "\n",
              "  .colab-df-quickchart-complete:disabled,\n",
              "  .colab-df-quickchart-complete:disabled:hover {\n",
              "    background-color: var(--disabled-bg-color);\n",
              "    fill: var(--disabled-fill-color);\n",
              "    box-shadow: none;\n",
              "  }\n",
              "\n",
              "  .colab-df-spinner {\n",
              "    border: 2px solid var(--fill-color);\n",
              "    border-color: transparent;\n",
              "    border-bottom-color: var(--fill-color);\n",
              "    animation:\n",
              "      spin 1s steps(1) infinite;\n",
              "  }\n",
              "\n",
              "  @keyframes spin {\n",
              "    0% {\n",
              "      border-color: transparent;\n",
              "      border-bottom-color: var(--fill-color);\n",
              "      border-left-color: var(--fill-color);\n",
              "    }\n",
              "    20% {\n",
              "      border-color: transparent;\n",
              "      border-left-color: var(--fill-color);\n",
              "      border-top-color: var(--fill-color);\n",
              "    }\n",
              "    30% {\n",
              "      border-color: transparent;\n",
              "      border-left-color: var(--fill-color);\n",
              "      border-top-color: var(--fill-color);\n",
              "      border-right-color: var(--fill-color);\n",
              "    }\n",
              "    40% {\n",
              "      border-color: transparent;\n",
              "      border-right-color: var(--fill-color);\n",
              "      border-top-color: var(--fill-color);\n",
              "    }\n",
              "    60% {\n",
              "      border-color: transparent;\n",
              "      border-right-color: var(--fill-color);\n",
              "    }\n",
              "    80% {\n",
              "      border-color: transparent;\n",
              "      border-right-color: var(--fill-color);\n",
              "      border-bottom-color: var(--fill-color);\n",
              "    }\n",
              "    90% {\n",
              "      border-color: transparent;\n",
              "      border-bottom-color: var(--fill-color);\n",
              "    }\n",
              "  }\n",
              "</style>\n",
              "\n",
              "  <script>\n",
              "    async function quickchart(key) {\n",
              "      const quickchartButtonEl =\n",
              "        document.querySelector('#' + key + ' button');\n",
              "      quickchartButtonEl.disabled = true;  // To prevent multiple clicks.\n",
              "      quickchartButtonEl.classList.add('colab-df-spinner');\n",
              "      try {\n",
              "        const charts = await google.colab.kernel.invokeFunction(\n",
              "            'suggestCharts', [key], {});\n",
              "      } catch (error) {\n",
              "        console.error('Error during call to suggestCharts:', error);\n",
              "      }\n",
              "      quickchartButtonEl.classList.remove('colab-df-spinner');\n",
              "      quickchartButtonEl.classList.add('colab-df-quickchart-complete');\n",
              "    }\n",
              "    (() => {\n",
              "      let quickchartButtonEl =\n",
              "        document.querySelector('#df-4e3c8fbf-64f1-4b38-a42c-24fdc12c120a button');\n",
              "      quickchartButtonEl.style.display =\n",
              "        google.colab.kernel.accessAllowed ? 'block' : 'none';\n",
              "    })();\n",
              "  </script>\n",
              "</div>\n",
              "\n",
              "    </div>\n",
              "  </div>\n"
            ],
            "application/vnd.google.colaboratory.intrinsic+json": {
              "type": "dataframe",
              "summary": "{\n  \"name\": \"summary\",\n  \"rows\": 8,\n  \"fields\": [\n    {\n      \"column\": \"CustomerID\",\n      \"properties\": {\n        \"dtype\": \"number\",\n        \"std\": 143.8576953537766,\n        \"min\": 1.0,\n        \"max\": 400.0,\n        \"num_unique_values\": 6,\n        \"samples\": [\n          400.0,\n          200.5,\n          300.25\n        ],\n        \"semantic_type\": \"\",\n        \"description\": \"\"\n      }\n    },\n    {\n      \"column\": \"Income\",\n      \"properties\": {\n        \"dtype\": \"number\",\n        \"std\": 133.76030032433817,\n        \"min\": 10.35,\n        \"max\": 400.0,\n        \"num_unique_values\": 8,\n        \"samples\": [\n          45.22,\n          33.12,\n          400.0\n        ],\n        \"semantic_type\": \"\",\n        \"description\": \"\"\n      }\n    },\n    {\n      \"column\": \"Limit\",\n      \"properties\": {\n        \"dtype\": \"number\",\n        \"std\": 4266.94991181703,\n        \"min\": 400.0,\n        \"max\": 13913.0,\n        \"num_unique_values\": 8,\n        \"samples\": [\n          4735.6,\n          4622.5,\n          400.0\n        ],\n        \"semantic_type\": \"\",\n        \"description\": \"\"\n      }\n    },\n    {\n      \"column\": \"Rating\",\n      \"properties\": {\n        \"dtype\": \"number\",\n        \"std\": 272.2021724485576,\n        \"min\": 93.0,\n        \"max\": 982.0,\n        \"num_unique_values\": 8,\n        \"samples\": [\n          354.94,\n          344.0,\n          400.0\n        ],\n        \"semantic_type\": \"\",\n        \"description\": \"\"\n      }\n    },\n    {\n      \"column\": \"Cards\",\n      \"properties\": {\n        \"dtype\": \"number\",\n        \"std\": 140.2653619738061,\n        \"min\": 1.0,\n        \"max\": 400.0,\n        \"num_unique_values\": 8,\n        \"samples\": [\n          2.96,\n          3.0,\n          400.0\n        ],\n        \"semantic_type\": \"\",\n        \"description\": \"\"\n      }\n    },\n    {\n      \"column\": \"Age\",\n      \"properties\": {\n        \"dtype\": \"number\",\n        \"std\": 125.80661195859301,\n        \"min\": 17.25,\n        \"max\": 400.0,\n        \"num_unique_values\": 8,\n        \"samples\": [\n          55.67,\n          56.0,\n          400.0\n        ],\n        \"semantic_type\": \"\",\n        \"description\": \"\"\n      }\n    },\n    {\n      \"column\": \"Education\",\n      \"properties\": {\n        \"dtype\": \"number\",\n        \"std\": 137.362017701921,\n        \"min\": 3.13,\n        \"max\": 400.0,\n        \"num_unique_values\": 8,\n        \"samples\": [\n          13.45,\n          14.0,\n          400.0\n        ],\n        \"semantic_type\": \"\",\n        \"description\": \"\"\n      }\n    },\n    {\n      \"column\": \"Balance\",\n      \"properties\": {\n        \"dtype\": \"number\",\n        \"std\": 627.2717109363944,\n        \"min\": 0.0,\n        \"max\": 1999.0,\n        \"num_unique_values\": 8,\n        \"samples\": [\n          520.02,\n          459.5,\n          400.0\n        ],\n        \"semantic_type\": \"\",\n        \"description\": \"\"\n      }\n    }\n  ]\n}"
            }
          },
          "metadata": {},
          "execution_count": 4
        }
      ],
      "source": [
        "summary = data.describe()\n",
        "summary.round(2)"
      ]
    },
    {
      "cell_type": "markdown",
      "metadata": {
        "id": "oI4HKF0jAKmb"
      },
      "source": [
        ">As mentioned in previous labs, it is always important to check the types of each data entry in case of later of processings. We can start by getting an overview of our data set to be sure to what to expect."
      ]
    },
    {
      "cell_type": "code",
      "execution_count": 5,
      "metadata": {
        "id": "McXHYoub_3gP",
        "colab": {
          "base_uri": "https://localhost:8080/"
        },
        "outputId": "ca22ec81-48d4-4325-8868-c9a6bbf29371"
      },
      "outputs": [
        {
          "output_type": "stream",
          "name": "stdout",
          "text": [
            "<class 'pandas.core.frame.DataFrame'>\n",
            "RangeIndex: 400 entries, 0 to 399\n",
            "Data columns (total 12 columns):\n",
            " #   Column      Non-Null Count  Dtype  \n",
            "---  ------      --------------  -----  \n",
            " 0   CustomerID  400 non-null    int64  \n",
            " 1   Income      400 non-null    float64\n",
            " 2   Limit       400 non-null    int64  \n",
            " 3   Rating      400 non-null    int64  \n",
            " 4   Cards       400 non-null    int64  \n",
            " 5   Age         400 non-null    int64  \n",
            " 6   Education   400 non-null    int64  \n",
            " 7   Gender      400 non-null    object \n",
            " 8   Student     400 non-null    object \n",
            " 9   Married     400 non-null    object \n",
            " 10  Ethnicity   400 non-null    object \n",
            " 11  Balance     400 non-null    int64  \n",
            "dtypes: float64(1), int64(7), object(4)\n",
            "memory usage: 37.6+ KB\n"
          ]
        }
      ],
      "source": [
        "#get information from data frame\n",
        "data.info()"
      ]
    },
    {
      "cell_type": "markdown",
      "metadata": {
        "id": "T53kfj7_Hhdh"
      },
      "source": [
        ">Now, let's begin with the visualization. During the course of this lab, we will always apply the major guidlines for successful visualization presented in the course.\n",
        ">\n",
        ">As a refresher :<br>\n",
        "**1. Keep It Simple**<br>\n",
        "**2. Design and choose the visualization well**<br>\n",
        "**3. Know your audience, tell a story**<br>\n",
        "**4. Have graphical integrity**"
      ]
    },
    {
      "cell_type": "markdown",
      "metadata": {
        "id": "nqCQ9nrgCag2"
      },
      "source": [
        "#Static Visualizations"
      ]
    },
    {
      "cell_type": "markdown",
      "metadata": {
        "id": "1CyiuaAaAQt_"
      },
      "source": [
        "##Boxplots\n",
        "\n",
        ">These kinds of charts are a must when you need a statistical overview of numerical data. In a boxplot, we can see:\n",
        ">\n",
        ">- Mean\n",
        "- Median\n",
        "- Quartiles (1st and 3rd)\n",
        "- Minimum\n",
        "- Maximum\n",
        "- Outliers\n",
        ">\n",
        ">For instance, imagine we were to investigate the **income distribution**. Having information on the Income satistics can be of major help in identifying the outliers."
      ]
    },
    {
      "cell_type": "code",
      "execution_count": 6,
      "metadata": {
        "id": "RAru8Mk5Ar0U",
        "colab": {
          "base_uri": "https://localhost:8080/",
          "height": 445
        },
        "outputId": "d67ba1ac-25df-44bd-bee4-98fab0441b39"
      },
      "outputs": [
        {
          "output_type": "display_data",
          "data": {
            "text/plain": [
              "<Figure size 900x500 with 1 Axes>"
            ],
            "image/png": "[encoded data removed]"
          },
          "metadata": {}
        }
      ],
      "source": [
        "#using figure size to increase the window\n",
        "fig=plt.figure(figsize=(9,5))\n",
        "box_plot=data.boxplot(column='Income')"
      ]
    },
    {
      "cell_type": "markdown",
      "source": [
        ">Boxplots in Seaborn offer advanced capabilities to compare distributions across different categories. Unlike simple boxplots, Seaborn allows us to incorporate grouping variables using the `hue` parameter, enabling side-by-side comparison of multiple boxplots.\n",
        "\n",
        ">For instance, we can analyze the income distribution across different ethnicities according to the gender. This visualization helps in:\n",
        "- Comparing the spread of income between groups.\n",
        "- Identifying differences in median values across categories.\n",
        "- Highlighting variations and potential outliers within groups."
      ],
      "metadata": {
        "id": "vGsH5VvDpsog"
      }
    },
    {
      "cell_type": "code",
      "source": [
        "fig, ax = plt.subplots(figsize=(9, 5))\n",
        "graph = sns.boxplot(y='Income', hue='Ethnicity', x='Gender', data=data, ax=ax, palette='Set2')\n",
        "graph.set_xlabel('Gender')\n",
        "graph.set_ylabel('Income')\n",
        "ax.set_title(\"Income Distribution by Gender and Ethnicity\")\n",
        "plt.show();"
      ],
      "metadata": {
        "colab": {
          "base_uri": "https://localhost:8080/",
          "height": 487
        },
        "id": "OCusawbZof4r",
        "outputId": "5ba44855-21e2-489d-8993-ffba56405742"
      },
      "execution_count": 7,
      "outputs": [
        {
          "output_type": "display_data",
          "data": {
            "text/plain": [
              "<Figure size 900x500 with 1 Axes>"
            ],
            "image/png": "[encoded data removed]"
          },
          "metadata": {}
        }
      ]
    },
    {
      "cell_type": "markdown",
      "metadata": {
        "id": "p_Oxpt7_BDJr"
      },
      "source": [
        "##Bar plot/ Histogram\n",
        "\n",
        ">Now let's say we were to investigate the proportion of credit card holder per gender. Using a bar chart of each gender is a good way to gain rapid insights on this customer proportion.\n"
      ]
    },
    {
      "cell_type": "code",
      "execution_count": 8,
      "metadata": {
        "id": "tug4uXVqHC0_",
        "colab": {
          "base_uri": "https://localhost:8080/",
          "height": 506
        },
        "outputId": "55dc444a-8e9c-4bf9-d21c-928336014a14"
      },
      "outputs": [
        {
          "output_type": "display_data",
          "data": {
            "text/plain": [
              "<Figure size 800x500 with 1 Axes>"
            ],
            "image/png": "[encoded data removed]"
          },
          "metadata": {}
        }
      ],
      "source": [
        "data_bar = data['Gender'].value_counts()\n",
        "fig=plt.figure(figsize=(8,5))\n",
        "\n",
        "graph = data_bar.plot(kind= 'bar')\n",
        "\n",
        "# It is possible to add many details to a graph by using simple commands. eg.\n",
        "graph.set_title('Number of men and women', size=16)\n",
        "graph.set_xlabel('')\n",
        "txt=graph.set_ylabel('Number of people', size=14)\n"
      ]
    },
    {
      "cell_type": "markdown",
      "metadata": {
        "id": "KJ5DcJwFKZMR"
      },
      "source": [
        ">It's possible to do it horizontally too by setting the kind of bar plot to `barh`."
      ]
    },
    {
      "cell_type": "code",
      "execution_count": 9,
      "metadata": {
        "id": "IttcA3A6KgzL",
        "colab": {
          "base_uri": "https://localhost:8080/",
          "height": 506
        },
        "outputId": "e03aac5b-4658-4945-daa9-8167b7e0ccff"
      },
      "outputs": [
        {
          "output_type": "execute_result",
          "data": {
            "text/plain": [
              "Text(0.5, 0, 'Number of people')"
            ]
          },
          "metadata": {},
          "execution_count": 9
        },
        {
          "output_type": "display_data",
          "data": {
            "text/plain": [
              "<Figure size 800x500 with 1 Axes>"
            ],
            "image/png": "[encoded data removed]"
          },
          "metadata": {}
        }
      ],
      "source": [
        "fig=plt.figure(figsize=(8,5))\n",
        "\n",
        "data_bar = data['Gender'].value_counts()\n",
        "graph = data_bar.plot(kind= 'barh')\n",
        "graph.set_title('Number of men and women', size=16)\n",
        "graph.set_xlabel('Number of people', size=10)\n"
      ]
    },
    {
      "cell_type": "markdown",
      "metadata": {
        "id": "7K07jyPy4WLP"
      },
      "source": [
        ">Lastly, you have to keep in mind that granularity (how much datas are being shown on the graph) plays an important role in visualization.\n",
        "Here, let's take the example of the distribution of Income depending on Age."
      ]
    },
    {
      "cell_type": "code",
      "execution_count": 10,
      "metadata": {
        "id": "v-8USsKO5D0e",
        "colab": {
          "base_uri": "https://localhost:8080/",
          "height": 487
        },
        "outputId": "13ae3c1d-c3c7-417e-8683-d7abd5acca5e"
      },
      "outputs": [
        {
          "output_type": "display_data",
          "data": {
            "text/plain": [
              "<Figure size 800x500 with 1 Axes>"
            ],
            "image/png": "[encoded data removed]"
          },
          "metadata": {}
        }
      ],
      "source": [
        "fig=plt.figure(figsize=(8,5))\n",
        "\n",
        "hist = plt.hist(data.groupby('Age')['Income'].mean())\n",
        "plt.title(\"Histogram of Income depending on Age\")\n",
        "plt.xlabel(\"Income\")\n",
        "y =plt.ylabel(\"Age\")"
      ]
    },
    {
      "cell_type": "markdown",
      "metadata": {
        "id": "vkePOTmkLcIj"
      },
      "source": [
        ">Is there another kind of chart that comes to your mind when thinking about how to visualize data propotion ?"
      ]
    },
    {
      "cell_type": "markdown",
      "metadata": {
        "id": "rIXP1jW-Xb5P"
      },
      "source": [
        "##Pie chart\n",
        ">Let's have a look at the proportion of customers that are students in the customer base.\n"
      ]
    },
    {
      "cell_type": "code",
      "execution_count": 11,
      "metadata": {
        "id": "RiZqH_LzYyjq",
        "colab": {
          "base_uri": "https://localhost:8080/",
          "height": 463
        },
        "outputId": "fafbbe77-3251-4bd0-85e5-522478c2b96f"
      },
      "outputs": [
        {
          "output_type": "execute_result",
          "data": {
            "text/plain": [
              "Text(0.5, 1.0, 'Proportion of customers that are students')"
            ]
          },
          "metadata": {},
          "execution_count": 11
        },
        {
          "output_type": "display_data",
          "data": {
            "text/plain": [
              "<Figure size 900x500 with 1 Axes>"
            ],
            "image/png": "[encoded data removed]"
          },
          "metadata": {}
        }
      ],
      "source": [
        "data_pie = data['Student'].value_counts()\n",
        "labels= data['Student'].unique() #get the unique values that can take this column of our dataframe\n",
        "labels= labels.tolist() # and make it a list in order to label our further piechart\n",
        "fig=plt.figure(figsize=(9,5))\n",
        "\n",
        "graph = plt.pie(data_pie, labels= labels) #you can add as much parameters as you wish\n",
        "plt.title(\"Proportion of customers that are students\", size=16)"
      ]
    },
    {
      "cell_type": "markdown",
      "metadata": {
        "id": "kittvL2lfI1h"
      },
      "source": [
        "##Scatter plot and Lines plot\n",
        "\n",
        "###1. Lines plot\n",
        "\n",
        ">Now moving on to linear representations, Lines plot are used to represent the evolution of a value in function of another variable. For this example, we want to represent the evolution of `Income` with respect to the `Age`."
      ]
    },
    {
      "cell_type": "code",
      "execution_count": 12,
      "metadata": {
        "id": "N0SmS2kpNPmH",
        "colab": {
          "base_uri": "https://localhost:8080/",
          "height": 465
        },
        "outputId": "cd0dfcde-f0c3-4a8e-a88a-8374b20aca77"
      },
      "outputs": [
        {
          "output_type": "display_data",
          "data": {
            "text/plain": [
              "<Figure size 900x500 with 1 Axes>"
            ],
            "image/png": "[encoded data removed]"
          },
          "metadata": {}
        }
      ],
      "source": [
        "fig=plt.figure(figsize=(9,5))\n",
        "sb = sns.lineplot(x=data['Age'], y=data.groupby('Age')['Income'].mean(), errorbar=None) #We specify 'None' to not have the 95% ci plotted too but you can try to display it"
      ]
    },
    {
      "cell_type": "markdown",
      "source": [
        "And we can select the category of people we want, for example here is the evolution of income by age for the married people (to see more, you can directly go to the [seaborn library page]('https://seaborn.pydata.org/generated/seaborn.lineplot.html')):"
      ],
      "metadata": {
        "id": "XIgcmqNyCI0y"
      }
    },
    {
      "cell_type": "code",
      "source": [
        "fig=plt.figure(figsize=(9,5))\n",
        "income_active= data.query(\"Married == 'Yes'\")\n",
        "sb = sns.lineplot(data = income_active, x='Age', y=income_active.groupby('Age')['Income'].mean(), errorbar=None)"
      ],
      "metadata": {
        "id": "Ndgjrp8u-eno",
        "colab": {
          "base_uri": "https://localhost:8080/",
          "height": 465
        },
        "outputId": "05ee387b-5a3f-40f2-f5db-11f7def2d770"
      },
      "execution_count": 13,
      "outputs": [
        {
          "output_type": "display_data",
          "data": {
            "text/plain": [
              "<Figure size 900x500 with 1 Axes>"
            ],
            "image/png": "[encoded data removed]"
          },
          "metadata": {}
        }
      ]
    },
    {
      "cell_type": "markdown",
      "metadata": {
        "id": "ioprdXsimnWL"
      },
      "source": [
        "###2. Scatter plot\n",
        "\n",
        ">This kind of chart is very useful to visualize correlation between inputs. Let's check if device maximum debit limit is correlated with Monthly charges.\n",
        ">\n",
        ">You can plot a regression line by using the command **plt.plot**"
      ]
    },
    {
      "cell_type": "code",
      "execution_count": 14,
      "metadata": {
        "id": "gSlkeggFHw7C",
        "colab": {
          "base_uri": "https://localhost:8080/",
          "height": 487
        },
        "outputId": "123c0097-abb5-4f1c-b58c-0b31bc45d281"
      },
      "outputs": [
        {
          "output_type": "display_data",
          "data": {
            "text/plain": [
              "<Figure size 900x500 with 1 Axes>"
            ],
            "image/png": "[encoded data removed]"
          },
          "metadata": {}
        }
      ],
      "source": [
        "fig=plt.figure(figsize=(9,5))\n",
        "plt.scatter(data['Income'], data['Limit'], alpha=(1/2)) #alpha is the setting for the transparency of the regression line\n",
        "plot=plt.plot([0,200], [0,14000], color='red')\n",
        "plt.title(\"Income vs card Limit\")\n",
        "plt.xlabel(\"Income\")\n",
        "y =plt.ylabel(\"Card Limit\")"
      ]
    },
    {
      "cell_type": "markdown",
      "metadata": {
        "id": "d2ZwNaz-nzCA"
      },
      "source": [
        "##HeatMaps\n",
        "\n",
        ">Heatmaps enable you to visualize very easily the pearsons coefficient of correlation with an appropriate color map which can be changed depending on user's preferences.\n",
        ">\n",
        ">Let's try to create a heatmap of **correlations** of columns `Limit`, `Income`,`Age` and `Rating`.\n"
      ]
    },
    {
      "cell_type": "code",
      "execution_count": 15,
      "metadata": {
        "id": "g1Z6f0yePGil",
        "colab": {
          "base_uri": "https://localhost:8080/",
          "height": 408
        },
        "outputId": "5e4a6f1c-1e6f-47dd-bae5-33a6747f328c"
      },
      "outputs": [
        {
          "output_type": "execute_result",
          "data": {
            "text/plain": [
              "Text(0.5, 1.0, 'Heatmap of correlations between dataset features')"
            ]
          },
          "metadata": {},
          "execution_count": 15
        },
        {
          "output_type": "display_data",
          "data": {
            "text/plain": [
              "<Figure size 700x400 with 2 Axes>"
            ],
            "image/png": "[encoded data removed]"
          },
          "metadata": {}
        }
      ],
      "source": [
        "fig=plt.figure(figsize=(7,4))\n",
        "\n",
        "heat_map = data[['Limit','Income', 'Age', 'Rating']].corr() #We must ad .corr() here as we are looking for the correlations between our variables.\n",
        "sb= sns.heatmap(data = heat_map)\n",
        "plt.title('Heatmap of correlations between dataset features')"
      ]
    },
    {
      "cell_type": "markdown",
      "metadata": {
        "id": "44-ZDAZrDEex"
      },
      "source": [
        "#Interactive Visualization"
      ]
    },
    {
      "cell_type": "markdown",
      "metadata": {
        "id": "24hYcOvmTQWW"
      },
      "source": [
        "## Ipywidgets\n",
        ">In this second part of the lab, we move to more interactive representations. As a first instance, we introduce widgets.  Notebooks come alive when interactive widgets are used. Using widgets helps you gain control on data and enables you to visualize changes in the data."
      ]
    },
    {
      "cell_type": "code",
      "execution_count": 16,
      "metadata": {
        "id": "9E9AF25xRclR",
        "collapsed": true,
        "colab": {
          "base_uri": "https://localhost:8080/"
        },
        "outputId": "aa75fee3-e2a0-4b21-ace1-52a5269c71a2"
      },
      "outputs": [
        {
          "output_type": "stream",
          "name": "stdout",
          "text": [
            "Requirement already satisfied: ipywidgets in /usr/local/lib/python3.11/dist-packages (8.1.5)\n",
            "Requirement already satisfied: comm>=0.1.3 in /usr/local/lib/python3.11/dist-packages (from ipywidgets) (0.2.2)\n",
            "Requirement already satisfied: ipython>=6.1.0 in /usr/local/lib/python3.11/dist-packages (from ipywidgets) (7.34.0)\n",
            "Requirement already satisfied: traitlets>=4.3.1 in /usr/local/lib/python3.11/dist-packages (from ipywidgets) (5.7.1)\n",
            "Requirement already satisfied: widgetsnbextension~=4.0.12 in /usr/local/lib/python3.11/dist-packages (from ipywidgets) (4.0.13)\n",
            "Requirement already satisfied: jupyterlab-widgets~=3.0.12 in /usr/local/lib/python3.11/dist-packages (from ipywidgets) (3.0.13)\n",
            "Requirement already satisfied: setuptools>=18.5 in /usr/local/lib/python3.11/dist-packages (from ipython>=6.1.0->ipywidgets) (75.1.0)\n",
            "Requirement already satisfied: jedi>=0.16 in /usr/local/lib/python3.11/dist-packages (from ipython>=6.1.0->ipywidgets) (0.19.2)\n",
            "Requirement already satisfied: decorator in /usr/local/lib/python3.11/dist-packages (from ipython>=6.1.0->ipywidgets) (4.4.2)\n",
            "Requirement already satisfied: pickleshare in /usr/local/lib/python3.11/dist-packages (from ipython>=6.1.0->ipywidgets) (0.7.5)\n",
            "Requirement already satisfied: prompt-toolkit!=3.0.0,!=3.0.1,<3.1.0,>=2.0.0 in /usr/local/lib/python3.11/dist-packages (from ipython>=6.1.0->ipywidgets) (3.0.50)\n",
            "Requirement already satisfied: pygments in /usr/local/lib/python3.11/dist-packages (from ipython>=6.1.0->ipywidgets) (2.18.0)\n",
            "Requirement already satisfied: backcall in /usr/local/lib/python3.11/dist-packages (from ipython>=6.1.0->ipywidgets) (0.2.0)\n",
            "Requirement already satisfied: matplotlib-inline in /usr/local/lib/python3.11/dist-packages (from ipython>=6.1.0->ipywidgets) (0.1.7)\n",
            "Requirement already satisfied: pexpect>4.3 in /usr/local/lib/python3.11/dist-packages (from ipython>=6.1.0->ipywidgets) (4.9.0)\n",
            "Requirement already satisfied: parso<0.9.0,>=0.8.4 in /usr/local/lib/python3.11/dist-packages (from jedi>=0.16->ipython>=6.1.0->ipywidgets) (0.8.4)\n",
            "Requirement already satisfied: ptyprocess>=0.5 in /usr/local/lib/python3.11/dist-packages (from pexpect>4.3->ipython>=6.1.0->ipywidgets) (0.7.0)\n",
            "Requirement already satisfied: wcwidth in /usr/local/lib/python3.11/dist-packages (from prompt-toolkit!=3.0.0,!=3.0.1,<3.1.0,>=2.0.0->ipython>=6.1.0->ipywidgets) (0.2.13)\n"
          ]
        }
      ],
      "source": [
        "!pip install ipywidgets --upgrade"
      ]
    },
    {
      "cell_type": "code",
      "execution_count": 17,
      "metadata": {
        "id": "9FiqQRh8V6Rz"
      },
      "outputs": [],
      "source": [
        "import ipywidgets as widgets\n",
        "from ipywidgets import interact, interact_manual"
      ]
    },
    {
      "cell_type": "code",
      "execution_count": 18,
      "metadata": {
        "id": "Y9GkGODCcp04"
      },
      "outputs": [],
      "source": [
        "from __future__ import print_function\n",
        "from ipywidgets import interact, interactive, fixed, interact_manual\n",
        "import ipywidgets as widgets"
      ]
    },
    {
      "cell_type": "markdown",
      "metadata": {
        "id": "B2DFqFKrq2Yh"
      },
      "source": [
        ">In this example, we'll simply calculate the total amount of a loan considering the **Loan Amount**, the **Interest Rate** and the number of **Years** until the term of the loan."
      ]
    },
    {
      "cell_type": "code",
      "execution_count": 19,
      "metadata": {
        "id": "aH9ynxIHTnpZ"
      },
      "outputs": [],
      "source": [
        "def total_amount(amount,rate, years):\n",
        "  return (amount*pow((1+rate),years))"
      ]
    },
    {
      "cell_type": "code",
      "execution_count": 20,
      "metadata": {
        "id": "8xFMPCBteOBU",
        "colab": {
          "base_uri": "https://localhost:8080/",
          "height": 148,
          "referenced_widgets": [
            "9f8e90ab68564f3bb03803094dea69e4",
            "b559a2698aae4d8cb1a205aa115e135c",
            "c417eccdd51a41dab030802535482bd9",
            "ac2464137bc04358af790e246c0dc90a",
            "a9a47bdd7b7947c5a80d4e7773af0252",
            "36ac44ad628b4b2793dda2d4d9ad825a",
            "9cb170c666b94a18a3e068fd825f65d4",
            "1f4317c2ccd34af0b06cbfc04845e7af",
            "e4bb52bb9bc24accb66bfb5b7950c5a9",
            "d78cab2d290d4d0abf2fcd3d94077ad2",
            "1d3c7ac24b23455f9985716c0c649cb0",
            "9ffaf24cb37c4c56a6cf3777a043f88a",
            "0c22ce3cba8340a294ba294c77cd5a75"
          ]
        },
        "outputId": "1c0f5a9d-e389-4602-b43f-861737f4c8c9"
      },
      "outputs": [
        {
          "output_type": "display_data",
          "data": {
            "text/plain": [
              "interactive(children=(IntSlider(value=10, description='Initial Amount', max=300, min=10), FloatSlider(value=0.…"
            ],
            "application/vnd.jupyter.widget-view+json": {
              "version_major": 2,
              "version_minor": 0,
              "model_id": "9f8e90ab68564f3bb03803094dea69e4"
            }
          },
          "metadata": {}
        },
        {
          "output_type": "stream",
          "name": "stdout",
          "text": [
            "<function total_amount at 0x7bc2f32100e0>\n"
          ]
        }
      ],
      "source": [
        "interact(total_amount, amount= widgets.IntSlider(min=10, max=300, description=\"Initial Amount\"),\n",
        "         rate = widgets.FloatSlider(min=0, max= 1,step=0.01, description='Interest Rate'),\n",
        "         years= widgets.IntSlider(min=1, max=20, description='Term (years)'))\n",
        "print(total_amount)"
      ]
    },
    {
      "cell_type": "markdown",
      "source": [
        "> We can also create an interactive plot, mixing libraries ipywidgets and matplotlib. For that, we have to include the ploting our function in the `total_amount` function. As an outcome, we have the same sliders than previously, but you see the amount reimbursed over time."
      ],
      "metadata": {
        "id": "KXv2mQtVbFb6"
      }
    },
    {
      "cell_type": "code",
      "source": [
        "import numpy as np\n",
        "\n",
        "fig= plt.figure(figsize = (10, 5))\n",
        "\n",
        "def total_amount(amount, rate, years):\n",
        "    time = np.arange(1, years+1)\n",
        "    amount_reimbursed = [amount * pow((1+rate), t) for t in time]\n",
        "    plt.plot(time, amount_reimbursed)\n",
        "    plt.xlabel('Time (years)')\n",
        "    plt.ylabel('Amount Reimbursed')\n",
        "    plt.title('Amount Reimbursed Over Time')\n",
        "    plt.grid(True)\n",
        "    plt.show()\n",
        "\n",
        "amount_slider = widgets.IntSlider(min=10, max=300, description=\"Initial Amount\")\n",
        "rate_slider = widgets.FloatSlider(min=0, max=1, step=0.01, description='Interest Rate')\n",
        "years_slider = widgets.IntSlider(min=1, max=20, description='Term (years)')\n",
        "\n",
        "interact(total_amount, amount=amount_slider, rate=rate_slider, years=years_slider)"
      ],
      "metadata": {
        "id": "OFnnYw8lZyO8",
        "colab": {
          "base_uri": "https://localhost:8080/",
          "height": 672,
          "referenced_widgets": [
            "ea908634c5034c10af6772342fe4d87e",
            "9892fcad81444962bcde448c8d81a9ac",
            "f21e54d3b7784b8d90df0bb4f1b99aca",
            "d5b06af90b5648a3aba9b6f77d2d228b",
            "bfca8f22e0264347828fe35e63f86b23",
            "d337e1dd55a74f8cbc0a7b789937ea88",
            "a6e97a5c2cb54f62943c97cbece902ec",
            "06dbaf88ed314ef6bf4790602f4ab3c7",
            "dbcf15dda65b4aef982e81f3951d6ad9",
            "984feca95c22418781380eef4bd02434",
            "a26bd6b6e94b48b1840787e87b4e10b2",
            "44ab43639bab4bb795ff8371870ce9ce",
            "4c27dccd4cec4bd38a685b33e888a34b"
          ]
        },
        "outputId": "1c6f566c-efff-412d-db64-a521c3420e04"
      },
      "execution_count": 22,
      "outputs": [
        {
          "output_type": "display_data",
          "data": {
            "text/plain": [
              "<Figure size 1000x500 with 0 Axes>"
            ]
          },
          "metadata": {}
        },
        {
          "output_type": "display_data",
          "data": {
            "text/plain": [
              "interactive(children=(IntSlider(value=10, description='Initial Amount', max=300, min=10), FloatSlider(value=0.…"
            ],
            "application/vnd.jupyter.widget-view+json": {
              "version_major": 2,
              "version_minor": 0,
              "model_id": "ea908634c5034c10af6772342fe4d87e"
            }
          },
          "metadata": {}
        },
        {
          "output_type": "execute_result",
          "data": {
            "text/plain": [
              "<function __main__.total_amount(amount, rate, years)>"
            ],
            "text/html": [
              "<div style=\"max-width:800px; border: 1px solid var(--colab-border-color);\"><style>\n",
              "      pre.function-repr-contents {\n",
              "        overflow-x: auto;\n",
              "        padding: 8px 12px;\n",
              "        max-height: 500px;\n",
              "      }\n",
              "\n",
              "      pre.function-repr-contents.function-repr-contents-collapsed {\n",
              "        cursor: pointer;\n",
              "        max-height: 100px;\n",
              "      }\n",
              "    </style>\n",
              "    <pre style=\"white-space: initial; background:\n",
              "         var(--colab-secondary-surface-color); padding: 8px 12px;\n",
              "         border-bottom: 1px solid var(--colab-border-color);\"><b>total_amount</b><br/>def total_amount(amount, rate, years)</pre><pre class=\"function-repr-contents function-repr-contents-collapsed\" style=\"\"><a class=\"filepath\" style=\"display:none\" href=\"#\">/content/&lt;ipython-input-22-99457a26a781&gt;</a>&lt;no docstring&gt;</pre></div>"
            ]
          },
          "metadata": {},
          "execution_count": 22
        }
      ]
    },
    {
      "cell_type": "markdown",
      "metadata": {
        "id": "pXG53A1AQthU"
      },
      "source": [
        "> Here is another way to add sliders with Colab. You can either write **#@param** or click on the three dots to the right of a cell and click on **add form**. <br>\n",
        "Here is a [link](https://colab.research.google.com/notebooks/forms.ipynb) if you want to learn more about this feature of Colab."
      ]
    },
    {
      "cell_type": "code",
      "execution_count": 23,
      "metadata": {
        "id": "i4A0RIPmQwr5",
        "colab": {
          "base_uri": "https://localhost:8080/",
          "height": 489
        },
        "outputId": "9d05c686-0c49-4eac-b792-958832b2f9af"
      },
      "outputs": [
        {
          "output_type": "display_data",
          "data": {
            "text/plain": [
              "<Figure size 640x480 with 1 Axes>"
            ],
            "image/png": "[encoded data removed]"
          },
          "metadata": {}
        },
        {
          "output_type": "stream",
          "name": "stdout",
          "text": [
            "None\n"
          ]
        }
      ],
      "source": [
        "var_1 = 80 #@param {type:\"slider\", min:10, max:300, step:1}\n",
        "var_2 = 0.58 #@param {type:\"slider\", min:0, max:1, step:0.01}\n",
        "var_3 = 9 #@param {type:\"slider\", min:1, max:20, step:1}\n",
        "\n",
        "print(total_amount(var_1,var_2,var_3))"
      ]
    },
    {
      "cell_type": "markdown",
      "metadata": {
        "id": "urdZk-EiiNnf"
      },
      "source": [
        ">It is also, possible to use widgets as filters. Let's get back to our **credit** dataset and suppose that we want to limit the display of rows to just the rows for which the value in a particular column matches a particular categorical value.\n",
        ">\n",
        ">We can create a drop down list containing the distinct/unique values contained within the column, and use this to control the display of the dataframe rows. Adding an “All” option allows us to display all the rows.\n",
        ">\n",
        " >Here we want to filter the values regarding the **gender** of customers:"
      ]
    },
    {
      "cell_type": "code",
      "execution_count": 24,
      "metadata": {
        "id": "TgoKnOOxhWTk",
        "colab": {
          "base_uri": "https://localhost:8080/",
          "height": 605,
          "referenced_widgets": [
            "dc0d7a669c35451d93cca2a2dee52a62",
            "b3825db0eea94b879ca4b957db401630",
            "b466aab489954751a583e56e49d17fb5",
            "4bff7e67b7ed441aa7f5e9c2af1297bf",
            "b2c84b9a6fa84500a174431c26a7dee2",
            "08c051fc19b84e8fa96eb42a9501ad7b",
            "c20228d2bd0648b4929bbb7cba989d1f"
          ]
        },
        "outputId": "3d19654b-6577-4ff3-d010-6e3d6ede17a6"
      },
      "outputs": [
        {
          "output_type": "display_data",
          "data": {
            "text/plain": [
              "interactive(children=(Select(description='x', options=('All', 'Female', 'Male'), value='All'), Output()), _dom…"
            ],
            "application/vnd.jupyter.widget-view+json": {
              "version_major": 2,
              "version_minor": 0,
              "model_id": "dc0d7a669c35451d93cca2a2dee52a62"
            }
          },
          "metadata": {}
        },
        {
          "output_type": "execute_result",
          "data": {
            "text/plain": [
              "<function __main__.view(x='')>"
            ],
            "text/html": [
              "<div style=\"max-width:800px; border: 1px solid var(--colab-border-color);\"><style>\n",
              "      pre.function-repr-contents {\n",
              "        overflow-x: auto;\n",
              "        padding: 8px 12px;\n",
              "        max-height: 500px;\n",
              "      }\n",
              "\n",
              "      pre.function-repr-contents.function-repr-contents-collapsed {\n",
              "        cursor: pointer;\n",
              "        max-height: 100px;\n",
              "      }\n",
              "    </style>\n",
              "    <pre style=\"white-space: initial; background:\n",
              "         var(--colab-secondary-surface-color); padding: 8px 12px;\n",
              "         border-bottom: 1px solid var(--colab-border-color);\"><b>view</b><br/>def view(x=&#x27;&#x27;)</pre><pre class=\"function-repr-contents function-repr-contents-collapsed\" style=\"\"><a class=\"filepath\" style=\"display:none\" href=\"#\">/content/&lt;ipython-input-24-aa0557c0c146&gt;</a>&lt;no docstring&gt;</pre></div>"
            ]
          },
          "metadata": {},
          "execution_count": 24
        }
      ],
      "source": [
        "items = ['All']+sorted(data['Gender'].unique().tolist())\n",
        "\n",
        "def view(x=''):\n",
        "    if x=='All': return data\n",
        "    return data[data['Gender']==x]\n",
        "\n",
        "w = widgets.Select(options=items)\n",
        "interact(view, x=w)"
      ]
    },
    {
      "cell_type": "markdown",
      "metadata": {
        "id": "WLt2e2CvBXdO"
      },
      "source": [
        "##Folium\n",
        ">Sometimes, we need to show locations on maps. Here is a way to do so."
      ]
    },
    {
      "cell_type": "code",
      "execution_count": 25,
      "metadata": {
        "id": "osL_vga6SdgN",
        "colab": {
          "base_uri": "https://localhost:8080/"
        },
        "outputId": "aff9b833-5689-4f28-99c8-6c3db3f2b970"
      },
      "outputs": [
        {
          "output_type": "stream",
          "name": "stdout",
          "text": [
            "Requirement already satisfied: folium in /usr/local/lib/python3.11/dist-packages (0.19.4)\n",
            "Requirement already satisfied: branca>=0.6.0 in /usr/local/lib/python3.11/dist-packages (from folium) (0.8.1)\n",
            "Requirement already satisfied: jinja2>=2.9 in /usr/local/lib/python3.11/dist-packages (from folium) (3.1.5)\n",
            "Requirement already satisfied: numpy in /usr/local/lib/python3.11/dist-packages (from folium) (1.26.4)\n",
            "Requirement already satisfied: requests in /usr/local/lib/python3.11/dist-packages (from folium) (2.32.3)\n",
            "Requirement already satisfied: xyzservices in /usr/local/lib/python3.11/dist-packages (from folium) (2025.1.0)\n",
            "Requirement already satisfied: MarkupSafe>=2.0 in /usr/local/lib/python3.11/dist-packages (from jinja2>=2.9->folium) (3.0.2)\n",
            "Requirement already satisfied: charset-normalizer<4,>=2 in /usr/local/lib/python3.11/dist-packages (from requests->folium) (3.4.1)\n",
            "Requirement already satisfied: idna<4,>=2.5 in /usr/local/lib/python3.11/dist-packages (from requests->folium) (3.10)\n",
            "Requirement already satisfied: urllib3<3,>=1.21.1 in /usr/local/lib/python3.11/dist-packages (from requests->folium) (2.3.0)\n",
            "Requirement already satisfied: certifi>=2017.4.17 in /usr/local/lib/python3.11/dist-packages (from requests->folium) (2025.1.31)\n"
          ]
        }
      ],
      "source": [
        "!pip install folium --upgrade"
      ]
    },
    {
      "cell_type": "code",
      "execution_count": 26,
      "metadata": {
        "id": "Kza7Jb8ZCVjx",
        "colab": {
          "base_uri": "https://localhost:8080/",
          "height": 1000
        },
        "outputId": "52a6de72-c1aa-419d-fcf8-9e502e49d78f"
      },
      "outputs": [
        {
          "output_type": "display_data",
          "data": {
            "text/plain": [
              "<folium.folium.Map at 0x7bc2f25c6d10>"
            ],
            "text/html": [
              "<div style=\"width:100%;\"><div style=\"position:relative;width:100%;height:0;padding-bottom:60%;\"><span style=\"color:#565656\">Make this Notebook Trusted to load map: File -> Trust Notebook</span><iframe srcdoc=\"&lt;!DOCTYPE html&gt;\n",
              "&lt;html&gt;\n",
              "&lt;head&gt;\n",
              "    \n",
              "    &lt;meta http-equiv=&quot;content-type&quot; content=&quot;text/html; charset=UTF-8&quot; /&gt;\n",
              "    \n",
              "        &lt;script&gt;\n",
              "            L_NO_TOUCH = false;\n",
              "            L_DISABLE_3D = false;\n",
              "        &lt;/script&gt;\n",
              "    \n",
              "    &lt;style&gt;html, body {width: 100%;height: 100%;margin: 0;padding: 0;}&lt;/style&gt;\n",
              "    &lt;style&gt;#map {position:absolute;top:0;bottom:0;right:0;left:0;}&lt;/style&gt;\n",
              "    &lt;script src=&quot;https://cdn.jsdelivr.net/npm/leaflet@1.9.3/dist/leaflet.js&quot;&gt;&lt;/script&gt;\n",
              "    &lt;script src=&quot;https://code.jquery.com/jquery-3.7.1.min.js&quot;&gt;&lt;/script&gt;\n",
              "    &lt;script src=&quot;https://cdn.jsdelivr.net/npm/bootstrap@5.2.2/dist/js/bootstrap.bundle.min.js&quot;&gt;&lt;/script&gt;\n",
              "    &lt;script src=&quot;https://cdnjs.cloudflare.com/ajax/libs/Leaflet.awesome-markers/2.0.2/leaflet.awesome-markers.js&quot;&gt;&lt;/script&gt;\n",
              "    &lt;link rel=&quot;stylesheet&quot; href=&quot;https://cdn.jsdelivr.net/npm/leaflet@1.9.3/dist/leaflet.css&quot;/&gt;\n",
              "    &lt;link rel=&quot;stylesheet&quot; href=&quot;https://cdn.jsdelivr.net/npm/bootstrap@5.2.2/dist/css/bootstrap.min.css&quot;/&gt;\n",
              "    &lt;link rel=&quot;stylesheet&quot; href=&quot;https://netdna.bootstrapcdn.com/bootstrap/3.0.0/css/bootstrap-glyphicons.css&quot;/&gt;\n",
              "    &lt;link rel=&quot;stylesheet&quot; href=&quot;https://cdn.jsdelivr.net/npm/@fortawesome/fontawesome-free@6.2.0/css/all.min.css&quot;/&gt;\n",
              "    &lt;link rel=&quot;stylesheet&quot; href=&quot;https://cdnjs.cloudflare.com/ajax/libs/Leaflet.awesome-markers/2.0.2/leaflet.awesome-markers.css&quot;/&gt;\n",
              "    &lt;link rel=&quot;stylesheet&quot; href=&quot;https://cdn.jsdelivr.net/gh/python-visualization/folium/folium/templates/leaflet.awesome.rotate.min.css&quot;/&gt;\n",
              "    \n",
              "            &lt;meta name=&quot;viewport&quot; content=&quot;width=device-width,\n",
              "                initial-scale=1.0, maximum-scale=1.0, user-scalable=no&quot; /&gt;\n",
              "            &lt;style&gt;\n",
              "                #map_405dae71dbc918c79fe7e03b14347d7c {\n",
              "                    position: relative;\n",
              "                    width: 1000.0px;\n",
              "                    height: 500.0px;\n",
              "                    left: 0.0%;\n",
              "                    top: 0.0%;\n",
              "                }\n",
              "                .leaflet-container { font-size: 1rem; }\n",
              "            &lt;/style&gt;\n",
              "        \n",
              "&lt;/head&gt;\n",
              "&lt;body&gt;\n",
              "    \n",
              "    \n",
              "            &lt;div class=&quot;folium-map&quot; id=&quot;map_405dae71dbc918c79fe7e03b14347d7c&quot; &gt;&lt;/div&gt;\n",
              "        \n",
              "&lt;/body&gt;\n",
              "&lt;script&gt;\n",
              "    \n",
              "    \n",
              "            var map_405dae71dbc918c79fe7e03b14347d7c = L.map(\n",
              "                &quot;map_405dae71dbc918c79fe7e03b14347d7c&quot;,\n",
              "                {\n",
              "                    center: [46.5211, 6.5802],\n",
              "                    crs: L.CRS.EPSG3857,\n",
              "                    ...{\n",
              "  &quot;zoom&quot;: 15.5,\n",
              "  &quot;zoomControl&quot;: true,\n",
              "  &quot;preferCanvas&quot;: false,\n",
              "}\n",
              "\n",
              "                }\n",
              "            );\n",
              "\n",
              "            \n",
              "\n",
              "        \n",
              "    \n",
              "            var tile_layer_6cd36b9dfb5f9a3594486f637cd899ad = L.tileLayer(\n",
              "                &quot;https://tile.openstreetmap.org/{z}/{x}/{y}.png&quot;,\n",
              "                {\n",
              "  &quot;minZoom&quot;: 0,\n",
              "  &quot;maxZoom&quot;: 19,\n",
              "  &quot;maxNativeZoom&quot;: 19,\n",
              "  &quot;noWrap&quot;: false,\n",
              "  &quot;attribution&quot;: &quot;\\u0026copy; \\u003ca href=\\&quot;https://www.openstreetmap.org/copyright\\&quot;\\u003eOpenStreetMap\\u003c/a\\u003e contributors&quot;,\n",
              "  &quot;subdomains&quot;: &quot;abc&quot;,\n",
              "  &quot;detectRetina&quot;: false,\n",
              "  &quot;tms&quot;: false,\n",
              "  &quot;opacity&quot;: 1,\n",
              "}\n",
              "\n",
              "            );\n",
              "        \n",
              "    \n",
              "            tile_layer_6cd36b9dfb5f9a3594486f637cd899ad.addTo(map_405dae71dbc918c79fe7e03b14347d7c);\n",
              "        \n",
              "    \n",
              "            var circle_226d391ab3a6e74569edf0649282a2a9 = L.circle(\n",
              "                [46.5213, 6.5741],\n",
              "                {&quot;bubblingMouseEvents&quot;: true, &quot;color&quot;: &quot;#3388ff&quot;, &quot;dashArray&quot;: null, &quot;dashOffset&quot;: null, &quot;fill&quot;: true, &quot;fillColor&quot;: &quot;crimson&quot;, &quot;fillOpacity&quot;: 0.2, &quot;fillRule&quot;: &quot;evenodd&quot;, &quot;lineCap&quot;: &quot;round&quot;, &quot;lineJoin&quot;: &quot;round&quot;, &quot;opacity&quot;: 1.0, &quot;radius&quot;: 40.0, &quot;stroke&quot;: true, &quot;weight&quot;: 3}\n",
              "            ).addTo(map_405dae71dbc918c79fe7e03b14347d7c);\n",
              "        \n",
              "    \n",
              "        var popup_dfe4246f53619e4bf3418698fb77ffc8 = L.popup({\n",
              "  &quot;maxWidth&quot;: &quot;100%&quot;,\n",
              "});\n",
              "\n",
              "        \n",
              "            \n",
              "                var html_a370a4b20c6e3507021b67dd01d6c089 = $(`&lt;div id=&quot;html_a370a4b20c6e3507021b67dd01d6c089&quot; style=&quot;width: 100.0%; height: 100.0%;&quot;&gt;Amphimax&lt;/div&gt;`)[0];\n",
              "                popup_dfe4246f53619e4bf3418698fb77ffc8.setContent(html_a370a4b20c6e3507021b67dd01d6c089);\n",
              "            \n",
              "        \n",
              "\n",
              "        circle_226d391ab3a6e74569edf0649282a2a9.bindPopup(popup_dfe4246f53619e4bf3418698fb77ffc8)\n",
              "        ;\n",
              "\n",
              "        \n",
              "    \n",
              "    \n",
              "            var circle_d881e958b9178b8a8a8568f7b5400dbc = L.circle(\n",
              "                [46.5236, 6.5846],\n",
              "                {&quot;bubblingMouseEvents&quot;: true, &quot;color&quot;: &quot;#3388ff&quot;, &quot;dashArray&quot;: null, &quot;dashOffset&quot;: null, &quot;fill&quot;: true, &quot;fillColor&quot;: &quot;crimson&quot;, &quot;fillOpacity&quot;: 0.2, &quot;fillRule&quot;: &quot;evenodd&quot;, &quot;lineCap&quot;: &quot;round&quot;, &quot;lineJoin&quot;: &quot;round&quot;, &quot;opacity&quot;: 1.0, &quot;radius&quot;: 100.0, &quot;stroke&quot;: true, &quot;weight&quot;: 3}\n",
              "            ).addTo(map_405dae71dbc918c79fe7e03b14347d7c);\n",
              "        \n",
              "    \n",
              "        var popup_752c8d62e02dd1d394bc196973f1fc5d = L.popup({\n",
              "  &quot;maxWidth&quot;: &quot;100%&quot;,\n",
              "});\n",
              "\n",
              "        \n",
              "            \n",
              "                var html_724f81f51de0429934975c6ce8a89a1b = $(`&lt;div id=&quot;html_724f81f51de0429934975c6ce8a89a1b&quot; style=&quot;width: 100.0%; height: 100.0%;&quot;&gt;Anthropole&lt;/div&gt;`)[0];\n",
              "                popup_752c8d62e02dd1d394bc196973f1fc5d.setContent(html_724f81f51de0429934975c6ce8a89a1b);\n",
              "            \n",
              "        \n",
              "\n",
              "        circle_d881e958b9178b8a8a8568f7b5400dbc.bindPopup(popup_752c8d62e02dd1d394bc196973f1fc5d)\n",
              "        ;\n",
              "\n",
              "        \n",
              "    \n",
              "    \n",
              "            var circle_7fb52fba19b0012081234622a1ff5964 = L.circle(\n",
              "                [46.5209, 6.5769],\n",
              "                {&quot;bubblingMouseEvents&quot;: true, &quot;color&quot;: &quot;#3388ff&quot;, &quot;dashArray&quot;: null, &quot;dashOffset&quot;: null, &quot;fill&quot;: true, &quot;fillColor&quot;: &quot;crimson&quot;, &quot;fillOpacity&quot;: 0.2, &quot;fillRule&quot;: &quot;evenodd&quot;, &quot;lineCap&quot;: &quot;round&quot;, &quot;lineJoin&quot;: &quot;round&quot;, &quot;opacity&quot;: 1.0, &quot;radius&quot;: 80.0, &quot;stroke&quot;: true, &quot;weight&quot;: 3}\n",
              "            ).addTo(map_405dae71dbc918c79fe7e03b14347d7c);\n",
              "        \n",
              "    \n",
              "        var popup_c8928909f61fbaf3307244aa080cb88f = L.popup({\n",
              "  &quot;maxWidth&quot;: &quot;100%&quot;,\n",
              "});\n",
              "\n",
              "        \n",
              "            \n",
              "                var html_c18cc5d21d5bae7273a2c4163baafcd3 = $(`&lt;div id=&quot;html_c18cc5d21d5bae7273a2c4163baafcd3&quot; style=&quot;width: 100.0%; height: 100.0%;&quot;&gt;Biophore&lt;/div&gt;`)[0];\n",
              "                popup_c8928909f61fbaf3307244aa080cb88f.setContent(html_c18cc5d21d5bae7273a2c4163baafcd3);\n",
              "            \n",
              "        \n",
              "\n",
              "        circle_7fb52fba19b0012081234622a1ff5964.bindPopup(popup_c8928909f61fbaf3307244aa080cb88f)\n",
              "        ;\n",
              "\n",
              "        \n",
              "    \n",
              "    \n",
              "            var circle_0befa20613f53cb962838531b0dfea8c = L.circle(\n",
              "                [46.5228, 6.5796],\n",
              "                {&quot;bubblingMouseEvents&quot;: true, &quot;color&quot;: &quot;#3388ff&quot;, &quot;dashArray&quot;: null, &quot;dashOffset&quot;: null, &quot;fill&quot;: true, &quot;fillColor&quot;: &quot;crimson&quot;, &quot;fillOpacity&quot;: 0.2, &quot;fillRule&quot;: &quot;evenodd&quot;, &quot;lineCap&quot;: &quot;round&quot;, &quot;lineJoin&quot;: &quot;round&quot;, &quot;opacity&quot;: 1.0, &quot;radius&quot;: 60.0, &quot;stroke&quot;: true, &quot;weight&quot;: 3}\n",
              "            ).addTo(map_405dae71dbc918c79fe7e03b14347d7c);\n",
              "        \n",
              "    \n",
              "        var popup_c6237ced556de8b999352daf4d5d7e8a = L.popup({\n",
              "  &quot;maxWidth&quot;: &quot;100%&quot;,\n",
              "});\n",
              "\n",
              "        \n",
              "            \n",
              "                var html_64c5e8e21e0cef6c82925be36bdb02ae = $(`&lt;div id=&quot;html_64c5e8e21e0cef6c82925be36bdb02ae&quot; style=&quot;width: 100.0%; height: 100.0%;&quot;&gt;Banane&lt;/div&gt;`)[0];\n",
              "                popup_c6237ced556de8b999352daf4d5d7e8a.setContent(html_64c5e8e21e0cef6c82925be36bdb02ae);\n",
              "            \n",
              "        \n",
              "\n",
              "        circle_0befa20613f53cb962838531b0dfea8c.bindPopup(popup_c6237ced556de8b999352daf4d5d7e8a)\n",
              "        ;\n",
              "\n",
              "        \n",
              "    \n",
              "&lt;/script&gt;\n",
              "&lt;/html&gt;\" style=\"position:absolute;width:100%;height:100%;left:0;top:0;border:none !important;\" allowfullscreen webkitallowfullscreen mozallowfullscreen></iframe></div></div>"
            ]
          },
          "metadata": {}
        }
      ],
      "source": [
        "import folium\n",
        "df2 = pd.DataFrame({\n",
        "   'lon':[46.5213,46.5236, 46.5209, 46.5228],\n",
        "   'lat':[6.5741, 6.5846, 6.5769, 6.5796],\n",
        "   'name':['Amphimax', 'Anthropole', 'Biophore', 'Banane'],\n",
        "   'value':[20, 50, 40, 30]\n",
        "})\n",
        "# Create an empty map\n",
        "v = folium.Map(location=[46.5211,  6.5802], zoom_start=15.5, width= 1000, height = 500)\n",
        "\n",
        "# Add marker one by one on the map\n",
        "for i in range(0,len(df2)):\n",
        "   folium.Circle(\n",
        "      location=[df2.iloc[i]['lon'], df2.iloc[i]['lat']],\n",
        "      popup=df2.iloc[i]['name'],\n",
        "      radius=float(df2.iloc[i]['value'])*2,\n",
        "      fill=True,\n",
        "      fill_color='crimson'\n",
        "   ).add_to(v)\n",
        "# Show the map\n",
        "display(v)"
      ]
    },
    {
      "cell_type": "markdown",
      "metadata": {
        "id": "OvSTZxZJoKWw"
      },
      "source": [
        "##Plotly"
      ]
    },
    {
      "cell_type": "markdown",
      "metadata": {
        "id": "m8HOA5sEAzWd"
      },
      "source": [
        "### Treemap"
      ]
    },
    {
      "cell_type": "markdown",
      "metadata": {
        "id": "4_l-xf9GoQY2"
      },
      "source": [
        ">Lastly, Treemaps allow to display hierarchical data using nested rectangles. Label based, this visualiation allow all sorts of dynamic manipulations such as zooming, sector clicking etc... Execute the next cell and play with the Tree map.\n",
        "We will be using the [`plotly`](https://plotly.com) library and specifically the `express` package.\n",
        "\n",
        "\n",
        "\n",
        "\n",
        "\n"
      ]
    },
    {
      "cell_type": "code",
      "execution_count": 27,
      "metadata": {
        "id": "Z3VxjS2J410Y",
        "colab": {
          "base_uri": "https://localhost:8080/"
        },
        "outputId": "3b7804ae-90af-4dc1-915b-377089fd17aa"
      },
      "outputs": [
        {
          "output_type": "stream",
          "name": "stdout",
          "text": [
            "Requirement already satisfied: plotly in /usr/local/lib/python3.11/dist-packages (5.24.1)\n",
            "Collecting plotly\n",
            "  Downloading plotly-6.0.0-py3-none-any.whl.metadata (5.6 kB)\n",
            "Requirement already satisfied: narwhals>=1.15.1 in /usr/local/lib/python3.11/dist-packages (from plotly) (1.27.1)\n",
            "Requirement already satisfied: packaging in /usr/local/lib/python3.11/dist-packages (from plotly) (24.2)\n",
            "Downloading plotly-6.0.0-py3-none-any.whl (14.8 MB)\n",
            "\u001b[2K   \u001b[90m━━━━━━━━━━━━━━━━━━━━━━━━━━━━━━━━━━━━━━━━\u001b[0m \u001b[32m14.8/14.8 MB\u001b[0m \u001b[31m30.4 MB/s\u001b[0m eta \u001b[36m0:00:00\u001b[0m\n",
            "\u001b[?25hInstalling collected packages: plotly\n",
            "  Attempting uninstall: plotly\n",
            "    Found existing installation: plotly 5.24.1\n",
            "    Uninstalling plotly-5.24.1:\n",
            "      Successfully uninstalled plotly-5.24.1\n",
            "Successfully installed plotly-6.0.0\n"
          ]
        }
      ],
      "source": [
        "# will probably not need it but incase of a 'path' error\n",
        "!pip install plotly --upgrade\n"
      ]
    },
    {
      "cell_type": "markdown",
      "metadata": {
        "id": "DzG-21grsY_x"
      },
      "source": [
        ">Here, we get back to our initial dataset and are going to use Treemap to visualize the income repartition according to marital status, academic situation, gender and ethnicity.\n",
        "\n"
      ]
    },
    {
      "cell_type": "code",
      "execution_count": 28,
      "metadata": {
        "id": "kPwZXRpVsWmu",
        "colab": {
          "base_uri": "https://localhost:8080/",
          "height": 206
        },
        "outputId": "3516c9b5-a42a-41bf-d4da-e94b7c031850"
      },
      "outputs": [
        {
          "output_type": "execute_result",
          "data": {
            "text/plain": [
              "   CustomerID   Income  Limit  Rating  Cards  Age  Education  Gender Student  \\\n",
              "0           1   14.891   3606     283      2   34         11    Male      No   \n",
              "1           2  106.025   6645     483      3   82         15  Female     Yes   \n",
              "2           3  104.593   7075     514      4   71         11    Male      No   \n",
              "3           4  148.924   9504     681      3   36         11  Female      No   \n",
              "4           5   55.882   4897     357      2   68         16    Male      No   \n",
              "\n",
              "  Married  Ethnicity  Balance  \n",
              "0     Yes  Caucasian      333  \n",
              "1     Yes      Asian      903  \n",
              "2      No      Asian      580  \n",
              "3      No      Asian      964  \n",
              "4     Yes  Caucasian      331  "
            ],
            "text/html": [
              "\n",
              "  <div id=\"df-37dc9cf8-6d7c-4ee9-a428-b916e9ceaaa1\" class=\"colab-df-container\">\n",
              "    <div>\n",
              "<style scoped>\n",
              "    .dataframe tbody tr th:only-of-type {\n",
              "        vertical-align: middle;\n",
              "    }\n",
              "\n",
              "    .dataframe tbody tr th {\n",
              "        vertical-align: top;\n",
              "    }\n",
              "\n",
              "    .dataframe thead th {\n",
              "        text-align: right;\n",
              "    }\n",
              "</style>\n",
              "<table border=\"1\" class=\"dataframe\">\n",
              "  <thead>\n",
              "    <tr style=\"text-align: right;\">\n",
              "      <th></th>\n",
              "      <th>CustomerID</th>\n",
              "      <th>Income</th>\n",
              "      <th>Limit</th>\n",
              "      <th>Rating</th>\n",
              "      <th>Cards</th>\n",
              "      <th>Age</th>\n",
              "      <th>Education</th>\n",
              "      <th>Gender</th>\n",
              "      <th>Student</th>\n",
              "      <th>Married</th>\n",
              "      <th>Ethnicity</th>\n",
              "      <th>Balance</th>\n",
              "    </tr>\n",
              "  </thead>\n",
              "  <tbody>\n",
              "    <tr>\n",
              "      <th>0</th>\n",
              "      <td>1</td>\n",
              "      <td>14.891</td>\n",
              "      <td>3606</td>\n",
              "      <td>283</td>\n",
              "      <td>2</td>\n",
              "      <td>34</td>\n",
              "      <td>11</td>\n",
              "      <td>Male</td>\n",
              "      <td>No</td>\n",
              "      <td>Yes</td>\n",
              "      <td>Caucasian</td>\n",
              "      <td>333</td>\n",
              "    </tr>\n",
              "    <tr>\n",
              "      <th>1</th>\n",
              "      <td>2</td>\n",
              "      <td>106.025</td>\n",
              "      <td>6645</td>\n",
              "      <td>483</td>\n",
              "      <td>3</td>\n",
              "      <td>82</td>\n",
              "      <td>15</td>\n",
              "      <td>Female</td>\n",
              "      <td>Yes</td>\n",
              "      <td>Yes</td>\n",
              "      <td>Asian</td>\n",
              "      <td>903</td>\n",
              "    </tr>\n",
              "    <tr>\n",
              "      <th>2</th>\n",
              "      <td>3</td>\n",
              "      <td>104.593</td>\n",
              "      <td>7075</td>\n",
              "      <td>514</td>\n",
              "      <td>4</td>\n",
              "      <td>71</td>\n",
              "      <td>11</td>\n",
              "      <td>Male</td>\n",
              "      <td>No</td>\n",
              "      <td>No</td>\n",
              "      <td>Asian</td>\n",
              "      <td>580</td>\n",
              "    </tr>\n",
              "    <tr>\n",
              "      <th>3</th>\n",
              "      <td>4</td>\n",
              "      <td>148.924</td>\n",
              "      <td>9504</td>\n",
              "      <td>681</td>\n",
              "      <td>3</td>\n",
              "      <td>36</td>\n",
              "      <td>11</td>\n",
              "      <td>Female</td>\n",
              "      <td>No</td>\n",
              "      <td>No</td>\n",
              "      <td>Asian</td>\n",
              "      <td>964</td>\n",
              "    </tr>\n",
              "    <tr>\n",
              "      <th>4</th>\n",
              "      <td>5</td>\n",
              "      <td>55.882</td>\n",
              "      <td>4897</td>\n",
              "      <td>357</td>\n",
              "      <td>2</td>\n",
              "      <td>68</td>\n",
              "      <td>16</td>\n",
              "      <td>Male</td>\n",
              "      <td>No</td>\n",
              "      <td>Yes</td>\n",
              "      <td>Caucasian</td>\n",
              "      <td>331</td>\n",
              "    </tr>\n",
              "  </tbody>\n",
              "</table>\n",
              "</div>\n",
              "    <div class=\"colab-df-buttons\">\n",
              "\n",
              "  <div class=\"colab-df-container\">\n",
              "    <button class=\"colab-df-convert\" onclick=\"convertToInteractive('df-37dc9cf8-6d7c-4ee9-a428-b916e9ceaaa1')\"\n",
              "            title=\"Convert this dataframe to an interactive table.\"\n",
              "            style=\"display:none;\">\n",
              "\n",
              "  <svg xmlns=\"http://www.w3.org/2000/svg\" height=\"24px\" viewBox=\"0 -960 960 960\">\n",
              "    <path d=\"M120-120v-720h720v720H120Zm60-500h600v-160H180v160Zm220 220h160v-160H400v160Zm0 220h160v-160H400v160ZM180-400h160v-160H180v160Zm440 0h160v-160H620v160ZM180-180h160v-160H180v160Zm440 0h160v-160H620v160Z\"/>\n",
              "  </svg>\n",
              "    </button>\n",
              "\n",
              "  <style>\n",
              "    .colab-df-container {\n",
              "      display:flex;\n",
              "      gap: 12px;\n",
              "    }\n",
              "\n",
              "    .colab-df-convert {\n",
              "      background-color: #E8F0FE;\n",
              "      border: none;\n",
              "      border-radius: 50%;\n",
              "      cursor: pointer;\n",
              "      display: none;\n",
              "      fill: #1967D2;\n",
              "      height: 32px;\n",
              "      padding: 0 0 0 0;\n",
              "      width: 32px;\n",
              "    }\n",
              "\n",
              "    .colab-df-convert:hover {\n",
              "      background-color: #E2EBFA;\n",
              "      box-shadow: 0px 1px 2px rgba(60, 64, 67, 0.3), 0px 1px 3px 1px rgba(60, 64, 67, 0.15);\n",
              "      fill: #174EA6;\n",
              "    }\n",
              "\n",
              "    .colab-df-buttons div {\n",
              "      margin-bottom: 4px;\n",
              "    }\n",
              "\n",
              "    [theme=dark] .colab-df-convert {\n",
              "      background-color: #3B4455;\n",
              "      fill: #D2E3FC;\n",
              "    }\n",
              "\n",
              "    [theme=dark] .colab-df-convert:hover {\n",
              "      background-color: #434B5C;\n",
              "      box-shadow: 0px 1px 3px 1px rgba(0, 0, 0, 0.15);\n",
              "      filter: drop-shadow(0px 1px 2px rgba(0, 0, 0, 0.3));\n",
              "      fill: #FFFFFF;\n",
              "    }\n",
              "  </style>\n",
              "\n",
              "    <script>\n",
              "      const buttonEl =\n",
              "        document.querySelector('#df-37dc9cf8-6d7c-4ee9-a428-b916e9ceaaa1 button.colab-df-convert');\n",
              "      buttonEl.style.display =\n",
              "        google.colab.kernel.accessAllowed ? 'block' : 'none';\n",
              "\n",
              "      async function convertToInteractive(key) {\n",
              "        const element = document.querySelector('#df-37dc9cf8-6d7c-4ee9-a428-b916e9ceaaa1');\n",
              "        const dataTable =\n",
              "          await google.colab.kernel.invokeFunction('convertToInteractive',\n",
              "                                                    [key], {});\n",
              "        if (!dataTable) return;\n",
              "\n",
              "        const docLinkHtml = 'Like what you see? Visit the ' +\n",
              "          '<a target=\"_blank\" href=https://colab.research.google.com/notebooks/data_table.ipynb>data table notebook</a>'\n",
              "          + ' to learn more about interactive tables.';\n",
              "        element.innerHTML = '';\n",
              "        dataTable['output_type'] = 'display_data';\n",
              "        await google.colab.output.renderOutput(dataTable, element);\n",
              "        const docLink = document.createElement('div');\n",
              "        docLink.innerHTML = docLinkHtml;\n",
              "        element.appendChild(docLink);\n",
              "      }\n",
              "    </script>\n",
              "  </div>\n",
              "\n",
              "\n",
              "<div id=\"df-b4fb3274-5909-44f0-865d-fb9a330be25e\">\n",
              "  <button class=\"colab-df-quickchart\" onclick=\"quickchart('df-b4fb3274-5909-44f0-865d-fb9a330be25e')\"\n",
              "            title=\"Suggest charts\"\n",
              "            style=\"display:none;\">\n",
              "\n",
              "<svg xmlns=\"http://www.w3.org/2000/svg\" height=\"24px\"viewBox=\"0 0 24 24\"\n",
              "     width=\"24px\">\n",
              "    <g>\n",
              "        <path d=\"M19 3H5c-1.1 0-2 .9-2 2v14c0 1.1.9 2 2 2h14c1.1 0 2-.9 2-2V5c0-1.1-.9-2-2-2zM9 17H7v-7h2v7zm4 0h-2V7h2v10zm4 0h-2v-4h2v4z\"/>\n",
              "    </g>\n",
              "</svg>\n",
              "  </button>\n",
              "\n",
              "<style>\n",
              "  .colab-df-quickchart {\n",
              "      --bg-color: #E8F0FE;\n",
              "      --fill-color: #1967D2;\n",
              "      --hover-bg-color: #E2EBFA;\n",
              "      --hover-fill-color: #174EA6;\n",
              "      --disabled-fill-color: #AAA;\n",
              "      --disabled-bg-color: #DDD;\n",
              "  }\n",
              "\n",
              "  [theme=dark] .colab-df-quickchart {\n",
              "      --bg-color: #3B4455;\n",
              "      --fill-color: #D2E3FC;\n",
              "      --hover-bg-color: #434B5C;\n",
              "      --hover-fill-color: #FFFFFF;\n",
              "      --disabled-bg-color: #3B4455;\n",
              "      --disabled-fill-color: #666;\n",
              "  }\n",
              "\n",
              "  .colab-df-quickchart {\n",
              "    background-color: var(--bg-color);\n",
              "    border: none;\n",
              "    border-radius: 50%;\n",
              "    cursor: pointer;\n",
              "    display: none;\n",
              "    fill: var(--fill-color);\n",
              "    height: 32px;\n",
              "    padding: 0;\n",
              "    width: 32px;\n",
              "  }\n",
              "\n",
              "  .colab-df-quickchart:hover {\n",
              "    background-color: var(--hover-bg-color);\n",
              "    box-shadow: 0 1px 2px rgba(60, 64, 67, 0.3), 0 1px 3px 1px rgba(60, 64, 67, 0.15);\n",
              "    fill: var(--button-hover-fill-color);\n",
              "  }\n",
              "\n",
              "  .colab-df-quickchart-complete:disabled,\n",
              "  .colab-df-quickchart-complete:disabled:hover {\n",
              "    background-color: var(--disabled-bg-color);\n",
              "    fill: var(--disabled-fill-color);\n",
              "    box-shadow: none;\n",
              "  }\n",
              "\n",
              "  .colab-df-spinner {\n",
              "    border: 2px solid var(--fill-color);\n",
              "    border-color: transparent;\n",
              "    border-bottom-color: var(--fill-color);\n",
              "    animation:\n",
              "      spin 1s steps(1) infinite;\n",
              "  }\n",
              "\n",
              "  @keyframes spin {\n",
              "    0% {\n",
              "      border-color: transparent;\n",
              "      border-bottom-color: var(--fill-color);\n",
              "      border-left-color: var(--fill-color);\n",
              "    }\n",
              "    20% {\n",
              "      border-color: transparent;\n",
              "      border-left-color: var(--fill-color);\n",
              "      border-top-color: var(--fill-color);\n",
              "    }\n",
              "    30% {\n",
              "      border-color: transparent;\n",
              "      border-left-color: var(--fill-color);\n",
              "      border-top-color: var(--fill-color);\n",
              "      border-right-color: var(--fill-color);\n",
              "    }\n",
              "    40% {\n",
              "      border-color: transparent;\n",
              "      border-right-color: var(--fill-color);\n",
              "      border-top-color: var(--fill-color);\n",
              "    }\n",
              "    60% {\n",
              "      border-color: transparent;\n",
              "      border-right-color: var(--fill-color);\n",
              "    }\n",
              "    80% {\n",
              "      border-color: transparent;\n",
              "      border-right-color: var(--fill-color);\n",
              "      border-bottom-color: var(--fill-color);\n",
              "    }\n",
              "    90% {\n",
              "      border-color: transparent;\n",
              "      border-bottom-color: var(--fill-color);\n",
              "    }\n",
              "  }\n",
              "</style>\n",
              "\n",
              "  <script>\n",
              "    async function quickchart(key) {\n",
              "      const quickchartButtonEl =\n",
              "        document.querySelector('#' + key + ' button');\n",
              "      quickchartButtonEl.disabled = true;  // To prevent multiple clicks.\n",
              "      quickchartButtonEl.classList.add('colab-df-spinner');\n",
              "      try {\n",
              "        const charts = await google.colab.kernel.invokeFunction(\n",
              "            'suggestCharts', [key], {});\n",
              "      } catch (error) {\n",
              "        console.error('Error during call to suggestCharts:', error);\n",
              "      }\n",
              "      quickchartButtonEl.classList.remove('colab-df-spinner');\n",
              "      quickchartButtonEl.classList.add('colab-df-quickchart-complete');\n",
              "    }\n",
              "    (() => {\n",
              "      let quickchartButtonEl =\n",
              "        document.querySelector('#df-b4fb3274-5909-44f0-865d-fb9a330be25e button');\n",
              "      quickchartButtonEl.style.display =\n",
              "        google.colab.kernel.accessAllowed ? 'block' : 'none';\n",
              "    })();\n",
              "  </script>\n",
              "</div>\n",
              "\n",
              "    </div>\n",
              "  </div>\n"
            ],
            "application/vnd.google.colaboratory.intrinsic+json": {
              "type": "dataframe",
              "variable_name": "data",
              "summary": "{\n  \"name\": \"data\",\n  \"rows\": 400,\n  \"fields\": [\n    {\n      \"column\": \"CustomerID\",\n      \"properties\": {\n        \"dtype\": \"number\",\n        \"std\": 115,\n        \"min\": 1,\n        \"max\": 400,\n        \"num_unique_values\": 400,\n        \"samples\": [\n          210,\n          281,\n          34\n        ],\n        \"semantic_type\": \"\",\n        \"description\": \"\"\n      }\n    },\n    {\n      \"column\": \"Income\",\n      \"properties\": {\n        \"dtype\": \"number\",\n        \"std\": 35.24427316507052,\n        \"min\": 10.354,\n        \"max\": 186.634,\n        \"num_unique_values\": 399,\n        \"samples\": [\n          27.349,\n          48.577,\n          31.367\n        ],\n        \"semantic_type\": \"\",\n        \"description\": \"\"\n      }\n    },\n    {\n      \"column\": \"Limit\",\n      \"properties\": {\n        \"dtype\": \"number\",\n        \"std\": 2308,\n        \"min\": 855,\n        \"max\": 13913,\n        \"num_unique_values\": 387,\n        \"samples\": [\n          3096,\n          1362,\n          6040\n        ],\n        \"semantic_type\": \"\",\n        \"description\": \"\"\n      }\n    },\n    {\n      \"column\": \"Rating\",\n      \"properties\": {\n        \"dtype\": \"number\",\n        \"std\": 154,\n        \"min\": 93,\n        \"max\": 982,\n        \"num_unique_values\": 283,\n        \"samples\": [\n          491,\n          329,\n          214\n        ],\n        \"semantic_type\": \"\",\n        \"description\": \"\"\n      }\n    },\n    {\n      \"column\": \"Cards\",\n      \"properties\": {\n        \"dtype\": \"number\",\n        \"std\": 1,\n        \"min\": 1,\n        \"max\": 9,\n        \"num_unique_values\": 9,\n        \"samples\": [\n          8,\n          3,\n          6\n        ],\n        \"semantic_type\": \"\",\n        \"description\": \"\"\n      }\n    },\n    {\n      \"column\": \"Age\",\n      \"properties\": {\n        \"dtype\": \"number\",\n        \"std\": 17,\n        \"min\": 23,\n        \"max\": 98,\n        \"num_unique_values\": 68,\n        \"samples\": [\n          52,\n          69,\n          68\n        ],\n        \"semantic_type\": \"\",\n        \"description\": \"\"\n      }\n    },\n    {\n      \"column\": \"Education\",\n      \"properties\": {\n        \"dtype\": \"number\",\n        \"std\": 3,\n        \"min\": 5,\n        \"max\": 20,\n        \"num_unique_values\": 16,\n        \"samples\": [\n          11,\n          15,\n          9\n        ],\n        \"semantic_type\": \"\",\n        \"description\": \"\"\n      }\n    },\n    {\n      \"column\": \"Gender\",\n      \"properties\": {\n        \"dtype\": \"category\",\n        \"num_unique_values\": 2,\n        \"samples\": [\n          \"Female\",\n          \"Male\"\n        ],\n        \"semantic_type\": \"\",\n        \"description\": \"\"\n      }\n    },\n    {\n      \"column\": \"Student\",\n      \"properties\": {\n        \"dtype\": \"category\",\n        \"num_unique_values\": 2,\n        \"samples\": [\n          \"Yes\",\n          \"No\"\n        ],\n        \"semantic_type\": \"\",\n        \"description\": \"\"\n      }\n    },\n    {\n      \"column\": \"Married\",\n      \"properties\": {\n        \"dtype\": \"category\",\n        \"num_unique_values\": 2,\n        \"samples\": [\n          \"No\",\n          \"Yes\"\n        ],\n        \"semantic_type\": \"\",\n        \"description\": \"\"\n      }\n    },\n    {\n      \"column\": \"Ethnicity\",\n      \"properties\": {\n        \"dtype\": \"category\",\n        \"num_unique_values\": 3,\n        \"samples\": [\n          \"Caucasian\",\n          \"Asian\"\n        ],\n        \"semantic_type\": \"\",\n        \"description\": \"\"\n      }\n    },\n    {\n      \"column\": \"Balance\",\n      \"properties\": {\n        \"dtype\": \"number\",\n        \"std\": 459,\n        \"min\": 0,\n        \"max\": 1999,\n        \"num_unique_values\": 284,\n        \"samples\": [\n          1350,\n          1405\n        ],\n        \"semantic_type\": \"\",\n        \"description\": \"\"\n      }\n    }\n  ]\n}"
            }
          },
          "metadata": {},
          "execution_count": 28
        }
      ],
      "source": [
        "data.head()"
      ]
    },
    {
      "cell_type": "code",
      "execution_count": 29,
      "metadata": {
        "id": "K0JfMboj4FGp",
        "colab": {
          "base_uri": "https://localhost:8080/",
          "height": 542
        },
        "outputId": "558b65f1-8af3-4a98-9322-13bccdd611a8"
      },
      "outputs": [
        {
          "output_type": "display_data",
          "data": {
            "text/html": [
              "<html>\n",
              "<head><meta charset=\"utf-8\" /></head>\n",
              "<body>\n",
              "    <div>            <script src=\"https://cdnjs.cloudflare.com/ajax/libs/mathjax/2.7.5/MathJax.js?config=TeX-AMS-MML_SVG\"></script><script type=\"text/javascript\">if (window.MathJax && window.MathJax.Hub && window.MathJax.Hub.Config) {window.MathJax.Hub.Config({SVG: {font: \"STIX-Web\"}});}</script>                <script type=\"text/javascript\">window.PlotlyConfig = {MathJaxConfig: 'local'};</script>\n",
              "        <script charset=\"utf-8\" src=\"https://cdn.plot.ly/plotly-3.0.0.min.js\"></script>                <div id=\"3afda870-a850-4010-aef2-221ba837ff2f\" class=\"plotly-graph-div\" style=\"height:525px; width:100%;\"></div>            <script type=\"text/javascript\">                window.PLOTLYENV=window.PLOTLYENV || {};                                if (document.getElementById(\"3afda870-a850-4010-aef2-221ba837ff2f\")) {                    Plotly.newPlot(                        \"3afda870-a850-4010-aef2-221ba837ff2f\",                        [{\"branchvalues\":\"total\",\"domain\":{\"x\":[0.0,1.0],\"y\":[0.0,1.0]},\"hovertemplate\":\"labels=%{label}\\u003cbr\\u003eIncome=%{value}\\u003cbr\\u003eparent=%{parent}\\u003cbr\\u003eid=%{id}\\u003cextra\\u003e\\u003c\\u002fextra\\u003e\",\"ids\":[\"African American\\u002fFemale\\u002fNo\\u002fNo\",\"African American\\u002fFemale\\u002fNo\\u002fYes\",\"African American\\u002fFemale\\u002fYes\\u002fNo\",\"African American\\u002fFemale\\u002fYes\\u002fYes\",\"African American\\u002fMale\\u002fNo\\u002fNo\",\"African American\\u002fMale\\u002fNo\\u002fYes\",\"African American\\u002fMale\\u002fYes\\u002fNo\",\"African American\\u002fMale\\u002fYes\\u002fYes\",\"Asian\\u002fFemale\\u002fNo\\u002fNo\",\"Asian\\u002fFemale\\u002fNo\\u002fYes\",\"Asian\\u002fFemale\\u002fYes\\u002fNo\",\"Asian\\u002fFemale\\u002fYes\\u002fYes\",\"Asian\\u002fMale\\u002fNo\\u002fNo\",\"Asian\\u002fMale\\u002fNo\\u002fYes\",\"Asian\\u002fMale\\u002fYes\\u002fNo\",\"Asian\\u002fMale\\u002fYes\\u002fYes\",\"Caucasian\\u002fFemale\\u002fNo\\u002fNo\",\"Caucasian\\u002fFemale\\u002fNo\\u002fYes\",\"Caucasian\\u002fFemale\\u002fYes\\u002fNo\",\"Caucasian\\u002fFemale\\u002fYes\\u002fYes\",\"Caucasian\\u002fMale\\u002fNo\\u002fNo\",\"Caucasian\\u002fMale\\u002fNo\\u002fYes\",\"Caucasian\\u002fMale\\u002fYes\\u002fNo\",\"Caucasian\\u002fMale\\u002fYes\\u002fYes\",\"African American\\u002fFemale\\u002fNo\",\"African American\\u002fFemale\\u002fYes\",\"African American\\u002fMale\\u002fNo\",\"African American\\u002fMale\\u002fYes\",\"Asian\\u002fFemale\\u002fNo\",\"Asian\\u002fFemale\\u002fYes\",\"Asian\\u002fMale\\u002fNo\",\"Asian\\u002fMale\\u002fYes\",\"Caucasian\\u002fFemale\\u002fNo\",\"Caucasian\\u002fFemale\\u002fYes\",\"Caucasian\\u002fMale\\u002fNo\",\"Caucasian\\u002fMale\\u002fYes\",\"African American\\u002fFemale\",\"African American\\u002fMale\",\"Asian\\u002fFemale\",\"Asian\\u002fMale\",\"Caucasian\\u002fFemale\",\"Caucasian\\u002fMale\",\"African American\",\"Asian\",\"Caucasian\"],\"labels\":[\"No\",\"Yes\",\"No\",\"Yes\",\"No\",\"Yes\",\"No\",\"Yes\",\"No\",\"Yes\",\"No\",\"Yes\",\"No\",\"Yes\",\"No\",\"Yes\",\"No\",\"Yes\",\"No\",\"Yes\",\"No\",\"Yes\",\"No\",\"Yes\",\"No\",\"Yes\",\"No\",\"Yes\",\"No\",\"Yes\",\"No\",\"Yes\",\"No\",\"Yes\",\"No\",\"Yes\",\"Female\",\"Male\",\"Female\",\"Male\",\"Female\",\"Male\",\"African American\",\"Asian\",\"Caucasian\"],\"name\":\"\",\"parents\":[\"African American\\u002fFemale\\u002fNo\",\"African American\\u002fFemale\\u002fNo\",\"African American\\u002fFemale\\u002fYes\",\"African American\\u002fFemale\\u002fYes\",\"African American\\u002fMale\\u002fNo\",\"African American\\u002fMale\\u002fNo\",\"African American\\u002fMale\\u002fYes\",\"African American\\u002fMale\\u002fYes\",\"Asian\\u002fFemale\\u002fNo\",\"Asian\\u002fFemale\\u002fNo\",\"Asian\\u002fFemale\\u002fYes\",\"Asian\\u002fFemale\\u002fYes\",\"Asian\\u002fMale\\u002fNo\",\"Asian\\u002fMale\\u002fNo\",\"Asian\\u002fMale\\u002fYes\",\"Asian\\u002fMale\\u002fYes\",\"Caucasian\\u002fFemale\\u002fNo\",\"Caucasian\\u002fFemale\\u002fNo\",\"Caucasian\\u002fFemale\\u002fYes\",\"Caucasian\\u002fFemale\\u002fYes\",\"Caucasian\\u002fMale\\u002fNo\",\"Caucasian\\u002fMale\\u002fNo\",\"Caucasian\\u002fMale\\u002fYes\",\"Caucasian\\u002fMale\\u002fYes\",\"African American\\u002fFemale\",\"African American\\u002fFemale\",\"African American\\u002fMale\",\"African American\\u002fMale\",\"Asian\\u002fFemale\",\"Asian\\u002fFemale\",\"Asian\\u002fMale\",\"Asian\\u002fMale\",\"Caucasian\\u002fFemale\",\"Caucasian\\u002fFemale\",\"Caucasian\\u002fMale\",\"Caucasian\\u002fMale\",\"African American\",\"African American\",\"Asian\",\"Asian\",\"Caucasian\",\"Caucasian\",\"\",\"\",\"\"],\"values\":{\"dtype\":\"f8\",\"bdata\":\"fzDw3HvoREBqTfOOUzRKQPLSTWIQIEpAw\\u002fUoXI9yRkDQ1hB+HhpLQLSxWJUszURAsp3vp8afU0DEZ9gVIOdMQELPZtXnukJAaZHtfD\\u002fZR0AREREREaFQQBHK6G1ZU05AUI2XbhInRkAtdjZuHaRDQA8tsp3vJzFAgZVDi2wHP0Coow\\u002fUkypEQMwK5wA6N0ZAa7x0kxicQECmm8QgsCJCQLOC\\u002fve0HEZA4d+Fqp5QSEBQjZduErNDQPUoXI\\u002fCBU1A9L7xtWeOV0BaZDvfT0lYQELEtIml81dAyuhtWasJYUBWMCqpE0pVQBp2Bci9yl9AvgFn7pflVEBI4XoUrhdIQDpXe+rmMFVACKwcWmRfUUBKMULRqTZXQCLb+X5qXFhAqJGWytvrZ0DrSkgefgNtQDfTl7hoimpAMTlSfLd4YEChAUyiJUhjQDYGHiiKyWdASW5v9Kx3ekA0BnUakIF1QOwDNeXXiHVA\"},\"type\":\"treemap\"}],                        {\"template\":{\"data\":{\"histogram2dcontour\":[{\"type\":\"histogram2dcontour\",\"colorbar\":{\"outlinewidth\":0,\"ticks\":\"\"},\"colorscale\":[[0.0,\"#0d0887\"],[0.1111111111111111,\"#46039f\"],[0.2222222222222222,\"#7201a8\"],[0.3333333333333333,\"#9c179e\"],[0.4444444444444444,\"#bd3786\"],[0.5555555555555556,\"#d8576b\"],[0.6666666666666666,\"#ed7953\"],[0.7777777777777778,\"#fb9f3a\"],[0.8888888888888888,\"#fdca26\"],[1.0,\"#f0f921\"]]}],\"choropleth\":[{\"type\":\"choropleth\",\"colorbar\":{\"outlinewidth\":0,\"ticks\":\"\"}}],\"histogram2d\":[{\"type\":\"histogram2d\",\"colorbar\":{\"outlinewidth\":0,\"ticks\":\"\"},\"colorscale\":[[0.0,\"#0d0887\"],[0.1111111111111111,\"#46039f\"],[0.2222222222222222,\"#7201a8\"],[0.3333333333333333,\"#9c179e\"],[0.4444444444444444,\"#bd3786\"],[0.5555555555555556,\"#d8576b\"],[0.6666666666666666,\"#ed7953\"],[0.7777777777777778,\"#fb9f3a\"],[0.8888888888888888,\"#fdca26\"],[1.0,\"#f0f921\"]]}],\"heatmap\":[{\"type\":\"heatmap\",\"colorbar\":{\"outlinewidth\":0,\"ticks\":\"\"},\"colorscale\":[[0.0,\"#0d0887\"],[0.1111111111111111,\"#46039f\"],[0.2222222222222222,\"#7201a8\"],[0.3333333333333333,\"#9c179e\"],[0.4444444444444444,\"#bd3786\"],[0.5555555555555556,\"#d8576b\"],[0.6666666666666666,\"#ed7953\"],[0.7777777777777778,\"#fb9f3a\"],[0.8888888888888888,\"#fdca26\"],[1.0,\"#f0f921\"]]}],\"contourcarpet\":[{\"type\":\"contourcarpet\",\"colorbar\":{\"outlinewidth\":0,\"ticks\":\"\"}}],\"contour\":[{\"type\":\"contour\",\"colorbar\":{\"outlinewidth\":0,\"ticks\":\"\"},\"colorscale\":[[0.0,\"#0d0887\"],[0.1111111111111111,\"#46039f\"],[0.2222222222222222,\"#7201a8\"],[0.3333333333333333,\"#9c179e\"],[0.4444444444444444,\"#bd3786\"],[0.5555555555555556,\"#d8576b\"],[0.6666666666666666,\"#ed7953\"],[0.7777777777777778,\"#fb9f3a\"],[0.8888888888888888,\"#fdca26\"],[1.0,\"#f0f921\"]]}],\"surface\":[{\"type\":\"surface\",\"colorbar\":{\"outlinewidth\":0,\"ticks\":\"\"},\"colorscale\":[[0.0,\"#0d0887\"],[0.1111111111111111,\"#46039f\"],[0.2222222222222222,\"#7201a8\"],[0.3333333333333333,\"#9c179e\"],[0.4444444444444444,\"#bd3786\"],[0.5555555555555556,\"#d8576b\"],[0.6666666666666666,\"#ed7953\"],[0.7777777777777778,\"#fb9f3a\"],[0.8888888888888888,\"#fdca26\"],[1.0,\"#f0f921\"]]}],\"mesh3d\":[{\"type\":\"mesh3d\",\"colorbar\":{\"outlinewidth\":0,\"ticks\":\"\"}}],\"scatter\":[{\"fillpattern\":{\"fillmode\":\"overlay\",\"size\":10,\"solidity\":0.2},\"type\":\"scatter\"}],\"parcoords\":[{\"type\":\"parcoords\",\"line\":{\"colorbar\":{\"outlinewidth\":0,\"ticks\":\"\"}}}],\"scatterpolargl\":[{\"type\":\"scatterpolargl\",\"marker\":{\"colorbar\":{\"outlinewidth\":0,\"ticks\":\"\"}}}],\"bar\":[{\"error_x\":{\"color\":\"#2a3f5f\"},\"error_y\":{\"color\":\"#2a3f5f\"},\"marker\":{\"line\":{\"color\":\"#E5ECF6\",\"width\":0.5},\"pattern\":{\"fillmode\":\"overlay\",\"size\":10,\"solidity\":0.2}},\"type\":\"bar\"}],\"scattergeo\":[{\"type\":\"scattergeo\",\"marker\":{\"colorbar\":{\"outlinewidth\":0,\"ticks\":\"\"}}}],\"scatterpolar\":[{\"type\":\"scatterpolar\",\"marker\":{\"colorbar\":{\"outlinewidth\":0,\"ticks\":\"\"}}}],\"histogram\":[{\"marker\":{\"pattern\":{\"fillmode\":\"overlay\",\"size\":10,\"solidity\":0.2}},\"type\":\"histogram\"}],\"scattergl\":[{\"type\":\"scattergl\",\"marker\":{\"colorbar\":{\"outlinewidth\":0,\"ticks\":\"\"}}}],\"scatter3d\":[{\"type\":\"scatter3d\",\"line\":{\"colorbar\":{\"outlinewidth\":0,\"ticks\":\"\"}},\"marker\":{\"colorbar\":{\"outlinewidth\":0,\"ticks\":\"\"}}}],\"scattermap\":[{\"type\":\"scattermap\",\"marker\":{\"colorbar\":{\"outlinewidth\":0,\"ticks\":\"\"}}}],\"scattermapbox\":[{\"type\":\"scattermapbox\",\"marker\":{\"colorbar\":{\"outlinewidth\":0,\"ticks\":\"\"}}}],\"scatterternary\":[{\"type\":\"scatterternary\",\"marker\":{\"colorbar\":{\"outlinewidth\":0,\"ticks\":\"\"}}}],\"scattercarpet\":[{\"type\":\"scattercarpet\",\"marker\":{\"colorbar\":{\"outlinewidth\":0,\"ticks\":\"\"}}}],\"carpet\":[{\"aaxis\":{\"endlinecolor\":\"#2a3f5f\",\"gridcolor\":\"white\",\"linecolor\":\"white\",\"minorgridcolor\":\"white\",\"startlinecolor\":\"#2a3f5f\"},\"baxis\":{\"endlinecolor\":\"#2a3f5f\",\"gridcolor\":\"white\",\"linecolor\":\"white\",\"minorgridcolor\":\"white\",\"startlinecolor\":\"#2a3f5f\"},\"type\":\"carpet\"}],\"table\":[{\"cells\":{\"fill\":{\"color\":\"#EBF0F8\"},\"line\":{\"color\":\"white\"}},\"header\":{\"fill\":{\"color\":\"#C8D4E3\"},\"line\":{\"color\":\"white\"}},\"type\":\"table\"}],\"barpolar\":[{\"marker\":{\"line\":{\"color\":\"#E5ECF6\",\"width\":0.5},\"pattern\":{\"fillmode\":\"overlay\",\"size\":10,\"solidity\":0.2}},\"type\":\"barpolar\"}],\"pie\":[{\"automargin\":true,\"type\":\"pie\"}]},\"layout\":{\"autotypenumbers\":\"strict\",\"colorway\":[\"#636efa\",\"#EF553B\",\"#00cc96\",\"#ab63fa\",\"#FFA15A\",\"#19d3f3\",\"#FF6692\",\"#B6E880\",\"#FF97FF\",\"#FECB52\"],\"font\":{\"color\":\"#2a3f5f\"},\"hovermode\":\"closest\",\"hoverlabel\":{\"align\":\"left\"},\"paper_bgcolor\":\"white\",\"plot_bgcolor\":\"#E5ECF6\",\"polar\":{\"bgcolor\":\"#E5ECF6\",\"angularaxis\":{\"gridcolor\":\"white\",\"linecolor\":\"white\",\"ticks\":\"\"},\"radialaxis\":{\"gridcolor\":\"white\",\"linecolor\":\"white\",\"ticks\":\"\"}},\"ternary\":{\"bgcolor\":\"#E5ECF6\",\"aaxis\":{\"gridcolor\":\"white\",\"linecolor\":\"white\",\"ticks\":\"\"},\"baxis\":{\"gridcolor\":\"white\",\"linecolor\":\"white\",\"ticks\":\"\"},\"caxis\":{\"gridcolor\":\"white\",\"linecolor\":\"white\",\"ticks\":\"\"}},\"coloraxis\":{\"colorbar\":{\"outlinewidth\":0,\"ticks\":\"\"}},\"colorscale\":{\"sequential\":[[0.0,\"#0d0887\"],[0.1111111111111111,\"#46039f\"],[0.2222222222222222,\"#7201a8\"],[0.3333333333333333,\"#9c179e\"],[0.4444444444444444,\"#bd3786\"],[0.5555555555555556,\"#d8576b\"],[0.6666666666666666,\"#ed7953\"],[0.7777777777777778,\"#fb9f3a\"],[0.8888888888888888,\"#fdca26\"],[1.0,\"#f0f921\"]],\"sequentialminus\":[[0.0,\"#0d0887\"],[0.1111111111111111,\"#46039f\"],[0.2222222222222222,\"#7201a8\"],[0.3333333333333333,\"#9c179e\"],[0.4444444444444444,\"#bd3786\"],[0.5555555555555556,\"#d8576b\"],[0.6666666666666666,\"#ed7953\"],[0.7777777777777778,\"#fb9f3a\"],[0.8888888888888888,\"#fdca26\"],[1.0,\"#f0f921\"]],\"diverging\":[[0,\"#8e0152\"],[0.1,\"#c51b7d\"],[0.2,\"#de77ae\"],[0.3,\"#f1b6da\"],[0.4,\"#fde0ef\"],[0.5,\"#f7f7f7\"],[0.6,\"#e6f5d0\"],[0.7,\"#b8e186\"],[0.8,\"#7fbc41\"],[0.9,\"#4d9221\"],[1,\"#276419\"]]},\"xaxis\":{\"gridcolor\":\"white\",\"linecolor\":\"white\",\"ticks\":\"\",\"title\":{\"standoff\":15},\"zerolinecolor\":\"white\",\"automargin\":true,\"zerolinewidth\":2},\"yaxis\":{\"gridcolor\":\"white\",\"linecolor\":\"white\",\"ticks\":\"\",\"title\":{\"standoff\":15},\"zerolinecolor\":\"white\",\"automargin\":true,\"zerolinewidth\":2},\"scene\":{\"xaxis\":{\"backgroundcolor\":\"#E5ECF6\",\"gridcolor\":\"white\",\"linecolor\":\"white\",\"showbackground\":true,\"ticks\":\"\",\"zerolinecolor\":\"white\",\"gridwidth\":2},\"yaxis\":{\"backgroundcolor\":\"#E5ECF6\",\"gridcolor\":\"white\",\"linecolor\":\"white\",\"showbackground\":true,\"ticks\":\"\",\"zerolinecolor\":\"white\",\"gridwidth\":2},\"zaxis\":{\"backgroundcolor\":\"#E5ECF6\",\"gridcolor\":\"white\",\"linecolor\":\"white\",\"showbackground\":true,\"ticks\":\"\",\"zerolinecolor\":\"white\",\"gridwidth\":2}},\"shapedefaults\":{\"line\":{\"color\":\"#2a3f5f\"}},\"annotationdefaults\":{\"arrowcolor\":\"#2a3f5f\",\"arrowhead\":0,\"arrowwidth\":1},\"geo\":{\"bgcolor\":\"white\",\"landcolor\":\"#E5ECF6\",\"subunitcolor\":\"white\",\"showland\":true,\"showlakes\":true,\"lakecolor\":\"white\"},\"title\":{\"x\":0.05},\"mapbox\":{\"style\":\"light\"}}},\"legend\":{\"tracegroupgap\":0},\"margin\":{\"t\":60}},                        {\"responsive\": true}                    ).then(function(){\n",
              "                            \n",
              "var gd = document.getElementById('3afda870-a850-4010-aef2-221ba837ff2f');\n",
              "var x = new MutationObserver(function (mutations, observer) {{\n",
              "        var display = window.getComputedStyle(gd).display;\n",
              "        if (!display || display === 'none') {{\n",
              "            console.log([gd, 'removed!']);\n",
              "            Plotly.purge(gd);\n",
              "            observer.disconnect();\n",
              "        }}\n",
              "}});\n",
              "\n",
              "// Listen for the removal of the full notebook cells\n",
              "var notebookContainer = gd.closest('#notebook-container');\n",
              "if (notebookContainer) {{\n",
              "    x.observe(notebookContainer, {childList: true});\n",
              "}}\n",
              "\n",
              "// Listen for the clearing of the current output cell\n",
              "var outputEl = gd.closest('.output');\n",
              "if (outputEl) {{\n",
              "    x.observe(outputEl, {childList: true});\n",
              "}}\n",
              "\n",
              "                        })                };            </script>        </div>\n",
              "</body>\n",
              "</html>"
            ]
          },
          "metadata": {}
        }
      ],
      "source": [
        "import plotly.express as px\n",
        "df =data.groupby(['Ethnicity','Gender','Student','Married'])[['Income']]\\\n",
        "                                                                          .mean().reset_index()\n",
        "\n",
        "df[\"all\"] = \"all\" # in order to have a single root node\n",
        "fig = px.treemap(df, path=['Ethnicity',\t'Gender'\t,'Student',\t'Married'], values='Income')\n",
        "fig.show()"
      ]
    }
  ],
  "metadata": {
    "colab": {
      "provenance": []
    },
    "kernelspec": {
      "display_name": "Python 3",
      "name": "python3"
    },
    "language_info": {
      "codemirror_mode": {
        "name": "ipython",
        "version": 3
      },
      "file_extension": ".py",
      "mimetype": "text/x-python",
      "name": "python",
      "nbconvert_exporter": "python",
      "pygments_lexer": "ipython3",
      "version": "3.10.10"
    },
    "widgets": {
      "application/vnd.jupyter.widget-state+json": {
        "9f8e90ab68564f3bb03803094dea69e4": {
          "model_module": "@jupyter-widgets/controls",
          "model_name": "VBoxModel",
          "model_module_version": "2.0.0",
          "state": {
            "_dom_classes": [
              "widget-interact"
            ],
            "_model_module": "@jupyter-widgets/controls",
            "_model_module_version": "2.0.0",
            "_model_name": "VBoxModel",
            "_view_count": null,
            "_view_module": "@jupyter-widgets/controls",
            "_view_module_version": "2.0.0",
            "_view_name": "VBoxView",
            "box_style": "",
            "children": [
              "IPY_MODEL_b559a2698aae4d8cb1a205aa115e135c",
              "IPY_MODEL_c417eccdd51a41dab030802535482bd9",
              "IPY_MODEL_ac2464137bc04358af790e246c0dc90a",
              "IPY_MODEL_a9a47bdd7b7947c5a80d4e7773af0252"
            ],
            "layout": "IPY_MODEL_36ac44ad628b4b2793dda2d4d9ad825a",
            "tabbable": null,
            "tooltip": null
          }
        },
        "b559a2698aae4d8cb1a205aa115e135c": {
          "model_module": "@jupyter-widgets/controls",
          "model_name": "IntSliderModel",
          "model_module_version": "2.0.0",
          "state": {
            "_dom_classes": [],
            "_model_module": "@jupyter-widgets/controls",
            "_model_module_version": "2.0.0",
            "_model_name": "IntSliderModel",
            "_view_count": null,
            "_view_module": "@jupyter-widgets/controls",
            "_view_module_version": "2.0.0",
            "_view_name": "IntSliderView",
            "behavior": "drag-tap",
            "continuous_update": true,
            "description": "Initial Amount",
            "description_allow_html": false,
            "disabled": false,
            "layout": "IPY_MODEL_9cb170c666b94a18a3e068fd825f65d4",
            "max": 300,
            "min": 10,
            "orientation": "horizontal",
            "readout": true,
            "readout_format": "d",
            "step": 1,
            "style": "IPY_MODEL_1f4317c2ccd34af0b06cbfc04845e7af",
            "tabbable": null,
            "tooltip": null,
            "value": 10
          }
        },
        "c417eccdd51a41dab030802535482bd9": {
          "model_module": "@jupyter-widgets/controls",
          "model_name": "FloatSliderModel",
          "model_module_version": "2.0.0",
          "state": {
            "_dom_classes": [],
            "_model_module": "@jupyter-widgets/controls",
            "_model_module_version": "2.0.0",
            "_model_name": "FloatSliderModel",
            "_view_count": null,
            "_view_module": "@jupyter-widgets/controls",
            "_view_module_version": "2.0.0",
            "_view_name": "FloatSliderView",
            "behavior": "drag-tap",
            "continuous_update": true,
            "description": "Interest Rate",
            "description_allow_html": false,
            "disabled": false,
            "layout": "IPY_MODEL_e4bb52bb9bc24accb66bfb5b7950c5a9",
            "max": 1,
            "min": 0,
            "orientation": "horizontal",
            "readout": true,
            "readout_format": ".2f",
            "step": 0.01,
            "style": "IPY_MODEL_d78cab2d290d4d0abf2fcd3d94077ad2",
            "tabbable": null,
            "tooltip": null,
            "value": 0
          }
        },
        "ac2464137bc04358af790e246c0dc90a": {
          "model_module": "@jupyter-widgets/controls",
          "model_name": "IntSliderModel",
          "model_module_version": "2.0.0",
          "state": {
            "_dom_classes": [],
            "_model_module": "@jupyter-widgets/controls",
            "_model_module_version": "2.0.0",
            "_model_name": "IntSliderModel",
            "_view_count": null,
            "_view_module": "@jupyter-widgets/controls",
            "_view_module_version": "2.0.0",
            "_view_name": "IntSliderView",
            "behavior": "drag-tap",
            "continuous_update": true,
            "description": "Term (years)",
            "description_allow_html": false,
            "disabled": false,
            "layout": "IPY_MODEL_1d3c7ac24b23455f9985716c0c649cb0",
            "max": 20,
            "min": 1,
            "orientation": "horizontal",
            "readout": true,
            "readout_format": "d",
            "step": 1,
            "style": "IPY_MODEL_9ffaf24cb37c4c56a6cf3777a043f88a",
            "tabbable": null,
            "tooltip": null,
            "value": 1
          }
        },
        "a9a47bdd7b7947c5a80d4e7773af0252": {
          "model_module": "@jupyter-widgets/output",
          "model_name": "OutputModel",
          "model_module_version": "1.0.0",
          "state": {
            "_dom_classes": [],
            "_model_module": "@jupyter-widgets/output",
            "_model_module_version": "1.0.0",
            "_model_name": "OutputModel",
            "_view_count": null,
            "_view_module": "@jupyter-widgets/output",
            "_view_module_version": "1.0.0",
            "_view_name": "OutputView",
            "layout": "IPY_MODEL_0c22ce3cba8340a294ba294c77cd5a75",
            "msg_id": "",
            "outputs": [
              {
                "output_type": "display_data",
                "data": {
                  "text/plain": "10.0"
                },
                "metadata": {}
              }
            ],
            "tabbable": null,
            "tooltip": null
          }
        },
        "36ac44ad628b4b2793dda2d4d9ad825a": {
          "model_module": "@jupyter-widgets/base",
          "model_name": "LayoutModel",
          "model_module_version": "2.0.0",
          "state": {
            "_model_module": "@jupyter-widgets/base",
            "_model_module_version": "2.0.0",
            "_model_name": "LayoutModel",
            "_view_count": null,
            "_view_module": "@jupyter-widgets/base",
            "_view_module_version": "2.0.0",
            "_view_name": "LayoutView",
            "align_content": null,
            "align_items": null,
            "align_self": null,
            "border_bottom": null,
            "border_left": null,
            "border_right": null,
            "border_top": null,
            "bottom": null,
            "display": null,
            "flex": null,
            "flex_flow": null,
            "grid_area": null,
            "grid_auto_columns": null,
            "grid_auto_flow": null,
            "grid_auto_rows": null,
            "grid_column": null,
            "grid_gap": null,
            "grid_row": null,
            "grid_template_areas": null,
            "grid_template_columns": null,
            "grid_template_rows": null,
            "height": null,
            "justify_content": null,
            "justify_items": null,
            "left": null,
            "margin": null,
            "max_height": null,
            "max_width": null,
            "min_height": null,
            "min_width": null,
            "object_fit": null,
            "object_position": null,
            "order": null,
            "overflow": null,
            "padding": null,
            "right": null,
            "top": null,
            "visibility": null,
            "width": null
          }
        },
        "9cb170c666b94a18a3e068fd825f65d4": {
          "model_module": "@jupyter-widgets/base",
          "model_name": "LayoutModel",
          "model_module_version": "2.0.0",
          "state": {
            "_model_module": "@jupyter-widgets/base",
            "_model_module_version": "2.0.0",
            "_model_name": "LayoutModel",
            "_view_count": null,
            "_view_module": "@jupyter-widgets/base",
            "_view_module_version": "2.0.0",
            "_view_name": "LayoutView",
            "align_content": null,
            "align_items": null,
            "align_self": null,
            "border_bottom": null,
            "border_left": null,
            "border_right": null,
            "border_top": null,
            "bottom": null,
            "display": null,
            "flex": null,
            "flex_flow": null,
            "grid_area": null,
            "grid_auto_columns": null,
            "grid_auto_flow": null,
            "grid_auto_rows": null,
            "grid_column": null,
            "grid_gap": null,
            "grid_row": null,
            "grid_template_areas": null,
            "grid_template_columns": null,
            "grid_template_rows": null,
            "height": null,
            "justify_content": null,
            "justify_items": null,
            "left": null,
            "margin": null,
            "max_height": null,
            "max_width": null,
            "min_height": null,
            "min_width": null,
            "object_fit": null,
            "object_position": null,
            "order": null,
            "overflow": null,
            "padding": null,
            "right": null,
            "top": null,
            "visibility": null,
            "width": null
          }
        },
        "1f4317c2ccd34af0b06cbfc04845e7af": {
          "model_module": "@jupyter-widgets/controls",
          "model_name": "SliderStyleModel",
          "model_module_version": "2.0.0",
          "state": {
            "_model_module": "@jupyter-widgets/controls",
            "_model_module_version": "2.0.0",
            "_model_name": "SliderStyleModel",
            "_view_count": null,
            "_view_module": "@jupyter-widgets/base",
            "_view_module_version": "2.0.0",
            "_view_name": "StyleView",
            "description_width": "",
            "handle_color": null
          }
        },
        "e4bb52bb9bc24accb66bfb5b7950c5a9": {
          "model_module": "@jupyter-widgets/base",
          "model_name": "LayoutModel",
          "model_module_version": "2.0.0",
          "state": {
            "_model_module": "@jupyter-widgets/base",
            "_model_module_version": "2.0.0",
            "_model_name": "LayoutModel",
            "_view_count": null,
            "_view_module": "@jupyter-widgets/base",
            "_view_module_version": "2.0.0",
            "_view_name": "LayoutView",
            "align_content": null,
            "align_items": null,
            "align_self": null,
            "border_bottom": null,
            "border_left": null,
            "border_right": null,
            "border_top": null,
            "bottom": null,
            "display": null,
            "flex": null,
            "flex_flow": null,
            "grid_area": null,
            "grid_auto_columns": null,
            "grid_auto_flow": null,
            "grid_auto_rows": null,
            "grid_column": null,
            "grid_gap": null,
            "grid_row": null,
            "grid_template_areas": null,
            "grid_template_columns": null,
            "grid_template_rows": null,
            "height": null,
            "justify_content": null,
            "justify_items": null,
            "left": null,
            "margin": null,
            "max_height": null,
            "max_width": null,
            "min_height": null,
            "min_width": null,
            "object_fit": null,
            "object_position": null,
            "order": null,
            "overflow": null,
            "padding": null,
            "right": null,
            "top": null,
            "visibility": null,
            "width": null
          }
        },
        "d78cab2d290d4d0abf2fcd3d94077ad2": {
          "model_module": "@jupyter-widgets/controls",
          "model_name": "SliderStyleModel",
          "model_module_version": "2.0.0",
          "state": {
            "_model_module": "@jupyter-widgets/controls",
            "_model_module_version": "2.0.0",
            "_model_name": "SliderStyleModel",
            "_view_count": null,
            "_view_module": "@jupyter-widgets/base",
            "_view_module_version": "2.0.0",
            "_view_name": "StyleView",
            "description_width": "",
            "handle_color": null
          }
        },
        "1d3c7ac24b23455f9985716c0c649cb0": {
          "model_module": "@jupyter-widgets/base",
          "model_name": "LayoutModel",
          "model_module_version": "2.0.0",
          "state": {
            "_model_module": "@jupyter-widgets/base",
            "_model_module_version": "2.0.0",
            "_model_name": "LayoutModel",
            "_view_count": null,
            "_view_module": "@jupyter-widgets/base",
            "_view_module_version": "2.0.0",
            "_view_name": "LayoutView",
            "align_content": null,
            "align_items": null,
            "align_self": null,
            "border_bottom": null,
            "border_left": null,
            "border_right": null,
            "border_top": null,
            "bottom": null,
            "display": null,
            "flex": null,
            "flex_flow": null,
            "grid_area": null,
            "grid_auto_columns": null,
            "grid_auto_flow": null,
            "grid_auto_rows": null,
            "grid_column": null,
            "grid_gap": null,
            "grid_row": null,
            "grid_template_areas": null,
            "grid_template_columns": null,
            "grid_template_rows": null,
            "height": null,
            "justify_content": null,
            "justify_items": null,
            "left": null,
            "margin": null,
            "max_height": null,
            "max_width": null,
            "min_height": null,
            "min_width": null,
            "object_fit": null,
            "object_position": null,
            "order": null,
            "overflow": null,
            "padding": null,
            "right": null,
            "top": null,
            "visibility": null,
            "width": null
          }
        },
        "9ffaf24cb37c4c56a6cf3777a043f88a": {
          "model_module": "@jupyter-widgets/controls",
          "model_name": "SliderStyleModel",
          "model_module_version": "2.0.0",
          "state": {
            "_model_module": "@jupyter-widgets/controls",
            "_model_module_version": "2.0.0",
            "_model_name": "SliderStyleModel",
            "_view_count": null,
            "_view_module": "@jupyter-widgets/base",
            "_view_module_version": "2.0.0",
            "_view_name": "StyleView",
            "description_width": "",
            "handle_color": null
          }
        },
        "0c22ce3cba8340a294ba294c77cd5a75": {
          "model_module": "@jupyter-widgets/base",
          "model_name": "LayoutModel",
          "model_module_version": "2.0.0",
          "state": {
            "_model_module": "@jupyter-widgets/base",
            "_model_module_version": "2.0.0",
            "_model_name": "LayoutModel",
            "_view_count": null,
            "_view_module": "@jupyter-widgets/base",
            "_view_module_version": "2.0.0",
            "_view_name": "LayoutView",
            "align_content": null,
            "align_items": null,
            "align_self": null,
            "border_bottom": null,
            "border_left": null,
            "border_right": null,
            "border_top": null,
            "bottom": null,
            "display": null,
            "flex": null,
            "flex_flow": null,
            "grid_area": null,
            "grid_auto_columns": null,
            "grid_auto_flow": null,
            "grid_auto_rows": null,
            "grid_column": null,
            "grid_gap": null,
            "grid_row": null,
            "grid_template_areas": null,
            "grid_template_columns": null,
            "grid_template_rows": null,
            "height": null,
            "justify_content": null,
            "justify_items": null,
            "left": null,
            "margin": null,
            "max_height": null,
            "max_width": null,
            "min_height": null,
            "min_width": null,
            "object_fit": null,
            "object_position": null,
            "order": null,
            "overflow": null,
            "padding": null,
            "right": null,
            "top": null,
            "visibility": null,
            "width": null
          }
        },
        "ea908634c5034c10af6772342fe4d87e": {
          "model_module": "@jupyter-widgets/controls",
          "model_name": "VBoxModel",
          "model_module_version": "2.0.0",
          "state": {
            "_dom_classes": [
              "widget-interact"
            ],
            "_model_module": "@jupyter-widgets/controls",
            "_model_module_version": "2.0.0",
            "_model_name": "VBoxModel",
            "_view_count": null,
            "_view_module": "@jupyter-widgets/controls",
            "_view_module_version": "2.0.0",
            "_view_name": "VBoxView",
            "box_style": "",
            "children": [
              "IPY_MODEL_9892fcad81444962bcde448c8d81a9ac",
              "IPY_MODEL_f21e54d3b7784b8d90df0bb4f1b99aca",
              "IPY_MODEL_d5b06af90b5648a3aba9b6f77d2d228b",
              "IPY_MODEL_bfca8f22e0264347828fe35e63f86b23"
            ],
            "layout": "IPY_MODEL_d337e1dd55a74f8cbc0a7b789937ea88",
            "tabbable": null,
            "tooltip": null
          }
        },
        "9892fcad81444962bcde448c8d81a9ac": {
          "model_module": "@jupyter-widgets/controls",
          "model_name": "IntSliderModel",
          "model_module_version": "2.0.0",
          "state": {
            "_dom_classes": [],
            "_model_module": "@jupyter-widgets/controls",
            "_model_module_version": "2.0.0",
            "_model_name": "IntSliderModel",
            "_view_count": null,
            "_view_module": "@jupyter-widgets/controls",
            "_view_module_version": "2.0.0",
            "_view_name": "IntSliderView",
            "behavior": "drag-tap",
            "continuous_update": true,
            "description": "Initial Amount",
            "description_allow_html": false,
            "disabled": false,
            "layout": "IPY_MODEL_a6e97a5c2cb54f62943c97cbece902ec",
            "max": 300,
            "min": 10,
            "orientation": "horizontal",
            "readout": true,
            "readout_format": "d",
            "step": 1,
            "style": "IPY_MODEL_06dbaf88ed314ef6bf4790602f4ab3c7",
            "tabbable": null,
            "tooltip": null,
            "value": 10
          }
        },
        "f21e54d3b7784b8d90df0bb4f1b99aca": {
          "model_module": "@jupyter-widgets/controls",
          "model_name": "FloatSliderModel",
          "model_module_version": "2.0.0",
          "state": {
            "_dom_classes": [],
            "_model_module": "@jupyter-widgets/controls",
            "_model_module_version": "2.0.0",
            "_model_name": "FloatSliderModel",
            "_view_count": null,
            "_view_module": "@jupyter-widgets/controls",
            "_view_module_version": "2.0.0",
            "_view_name": "FloatSliderView",
            "behavior": "drag-tap",
            "continuous_update": true,
            "description": "Interest Rate",
            "description_allow_html": false,
            "disabled": false,
            "layout": "IPY_MODEL_dbcf15dda65b4aef982e81f3951d6ad9",
            "max": 1,
            "min": 0,
            "orientation": "horizontal",
            "readout": true,
            "readout_format": ".2f",
            "step": 0.01,
            "style": "IPY_MODEL_984feca95c22418781380eef4bd02434",
            "tabbable": null,
            "tooltip": null,
            "value": 0
          }
        },
        "d5b06af90b5648a3aba9b6f77d2d228b": {
          "model_module": "@jupyter-widgets/controls",
          "model_name": "IntSliderModel",
          "model_module_version": "2.0.0",
          "state": {
            "_dom_classes": [],
            "_model_module": "@jupyter-widgets/controls",
            "_model_module_version": "2.0.0",
            "_model_name": "IntSliderModel",
            "_view_count": null,
            "_view_module": "@jupyter-widgets/controls",
            "_view_module_version": "2.0.0",
            "_view_name": "IntSliderView",
            "behavior": "drag-tap",
            "continuous_update": true,
            "description": "Term (years)",
            "description_allow_html": false,
            "disabled": false,
            "layout": "IPY_MODEL_a26bd6b6e94b48b1840787e87b4e10b2",
            "max": 20,
            "min": 1,
            "orientation": "horizontal",
            "readout": true,
            "readout_format": "d",
            "step": 1,
            "style": "IPY_MODEL_44ab43639bab4bb795ff8371870ce9ce",
            "tabbable": null,
            "tooltip": null,
            "value": 1
          }
        },
        "bfca8f22e0264347828fe35e63f86b23": {
          "model_module": "@jupyter-widgets/output",
          "model_name": "OutputModel",
          "model_module_version": "1.0.0",
          "state": {
            "_dom_classes": [],
            "_model_module": "@jupyter-widgets/output",
            "_model_module_version": "1.0.0",
            "_model_name": "OutputModel",
            "_view_count": null,
            "_view_module": "@jupyter-widgets/output",
            "_view_module_version": "1.0.0",
            "_view_name": "OutputView",
            "layout": "IPY_MODEL_4c27dccd4cec4bd38a685b33e888a34b",
            "msg_id": "",
            "outputs": [
              {
                "output_type": "display_data",
                "data": {
                  "text/plain": "<Figure size 640x480 with 1 Axes>",
                  "image/png": "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\n"
                },
                "metadata": {}
              }
            ],
            "tabbable": null,
            "tooltip": null
          }
        },
        "d337e1dd55a74f8cbc0a7b789937ea88": {
          "model_module": "@jupyter-widgets/base",
          "model_name": "LayoutModel",
          "model_module_version": "2.0.0",
          "state": {
            "_model_module": "@jupyter-widgets/base",
            "_model_module_version": "2.0.0",
            "_model_name": "LayoutModel",
            "_view_count": null,
            "_view_module": "@jupyter-widgets/base",
            "_view_module_version": "2.0.0",
            "_view_name": "LayoutView",
            "align_content": null,
            "align_items": null,
            "align_self": null,
            "border_bottom": null,
            "border_left": null,
            "border_right": null,
            "border_top": null,
            "bottom": null,
            "display": null,
            "flex": null,
            "flex_flow": null,
            "grid_area": null,
            "grid_auto_columns": null,
            "grid_auto_flow": null,
            "grid_auto_rows": null,
            "grid_column": null,
            "grid_gap": null,
            "grid_row": null,
            "grid_template_areas": null,
            "grid_template_columns": null,
            "grid_template_rows": null,
            "height": null,
            "justify_content": null,
            "justify_items": null,
            "left": null,
            "margin": null,
            "max_height": null,
            "max_width": null,
            "min_height": null,
            "min_width": null,
            "object_fit": null,
            "object_position": null,
            "order": null,
            "overflow": null,
            "padding": null,
            "right": null,
            "top": null,
            "visibility": null,
            "width": null
          }
        },
        "a6e97a5c2cb54f62943c97cbece902ec": {
          "model_module": "@jupyter-widgets/base",
          "model_name": "LayoutModel",
          "model_module_version": "2.0.0",
          "state": {
            "_model_module": "@jupyter-widgets/base",
            "_model_module_version": "2.0.0",
            "_model_name": "LayoutModel",
            "_view_count": null,
            "_view_module": "@jupyter-widgets/base",
            "_view_module_version": "2.0.0",
            "_view_name": "LayoutView",
            "align_content": null,
            "align_items": null,
            "align_self": null,
            "border_bottom": null,
            "border_left": null,
            "border_right": null,
            "border_top": null,
            "bottom": null,
            "display": null,
            "flex": null,
            "flex_flow": null,
            "grid_area": null,
            "grid_auto_columns": null,
            "grid_auto_flow": null,
            "grid_auto_rows": null,
            "grid_column": null,
            "grid_gap": null,
            "grid_row": null,
            "grid_template_areas": null,
            "grid_template_columns": null,
            "grid_template_rows": null,
            "height": null,
            "justify_content": null,
            "justify_items": null,
            "left": null,
            "margin": null,
            "max_height": null,
            "max_width": null,
            "min_height": null,
            "min_width": null,
            "object_fit": null,
            "object_position": null,
            "order": null,
            "overflow": null,
            "padding": null,
            "right": null,
            "top": null,
            "visibility": null,
            "width": null
          }
        },
        "06dbaf88ed314ef6bf4790602f4ab3c7": {
          "model_module": "@jupyter-widgets/controls",
          "model_name": "SliderStyleModel",
          "model_module_version": "2.0.0",
          "state": {
            "_model_module": "@jupyter-widgets/controls",
            "_model_module_version": "2.0.0",
            "_model_name": "SliderStyleModel",
            "_view_count": null,
            "_view_module": "@jupyter-widgets/base",
            "_view_module_version": "2.0.0",
            "_view_name": "StyleView",
            "description_width": "",
            "handle_color": null
          }
        },
        "dbcf15dda65b4aef982e81f3951d6ad9": {
          "model_module": "@jupyter-widgets/base",
          "model_name": "LayoutModel",
          "model_module_version": "2.0.0",
          "state": {
            "_model_module": "@jupyter-widgets/base",
            "_model_module_version": "2.0.0",
            "_model_name": "LayoutModel",
            "_view_count": null,
            "_view_module": "@jupyter-widgets/base",
            "_view_module_version": "2.0.0",
            "_view_name": "LayoutView",
            "align_content": null,
            "align_items": null,
            "align_self": null,
            "border_bottom": null,
            "border_left": null,
            "border_right": null,
            "border_top": null,
            "bottom": null,
            "display": null,
            "flex": null,
            "flex_flow": null,
            "grid_area": null,
            "grid_auto_columns": null,
            "grid_auto_flow": null,
            "grid_auto_rows": null,
            "grid_column": null,
            "grid_gap": null,
            "grid_row": null,
            "grid_template_areas": null,
            "grid_template_columns": null,
            "grid_template_rows": null,
            "height": null,
            "justify_content": null,
            "justify_items": null,
            "left": null,
            "margin": null,
            "max_height": null,
            "max_width": null,
            "min_height": null,
            "min_width": null,
            "object_fit": null,
            "object_position": null,
            "order": null,
            "overflow": null,
            "padding": null,
            "right": null,
            "top": null,
            "visibility": null,
            "width": null
          }
        },
        "984feca95c22418781380eef4bd02434": {
          "model_module": "@jupyter-widgets/controls",
          "model_name": "SliderStyleModel",
          "model_module_version": "2.0.0",
          "state": {
            "_model_module": "@jupyter-widgets/controls",
            "_model_module_version": "2.0.0",
            "_model_name": "SliderStyleModel",
            "_view_count": null,
            "_view_module": "@jupyter-widgets/base",
            "_view_module_version": "2.0.0",
            "_view_name": "StyleView",
            "description_width": "",
            "handle_color": null
          }
        },
        "a26bd6b6e94b48b1840787e87b4e10b2": {
          "model_module": "@jupyter-widgets/base",
          "model_name": "LayoutModel",
          "model_module_version": "2.0.0",
          "state": {
            "_model_module": "@jupyter-widgets/base",
            "_model_module_version": "2.0.0",
            "_model_name": "LayoutModel",
            "_view_count": null,
            "_view_module": "@jupyter-widgets/base",
            "_view_module_version": "2.0.0",
            "_view_name": "LayoutView",
            "align_content": null,
            "align_items": null,
            "align_self": null,
            "border_bottom": null,
            "border_left": null,
            "border_right": null,
            "border_top": null,
            "bottom": null,
            "display": null,
            "flex": null,
            "flex_flow": null,
            "grid_area": null,
            "grid_auto_columns": null,
            "grid_auto_flow": null,
            "grid_auto_rows": null,
            "grid_column": null,
            "grid_gap": null,
            "grid_row": null,
            "grid_template_areas": null,
            "grid_template_columns": null,
            "grid_template_rows": null,
            "height": null,
            "justify_content": null,
            "justify_items": null,
            "left": null,
            "margin": null,
            "max_height": null,
            "max_width": null,
            "min_height": null,
            "min_width": null,
            "object_fit": null,
            "object_position": null,
            "order": null,
            "overflow": null,
            "padding": null,
            "right": null,
            "top": null,
            "visibility": null,
            "width": null
          }
        },
        "44ab43639bab4bb795ff8371870ce9ce": {
          "model_module": "@jupyter-widgets/controls",
          "model_name": "SliderStyleModel",
          "model_module_version": "2.0.0",
          "state": {
            "_model_module": "@jupyter-widgets/controls",
            "_model_module_version": "2.0.0",
            "_model_name": "SliderStyleModel",
            "_view_count": null,
            "_view_module": "@jupyter-widgets/base",
            "_view_module_version": "2.0.0",
            "_view_name": "StyleView",
            "description_width": "",
            "handle_color": null
          }
        },
        "4c27dccd4cec4bd38a685b33e888a34b": {
          "model_module": "@jupyter-widgets/base",
          "model_name": "LayoutModel",
          "model_module_version": "2.0.0",
          "state": {
            "_model_module": "@jupyter-widgets/base",
            "_model_module_version": "2.0.0",
            "_model_name": "LayoutModel",
            "_view_count": null,
            "_view_module": "@jupyter-widgets/base",
            "_view_module_version": "2.0.0",
            "_view_name": "LayoutView",
            "align_content": null,
            "align_items": null,
            "align_self": null,
            "border_bottom": null,
            "border_left": null,
            "border_right": null,
            "border_top": null,
            "bottom": null,
            "display": null,
            "flex": null,
            "flex_flow": null,
            "grid_area": null,
            "grid_auto_columns": null,
            "grid_auto_flow": null,
            "grid_auto_rows": null,
            "grid_column": null,
            "grid_gap": null,
            "grid_row": null,
            "grid_template_areas": null,
            "grid_template_columns": null,
            "grid_template_rows": null,
            "height": null,
            "justify_content": null,
            "justify_items": null,
            "left": null,
            "margin": null,
            "max_height": null,
            "max_width": null,
            "min_height": null,
            "min_width": null,
            "object_fit": null,
            "object_position": null,
            "order": null,
            "overflow": null,
            "padding": null,
            "right": null,
            "top": null,
            "visibility": null,
            "width": null
          }
        },
        "dc0d7a669c35451d93cca2a2dee52a62": {
          "model_module": "@jupyter-widgets/controls",
          "model_name": "VBoxModel",
          "model_module_version": "2.0.0",
          "state": {
            "_dom_classes": [
              "widget-interact"
            ],
            "_model_module": "@jupyter-widgets/controls",
            "_model_module_version": "2.0.0",
            "_model_name": "VBoxModel",
            "_view_count": null,
            "_view_module": "@jupyter-widgets/controls",
            "_view_module_version": "2.0.0",
            "_view_name": "VBoxView",
            "box_style": "",
            "children": [
              "IPY_MODEL_b3825db0eea94b879ca4b957db401630",
              "IPY_MODEL_b466aab489954751a583e56e49d17fb5"
            ],
            "layout": "IPY_MODEL_4bff7e67b7ed441aa7f5e9c2af1297bf",
            "tabbable": null,
            "tooltip": null
          }
        },
        "b3825db0eea94b879ca4b957db401630": {
          "model_module": "@jupyter-widgets/controls",
          "model_name": "SelectModel",
          "model_module_version": "2.0.0",
          "state": {
            "_dom_classes": [],
            "_model_module": "@jupyter-widgets/controls",
            "_model_module_version": "2.0.0",
            "_model_name": "SelectModel",
            "_options_labels": [
              "All",
              "Female",
              "Male"
            ],
            "_view_count": null,
            "_view_module": "@jupyter-widgets/controls",
            "_view_module_version": "2.0.0",
            "_view_name": "SelectView",
            "description": "x",
            "description_allow_html": false,
            "disabled": false,
            "index": 0,
            "layout": "IPY_MODEL_b2c84b9a6fa84500a174431c26a7dee2",
            "rows": 5,
            "style": "IPY_MODEL_08c051fc19b84e8fa96eb42a9501ad7b",
            "tabbable": null,
            "tooltip": null
          }
        },
        "b466aab489954751a583e56e49d17fb5": {
          "model_module": "@jupyter-widgets/output",
          "model_name": "OutputModel",
          "model_module_version": "1.0.0",
          "state": {
            "_dom_classes": [],
            "_model_module": "@jupyter-widgets/output",
            "_model_module_version": "1.0.0",
            "_model_name": "OutputModel",
            "_view_count": null,
            "_view_module": "@jupyter-widgets/output",
            "_view_module_version": "1.0.0",
            "_view_name": "OutputView",
            "layout": "IPY_MODEL_c20228d2bd0648b4929bbb7cba989d1f",
            "msg_id": "",
            "outputs": [
              {
                "output_type": "display_data",
                "data": {
                  "text/plain": "     CustomerID   Income  Limit  Rating  Cards  Age  Education  Gender  \\\n0             1   14.891   3606     283      2   34         11    Male   \n1             2  106.025   6645     483      3   82         15  Female   \n2             3  104.593   7075     514      4   71         11    Male   \n3             4  148.924   9504     681      3   36         11  Female   \n4             5   55.882   4897     357      2   68         16    Male   \n..          ...      ...    ...     ...    ...  ...        ...     ...   \n395         396   12.096   4100     307      3   32         13    Male   \n396         397   13.364   3838     296      5   65         17    Male   \n397         398   57.872   4171     321      5   67         12  Female   \n398         399   37.728   2525     192      1   44         13    Male   \n399         400   18.701   5524     415      5   64          7  Female   \n\n    Student Married         Ethnicity  Balance  \n0        No     Yes         Caucasian      333  \n1       Yes     Yes             Asian      903  \n2        No      No             Asian      580  \n3        No      No             Asian      964  \n4        No     Yes         Caucasian      331  \n..      ...     ...               ...      ...  \n395      No     Yes         Caucasian      560  \n396      No      No  African American      480  \n397      No     Yes         Caucasian      138  \n398      No     Yes         Caucasian        0  \n399      No      No             Asian      966  \n\n[400 rows x 12 columns]",
                  "text/html": "\n  <div id=\"df-32b7a76a-d132-4c35-8431-591ec39d1f47\" class=\"colab-df-container\">\n    <div>\n<style scoped>\n    .dataframe tbody tr th:only-of-type {\n        vertical-align: middle;\n    }\n\n    .dataframe tbody tr th {\n        vertical-align: top;\n    }\n\n    .dataframe thead th {\n        text-align: right;\n    }\n</style>\n<table border=\"1\" class=\"dataframe\">\n  <thead>\n    <tr style=\"text-align: right;\">\n      <th></th>\n      <th>CustomerID</th>\n      <th>Income</th>\n      <th>Limit</th>\n      <th>Rating</th>\n      <th>Cards</th>\n      <th>Age</th>\n      <th>Education</th>\n      <th>Gender</th>\n      <th>Student</th>\n      <th>Married</th>\n      <th>Ethnicity</th>\n      <th>Balance</th>\n    </tr>\n  </thead>\n  <tbody>\n    <tr>\n      <th>0</th>\n      <td>1</td>\n      <td>14.891</td>\n      <td>3606</td>\n      <td>283</td>\n      <td>2</td>\n      <td>34</td>\n      <td>11</td>\n      <td>Male</td>\n      <td>No</td>\n      <td>Yes</td>\n      <td>Caucasian</td>\n      <td>333</td>\n    </tr>\n    <tr>\n      <th>1</th>\n      <td>2</td>\n      <td>106.025</td>\n      <td>6645</td>\n      <td>483</td>\n      <td>3</td>\n      <td>82</td>\n      <td>15</td>\n      <td>Female</td>\n      <td>Yes</td>\n      <td>Yes</td>\n      <td>Asian</td>\n      <td>903</td>\n    </tr>\n    <tr>\n      <th>2</th>\n      <td>3</td>\n      <td>104.593</td>\n      <td>7075</td>\n      <td>514</td>\n      <td>4</td>\n      <td>71</td>\n      <td>11</td>\n      <td>Male</td>\n      <td>No</td>\n      <td>No</td>\n      <td>Asian</td>\n      <td>580</td>\n    </tr>\n    <tr>\n      <th>3</th>\n      <td>4</td>\n      <td>148.924</td>\n      <td>9504</td>\n      <td>681</td>\n      <td>3</td>\n      <td>36</td>\n      <td>11</td>\n      <td>Female</td>\n      <td>No</td>\n      <td>No</td>\n      <td>Asian</td>\n      <td>964</td>\n    </tr>\n    <tr>\n      <th>4</th>\n      <td>5</td>\n      <td>55.882</td>\n      <td>4897</td>\n      <td>357</td>\n      <td>2</td>\n      <td>68</td>\n      <td>16</td>\n      <td>Male</td>\n      <td>No</td>\n      <td>Yes</td>\n      <td>Caucasian</td>\n      <td>331</td>\n    </tr>\n    <tr>\n      <th>...</th>\n      <td>...</td>\n      <td>...</td>\n      <td>...</td>\n      <td>...</td>\n      <td>...</td>\n      <td>...</td>\n      <td>...</td>\n      <td>...</td>\n      <td>...</td>\n      <td>...</td>\n      <td>...</td>\n      <td>...</td>\n    </tr>\n    <tr>\n      <th>395</th>\n      <td>396</td>\n      <td>12.096</td>\n      <td>4100</td>\n      <td>307</td>\n      <td>3</td>\n      <td>32</td>\n      <td>13</td>\n      <td>Male</td>\n      <td>No</td>\n      <td>Yes</td>\n      <td>Caucasian</td>\n      <td>560</td>\n    </tr>\n    <tr>\n      <th>396</th>\n      <td>397</td>\n      <td>13.364</td>\n      <td>3838</td>\n      <td>296</td>\n      <td>5</td>\n      <td>65</td>\n      <td>17</td>\n      <td>Male</td>\n      <td>No</td>\n      <td>No</td>\n      <td>African American</td>\n      <td>480</td>\n    </tr>\n    <tr>\n      <th>397</th>\n      <td>398</td>\n      <td>57.872</td>\n      <td>4171</td>\n      <td>321</td>\n      <td>5</td>\n      <td>67</td>\n      <td>12</td>\n      <td>Female</td>\n      <td>No</td>\n      <td>Yes</td>\n      <td>Caucasian</td>\n      <td>138</td>\n    </tr>\n    <tr>\n      <th>398</th>\n      <td>399</td>\n      <td>37.728</td>\n      <td>2525</td>\n      <td>192</td>\n      <td>1</td>\n      <td>44</td>\n      <td>13</td>\n      <td>Male</td>\n      <td>No</td>\n      <td>Yes</td>\n      <td>Caucasian</td>\n      <td>0</td>\n    </tr>\n    <tr>\n      <th>399</th>\n      <td>400</td>\n      <td>18.701</td>\n      <td>5524</td>\n      <td>415</td>\n      <td>5</td>\n      <td>64</td>\n      <td>7</td>\n      <td>Female</td>\n      <td>No</td>\n      <td>No</td>\n      <td>Asian</td>\n      <td>966</td>\n    </tr>\n  </tbody>\n</table>\n<p>400 rows × 12 columns</p>\n</div>\n    <div class=\"colab-df-buttons\">\n\n  <div class=\"colab-df-container\">\n    <button class=\"colab-df-convert\" onclick=\"convertToInteractive('df-32b7a76a-d132-4c35-8431-591ec39d1f47')\"\n            title=\"Convert this dataframe to an interactive table.\"\n            style=\"display:none;\">\n\n  <svg xmlns=\"http://www.w3.org/2000/svg\" height=\"24px\" viewBox=\"0 -960 960 960\">\n    <path d=\"M120-120v-720h720v720H120Zm60-500h600v-160H180v160Zm220 220h160v-160H400v160Zm0 220h160v-160H400v160ZM180-400h160v-160H180v160Zm440 0h160v-160H620v160ZM180-180h160v-160H180v160Zm440 0h160v-160H620v160Z\"/>\n  </svg>\n    </button>\n\n  <style>\n    .colab-df-container {\n      display:flex;\n      gap: 12px;\n    }\n\n    .colab-df-convert {\n      background-color: #E8F0FE;\n      border: none;\n      border-radius: 50%;\n      cursor: pointer;\n      display: none;\n      fill: #1967D2;\n      height: 32px;\n      padding: 0 0 0 0;\n      width: 32px;\n    }\n\n    .colab-df-convert:hover {\n      background-color: #E2EBFA;\n      box-shadow: 0px 1px 2px rgba(60, 64, 67, 0.3), 0px 1px 3px 1px rgba(60, 64, 67, 0.15);\n      fill: #174EA6;\n    }\n\n    .colab-df-buttons div {\n      margin-bottom: 4px;\n    }\n\n    [theme=dark] .colab-df-convert {\n      background-color: #3B4455;\n      fill: #D2E3FC;\n    }\n\n    [theme=dark] .colab-df-convert:hover {\n      background-color: #434B5C;\n      box-shadow: 0px 1px 3px 1px rgba(0, 0, 0, 0.15);\n      filter: drop-shadow(0px 1px 2px rgba(0, 0, 0, 0.3));\n      fill: #FFFFFF;\n    }\n  </style>\n\n    <script>\n      const buttonEl =\n        document.querySelector('#df-32b7a76a-d132-4c35-8431-591ec39d1f47 button.colab-df-convert');\n      buttonEl.style.display =\n        google.colab.kernel.accessAllowed ? 'block' : 'none';\n\n      async function convertToInteractive(key) {\n        const element = document.querySelector('#df-32b7a76a-d132-4c35-8431-591ec39d1f47');\n        const dataTable =\n          await google.colab.kernel.invokeFunction('convertToInteractive',\n                                                    [key], {});\n        if (!dataTable) return;\n\n        const docLinkHtml = 'Like what you see? Visit the ' +\n          '<a target=\"_blank\" href=https://colab.research.google.com/notebooks/data_table.ipynb>data table notebook</a>'\n          + ' to learn more about interactive tables.';\n        element.innerHTML = '';\n        dataTable['output_type'] = 'display_data';\n        await google.colab.output.renderOutput(dataTable, element);\n        const docLink = document.createElement('div');\n        docLink.innerHTML = docLinkHtml;\n        element.appendChild(docLink);\n      }\n    </script>\n  </div>\n\n\n<div id=\"df-d2b3285d-851c-4997-9aaf-422f915904cb\">\n  <button class=\"colab-df-quickchart\" onclick=\"quickchart('df-d2b3285d-851c-4997-9aaf-422f915904cb')\"\n            title=\"Suggest charts\"\n            style=\"display:none;\">\n\n<svg xmlns=\"http://www.w3.org/2000/svg\" height=\"24px\"viewBox=\"0 0 24 24\"\n     width=\"24px\">\n    <g>\n        <path d=\"M19 3H5c-1.1 0-2 .9-2 2v14c0 1.1.9 2 2 2h14c1.1 0 2-.9 2-2V5c0-1.1-.9-2-2-2zM9 17H7v-7h2v7zm4 0h-2V7h2v10zm4 0h-2v-4h2v4z\"/>\n    </g>\n</svg>\n  </button>\n\n<style>\n  .colab-df-quickchart {\n      --bg-color: #E8F0FE;\n      --fill-color: #1967D2;\n      --hover-bg-color: #E2EBFA;\n      --hover-fill-color: #174EA6;\n      --disabled-fill-color: #AAA;\n      --disabled-bg-color: #DDD;\n  }\n\n  [theme=dark] .colab-df-quickchart {\n      --bg-color: #3B4455;\n      --fill-color: #D2E3FC;\n      --hover-bg-color: #434B5C;\n      --hover-fill-color: #FFFFFF;\n      --disabled-bg-color: #3B4455;\n      --disabled-fill-color: #666;\n  }\n\n  .colab-df-quickchart {\n    background-color: var(--bg-color);\n    border: none;\n    border-radius: 50%;\n    cursor: pointer;\n    display: none;\n    fill: var(--fill-color);\n    height: 32px;\n    padding: 0;\n    width: 32px;\n  }\n\n  .colab-df-quickchart:hover {\n    background-color: var(--hover-bg-color);\n    box-shadow: 0 1px 2px rgba(60, 64, 67, 0.3), 0 1px 3px 1px rgba(60, 64, 67, 0.15);\n    fill: var(--button-hover-fill-color);\n  }\n\n  .colab-df-quickchart-complete:disabled,\n  .colab-df-quickchart-complete:disabled:hover {\n    background-color: var(--disabled-bg-color);\n    fill: var(--disabled-fill-color);\n    box-shadow: none;\n  }\n\n  .colab-df-spinner {\n    border: 2px solid var(--fill-color);\n    border-color: transparent;\n    border-bottom-color: var(--fill-color);\n    animation:\n      spin 1s steps(1) infinite;\n  }\n\n  @keyframes spin {\n    0% {\n      border-color: transparent;\n      border-bottom-color: var(--fill-color);\n      border-left-color: var(--fill-color);\n    }\n    20% {\n      border-color: transparent;\n      border-left-color: var(--fill-color);\n      border-top-color: var(--fill-color);\n    }\n    30% {\n      border-color: transparent;\n      border-left-color: var(--fill-color);\n      border-top-color: var(--fill-color);\n      border-right-color: var(--fill-color);\n    }\n    40% {\n      border-color: transparent;\n      border-right-color: var(--fill-color);\n      border-top-color: var(--fill-color);\n    }\n    60% {\n      border-color: transparent;\n      border-right-color: var(--fill-color);\n    }\n    80% {\n      border-color: transparent;\n      border-right-color: var(--fill-color);\n      border-bottom-color: var(--fill-color);\n    }\n    90% {\n      border-color: transparent;\n      border-bottom-color: var(--fill-color);\n    }\n  }\n</style>\n\n  <script>\n    async function quickchart(key) {\n      const quickchartButtonEl =\n        document.querySelector('#' + key + ' button');\n      quickchartButtonEl.disabled = true;  // To prevent multiple clicks.\n      quickchartButtonEl.classList.add('colab-df-spinner');\n      try {\n        const charts = await google.colab.kernel.invokeFunction(\n            'suggestCharts', [key], {});\n      } catch (error) {\n        console.error('Error during call to suggestCharts:', error);\n      }\n      quickchartButtonEl.classList.remove('colab-df-spinner');\n      quickchartButtonEl.classList.add('colab-df-quickchart-complete');\n    }\n    (() => {\n      let quickchartButtonEl =\n        document.querySelector('#df-d2b3285d-851c-4997-9aaf-422f915904cb button');\n      quickchartButtonEl.style.display =\n        google.colab.kernel.accessAllowed ? 'block' : 'none';\n    })();\n  </script>\n</div>\n\n  <div id=\"id_d72cc3be-d68b-4395-8244-1cca1507fae9\">\n    <style>\n      .colab-df-generate {\n        background-color: #E8F0FE;\n        border: none;\n        border-radius: 50%;\n        cursor: pointer;\n        display: none;\n        fill: #1967D2;\n        height: 32px;\n        padding: 0 0 0 0;\n        width: 32px;\n      }\n\n      .colab-df-generate:hover {\n        background-color: #E2EBFA;\n        box-shadow: 0px 1px 2px rgba(60, 64, 67, 0.3), 0px 1px 3px 1px rgba(60, 64, 67, 0.15);\n        fill: #174EA6;\n      }\n\n      [theme=dark] .colab-df-generate {\n        background-color: #3B4455;\n        fill: #D2E3FC;\n      }\n\n      [theme=dark] .colab-df-generate:hover {\n        background-color: #434B5C;\n        box-shadow: 0px 1px 3px 1px rgba(0, 0, 0, 0.15);\n        filter: drop-shadow(0px 1px 2px rgba(0, 0, 0, 0.3));\n        fill: #FFFFFF;\n      }\n    </style>\n    <button class=\"colab-df-generate\" onclick=\"generateWithVariable('data')\"\n            title=\"Generate code using this dataframe.\"\n            style=\"display:none;\">\n\n  <svg xmlns=\"http://www.w3.org/2000/svg\" height=\"24px\"viewBox=\"0 0 24 24\"\n       width=\"24px\">\n    <path d=\"M7,19H8.4L18.45,9,17,7.55,7,17.6ZM5,21V16.75L18.45,3.32a2,2,0,0,1,2.83,0l1.4,1.43a1.91,1.91,0,0,1,.58,1.4,1.91,1.91,0,0,1-.58,1.4L9.25,21ZM18.45,9,17,7.55Zm-12,3A5.31,5.31,0,0,0,4.9,8.1,5.31,5.31,0,0,0,1,6.5,5.31,5.31,0,0,0,4.9,4.9,5.31,5.31,0,0,0,6.5,1,5.31,5.31,0,0,0,8.1,4.9,5.31,5.31,0,0,0,12,6.5,5.46,5.46,0,0,0,6.5,12Z\"/>\n  </svg>\n    </button>\n    <script>\n      (() => {\n      const buttonEl =\n        document.querySelector('#id_d72cc3be-d68b-4395-8244-1cca1507fae9 button.colab-df-generate');\n      buttonEl.style.display =\n        google.colab.kernel.accessAllowed ? 'block' : 'none';\n\n      buttonEl.onclick = () => {\n        google.colab.notebook.generateWithVariable('data');\n      }\n      })();\n    </script>\n  </div>\n\n    </div>\n  </div>\n",
                  "application/vnd.google.colaboratory.intrinsic+json": {
                    "type": "dataframe",
                    "variable_name": "data",
                    "summary": "{\n  \"name\": \"data\",\n  \"rows\": 400,\n  \"fields\": [\n    {\n      \"column\": \"CustomerID\",\n      \"properties\": {\n        \"dtype\": \"number\",\n        \"std\": 115,\n        \"min\": 1,\n        \"max\": 400,\n        \"num_unique_values\": 400,\n        \"samples\": [\n          210,\n          281,\n          34\n        ],\n        \"semantic_type\": \"\",\n        \"description\": \"\"\n      }\n    },\n    {\n      \"column\": \"Income\",\n      \"properties\": {\n        \"dtype\": \"number\",\n        \"std\": 35.24427316507052,\n        \"min\": 10.354,\n        \"max\": 186.634,\n        \"num_unique_values\": 399,\n        \"samples\": [\n          27.349,\n          48.577,\n          31.367\n        ],\n        \"semantic_type\": \"\",\n        \"description\": \"\"\n      }\n    },\n    {\n      \"column\": \"Limit\",\n      \"properties\": {\n        \"dtype\": \"number\",\n        \"std\": 2308,\n        \"min\": 855,\n        \"max\": 13913,\n        \"num_unique_values\": 387,\n        \"samples\": [\n          3096,\n          1362,\n          6040\n        ],\n        \"semantic_type\": \"\",\n        \"description\": \"\"\n      }\n    },\n    {\n      \"column\": \"Rating\",\n      \"properties\": {\n        \"dtype\": \"number\",\n        \"std\": 154,\n        \"min\": 93,\n        \"max\": 982,\n        \"num_unique_values\": 283,\n        \"samples\": [\n          491,\n          329,\n          214\n        ],\n        \"semantic_type\": \"\",\n        \"description\": \"\"\n      }\n    },\n    {\n      \"column\": \"Cards\",\n      \"properties\": {\n        \"dtype\": \"number\",\n        \"std\": 1,\n        \"min\": 1,\n        \"max\": 9,\n        \"num_unique_values\": 9,\n        \"samples\": [\n          8,\n          3,\n          6\n        ],\n        \"semantic_type\": \"\",\n        \"description\": \"\"\n      }\n    },\n    {\n      \"column\": \"Age\",\n      \"properties\": {\n        \"dtype\": \"number\",\n        \"std\": 17,\n        \"min\": 23,\n        \"max\": 98,\n        \"num_unique_values\": 68,\n        \"samples\": [\n          52,\n          69,\n          68\n        ],\n        \"semantic_type\": \"\",\n        \"description\": \"\"\n      }\n    },\n    {\n      \"column\": \"Education\",\n      \"properties\": {\n        \"dtype\": \"number\",\n        \"std\": 3,\n        \"min\": 5,\n        \"max\": 20,\n        \"num_unique_values\": 16,\n        \"samples\": [\n          11,\n          15,\n          9\n        ],\n        \"semantic_type\": \"\",\n        \"description\": \"\"\n      }\n    },\n    {\n      \"column\": \"Gender\",\n      \"properties\": {\n        \"dtype\": \"category\",\n        \"num_unique_values\": 2,\n        \"samples\": [\n          \"Female\",\n          \"Male\"\n        ],\n        \"semantic_type\": \"\",\n        \"description\": \"\"\n      }\n    },\n    {\n      \"column\": \"Student\",\n      \"properties\": {\n        \"dtype\": \"category\",\n        \"num_unique_values\": 2,\n        \"samples\": [\n          \"Yes\",\n          \"No\"\n        ],\n        \"semantic_type\": \"\",\n        \"description\": \"\"\n      }\n    },\n    {\n      \"column\": \"Married\",\n      \"properties\": {\n        \"dtype\": \"category\",\n        \"num_unique_values\": 2,\n        \"samples\": [\n          \"No\",\n          \"Yes\"\n        ],\n        \"semantic_type\": \"\",\n        \"description\": \"\"\n      }\n    },\n    {\n      \"column\": \"Ethnicity\",\n      \"properties\": {\n        \"dtype\": \"category\",\n        \"num_unique_values\": 3,\n        \"samples\": [\n          \"Caucasian\",\n          \"Asian\"\n        ],\n        \"semantic_type\": \"\",\n        \"description\": \"\"\n      }\n    },\n    {\n      \"column\": \"Balance\",\n      \"properties\": {\n        \"dtype\": \"number\",\n        \"std\": 459,\n        \"min\": 0,\n        \"max\": 1999,\n        \"num_unique_values\": 284,\n        \"samples\": [\n          1350,\n          1405\n        ],\n        \"semantic_type\": \"\",\n        \"description\": \"\"\n      }\n    }\n  ]\n}"
                  }
                },
                "metadata": {}
              }
            ],
            "tabbable": null,
            "tooltip": null
          }
        },
        "4bff7e67b7ed441aa7f5e9c2af1297bf": {
          "model_module": "@jupyter-widgets/base",
          "model_name": "LayoutModel",
          "model_module_version": "2.0.0",
          "state": {
            "_model_module": "@jupyter-widgets/base",
            "_model_module_version": "2.0.0",
            "_model_name": "LayoutModel",
            "_view_count": null,
            "_view_module": "@jupyter-widgets/base",
            "_view_module_version": "2.0.0",
            "_view_name": "LayoutView",
            "align_content": null,
            "align_items": null,
            "align_self": null,
            "border_bottom": null,
            "border_left": null,
            "border_right": null,
            "border_top": null,
            "bottom": null,
            "display": null,
            "flex": null,
            "flex_flow": null,
            "grid_area": null,
            "grid_auto_columns": null,
            "grid_auto_flow": null,
            "grid_auto_rows": null,
            "grid_column": null,
            "grid_gap": null,
            "grid_row": null,
            "grid_template_areas": null,
            "grid_template_columns": null,
            "grid_template_rows": null,
            "height": null,
            "justify_content": null,
            "justify_items": null,
            "left": null,
            "margin": null,
            "max_height": null,
            "max_width": null,
            "min_height": null,
            "min_width": null,
            "object_fit": null,
            "object_position": null,
            "order": null,
            "overflow": null,
            "padding": null,
            "right": null,
            "top": null,
            "visibility": null,
            "width": null
          }
        },
        "b2c84b9a6fa84500a174431c26a7dee2": {
          "model_module": "@jupyter-widgets/base",
          "model_name": "LayoutModel",
          "model_module_version": "2.0.0",
          "state": {
            "_model_module": "@jupyter-widgets/base",
            "_model_module_version": "2.0.0",
            "_model_name": "LayoutModel",
            "_view_count": null,
            "_view_module": "@jupyter-widgets/base",
            "_view_module_version": "2.0.0",
            "_view_name": "LayoutView",
            "align_content": null,
            "align_items": null,
            "align_self": null,
            "border_bottom": null,
            "border_left": null,
            "border_right": null,
            "border_top": null,
            "bottom": null,
            "display": null,
            "flex": null,
            "flex_flow": null,
            "grid_area": null,
            "grid_auto_columns": null,
            "grid_auto_flow": null,
            "grid_auto_rows": null,
            "grid_column": null,
            "grid_gap": null,
            "grid_row": null,
            "grid_template_areas": null,
            "grid_template_columns": null,
            "grid_template_rows": null,
            "height": null,
            "justify_content": null,
            "justify_items": null,
            "left": null,
            "margin": null,
            "max_height": null,
            "max_width": null,
            "min_height": null,
            "min_width": null,
            "object_fit": null,
            "object_position": null,
            "order": null,
            "overflow": null,
            "padding": null,
            "right": null,
            "top": null,
            "visibility": null,
            "width": null
          }
        },
        "08c051fc19b84e8fa96eb42a9501ad7b": {
          "model_module": "@jupyter-widgets/controls",
          "model_name": "DescriptionStyleModel",
          "model_module_version": "2.0.0",
          "state": {
            "_model_module": "@jupyter-widgets/controls",
            "_model_module_version": "2.0.0",
            "_model_name": "DescriptionStyleModel",
            "_view_count": null,
            "_view_module": "@jupyter-widgets/base",
            "_view_module_version": "2.0.0",
            "_view_name": "StyleView",
            "description_width": ""
          }
        },
        "c20228d2bd0648b4929bbb7cba989d1f": {
          "model_module": "@jupyter-widgets/base",
          "model_name": "LayoutModel",
          "model_module_version": "2.0.0",
          "state": {
            "_model_module": "@jupyter-widgets/base",
            "_model_module_version": "2.0.0",
            "_model_name": "LayoutModel",
            "_view_count": null,
            "_view_module": "@jupyter-widgets/base",
            "_view_module_version": "2.0.0",
            "_view_name": "LayoutView",
            "align_content": null,
            "align_items": null,
            "align_self": null,
            "border_bottom": null,
            "border_left": null,
            "border_right": null,
            "border_top": null,
            "bottom": null,
            "display": null,
            "flex": null,
            "flex_flow": null,
            "grid_area": null,
            "grid_auto_columns": null,
            "grid_auto_flow": null,
            "grid_auto_rows": null,
            "grid_column": null,
            "grid_gap": null,
            "grid_row": null,
            "grid_template_areas": null,
            "grid_template_columns": null,
            "grid_template_rows": null,
            "height": null,
            "justify_content": null,
            "justify_items": null,
            "left": null,
            "margin": null,
            "max_height": null,
            "max_width": null,
            "min_height": null,
            "min_width": null,
            "object_fit": null,
            "object_position": null,
            "order": null,
            "overflow": null,
            "padding": null,
            "right": null,
            "top": null,
            "visibility": null,
            "width": null
          }
        }
      }
    }
  },
  "nbformat": 4,
  "nbformat_minor": 0
}