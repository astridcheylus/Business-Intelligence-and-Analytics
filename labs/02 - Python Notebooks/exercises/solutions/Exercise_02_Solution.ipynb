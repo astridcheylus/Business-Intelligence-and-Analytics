{
  "cells": [
    {
      "attachments": {},
      "cell_type": "markdown",
      "metadata": {
        "colab_type": "text",
        "id": "view-in-github"
      },
      "source": [
        "<a target=\"_blank\" href=\"https://colab.research.google.com/github/michalis0/Business-Intelligence-and-Analytics/blob/master/labs/02%20-%20Python%20Notebooks/exercises/solutions/Exercise_02_Solution.ipynb\">\n",
        "  <img src=\"https://colab.research.google.com/assets/colab-badge.svg\" alt=\"Open In Colab\"/>\n",
        "</a>"
      ]
    },
    {
      "cell_type": "code",
      "execution_count": 1,
      "metadata": {
        "cellView": "form",
        "colab": {
          "base_uri": "https://localhost:8080/",
          "height": 172
        },
        "id": "H64cU5knUjhg",
        "outputId": "e480bf0f-e1ad-4687-acd5-7d03cee81e21"
      },
      "outputs": [
        {
          "data": {
            "text/html": [
              "\n",
              "<div>\n",
              "<td> \n",
              "<img src=\"https://upload.wikimedia.org/wikipedia/commons/7/77/Logo_HEC_Lausanne.png\" style=\"padding-right:10px;width:240px;float:left\"/></td>\n",
              "<h2 style=\"white-space: nowrap\">Business Intelligence and Analytics</h2></td>\n",
              "<hr style=\"clear:both\">\n",
              "<p style=\"font-size:0.85em; margin:2px; text-align:justify\">\n",
              "\n",
              "</div>"
            ],
            "text/plain": [
              "<IPython.core.display.HTML object>"
            ]
          },
          "metadata": {},
          "output_type": "display_data"
        }
      ],
      "source": [
        "#@title Walkthrough - Lab 1\n",
        "\n",
        "%%html\n",
        "\n",
        "<div>\n",
        "<td> \n",
        "<img src=\"https://upload.wikimedia.org/wikipedia/commons/7/77/Logo_HEC_Lausanne.png\" style=\"padding-right:10px;width:240px;float:left\"/></td>\n",
        "<h2 style=\"white-space: nowrap\">Business Intelligence and Analytics</h2></td>\n",
        "<hr style=\"clear:both\">\n",
        "<p style=\"font-size:0.85em; margin:2px; text-align:justify\">\n",
        "\n",
        "</div>"
      ]
    },
    {
      "cell_type": "markdown",
      "metadata": {
        "id": "N_loKnBGUzEY"
      },
      "source": [
        "\n",
        "![Amazon Logo](https://upload.wikimedia.org/wikipedia/commons/a/a9/Amazon_logo.svg) \n",
        "\n",
        "# Description : \n",
        "> **Amazon.com**, Inc is an American multinational technology company based in Seattle, Washington.\n",
        "\n",
        "> **Amazon** was founded by `Jeff Bezos` in __Bellevue, Washington__, on *July 5, 1994*. It started as an online marketplace for books. \n",
        "\n",
        "\n",
        "*   In 2015, Amazon surpassed Walmart as the most valuable retailer in the United States.\n",
        "*   In 2017, Amazon acquired Whole Foods Market for US$_13.4 billion_.\n",
        "\n",
        "Amazon distributes downloads and streaming through its [Prime Video](https://en.wikipedia.org/wiki/Prime_Video), [Twitch](https://en.wikipedia.org/wiki/Twitch_(service)), and others."
      ]
    },
    {
      "cell_type": "markdown",
      "metadata": {
        "id": "vFUlQmOkXsso"
      },
      "source": [
        "## News\n",
        "\n",
        "- Amazon: The unstoppable rise of the internet giant\n",
        " ([read article](https://www.bbc.com/news/business-55927979))\n",
        "\n",
        "- Jeff Bezos: Read Amazon founder’s letter to employees ([read article](https://www.independent.co.uk/news/world/americas/jeff-bezos-letter-amazon-b1796716.html))"
      ]
    },
    {
      "cell_type": "markdown",
      "metadata": {
        "id": "TSYZrItYffdf"
      },
      "source": [
        "## Key Executives\n",
        "\n",
        "\n",
        "| Name |\tTitle\t| Total compensation|\n",
        "| ---- | ----- | ---- | \n",
        "| Mr. Jeffrey P. Bezos\t| Chief Executive Officer, Director\t| \t1,681 M|\n",
        "| Mr. Andrew R. Jassy\t| Chief Executive Officer of Amazon Web Services\t|  \t35,61M|\n",
        "\n"
      ]
    },
    {
      "cell_type": "code",
      "execution_count": null,
      "metadata": {
        "colab": {
          "base_uri": "https://localhost:8080/",
          "height": 336
        },
        "id": "QqOY2OGMqTMs",
        "outputId": "f9ab8180-475e-4d1b-c61d-303a0dbed1ac"
      },
      "outputs": [
        {
          "data": {
            "text/html": [
              "<iframe width=\"560\" height=\"315\" src=\"https://www.youtube.com/embed/a9__D53WsUs\" frameborder=\"0\" allow=\"accelerometer; autoplay; clipboard-write; encrypted-media; gyroscope; picture-in-picture\" allowfullscreen></iframe>"
            ],
            "text/plain": [
              "<IPython.core.display.HTML object>"
            ]
          },
          "metadata": {
            "tags": []
          },
          "output_type": "display_data"
        }
      ],
      "source": [
        "\n",
        "## Videos Before you can find a video from a *recent event*.\n",
        "%%HTML\n",
        "<iframe width=\"560\" height=\"315\" src=\"https://www.youtube.com/embed/a9__D53WsUs\" frameborder=\"0\" allow=\"accelerometer; autoplay; clipboard-write; encrypted-media; gyroscope; picture-in-picture\" allowfullscreen></iframe>"
      ]
    }
  ],
  "metadata": {
    "colab": {
      "include_colab_link": true,
      "name": "Exercise_2_Solution.ipynb",
      "provenance": []
    },
    "kernelspec": {
      "display_name": "base",
      "language": "python",
      "name": "python3"
    },
    "language_info": {
      "name": "python",
      "version": "3.9.15 (main, Nov  4 2022, 11:12:28) \n[Clang 12.0.0 ]"
    },
    "vscode": {
      "interpreter": {
        "hash": "b0cc462c96df3621bcc58e01fadcdf9264a069c5c4bbf07201077bb349d3c6bf"
      }
    }
  },
  "nbformat": 4,
  "nbformat_minor": 0
}
