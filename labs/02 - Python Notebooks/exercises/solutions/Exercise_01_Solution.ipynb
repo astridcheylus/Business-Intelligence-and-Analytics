{
  "cells": [
    {
      "attachments": {},
      "cell_type": "markdown",
      "metadata": {
        "colab_type": "text",
        "id": "view-in-github"
      },
      "source": [
        "<a target=\"_blank\" href=\"https://colab.research.google.com/github/michalis0/Business-Intelligence-and-Analytics/blob/master/labs/02%20-%20Python%20Notebooks/exercises/solutions/Exercise_01_Solution.ipynb\">\n",
        "  <img src=\"https://colab.research.google.com/assets/colab-badge.svg\" alt=\"Open In Colab\"/>\n",
        "</a>"
      ]
    },
    {
      "cell_type": "markdown",
      "metadata": {
        "id": "7UyfwxcEaydh"
      },
      "source": [
        "# Exercise: Some simple Statistics tasks\n",
        "\n",
        "**Table of Contents**\n",
        "\n",
        "1. Arithmetic Mean\n",
        "2. Mean Squared Error\n",
        "\n",
        "    A. Bias of an estimator <br>\n",
        "    B. Variance of an estimator"
      ]
    },
    {
      "cell_type": "markdown",
      "metadata": {
        "id": "WmCOX_YHaydj"
      },
      "source": [
        "## 1. The Arithmetic Mean"
      ]
    },
    {
      "cell_type": "markdown",
      "metadata": {
        "id": "kVBpkruxaydl"
      },
      "source": [
        "$$ Mean(x) = \\frac{1}{n} * \\sum_{i=1}^{n} x_i$$"
      ]
    },
    {
      "cell_type": "markdown",
      "metadata": {
        "id": "VzQNTfZIaydn"
      },
      "source": [
        "Embedded a formatted code block:\n",
        "    \n",
        "```python\n",
        "x=[1,3,9,4]\n",
        "x_bar=1/4*sum(x)\n",
        "```"
      ]
    },
    {
      "cell_type": "code",
      "execution_count": null,
      "metadata": {
        "colab": {
          "base_uri": "https://localhost:8080/",
          "height": 32
        },
        "id": "xp0ACeJzaydp",
        "outputId": "1a21eec1-27be-46bb-c714-205f22a310e5"
      },
      "outputs": [
        {
          "data": {
            "text/plain": [
              "4.25"
            ]
          },
          "execution_count": 2,
          "metadata": {
            "tags": []
          },
          "output_type": "execute_result"
        }
      ],
      "source": [
        "# actual python calculation\n",
        "x=[1,3,9,4]\n",
        "x_bar=1/len(x)*sum(x)\n",
        "x_bar"
      ]
    },
    {
      "cell_type": "markdown",
      "metadata": {
        "id": "w0sY4AKIaydu"
      },
      "source": [
        "## 2. Mean Squared Error\n",
        "\n",
        "$$ MSE(x) = bias^2(x) + var^2(x) $$\n",
        "\n",
        "For further information see [http://www.statisticshowto.com/mean-squared-error](http://www.statisticshowto.com/mean-squared-error)"
      ]
    }
  ],
  "metadata": {
    "colab": {
      "include_colab_link": true,
      "name": "Exercise1_Solution.ipynb",
      "provenance": []
    },
    "kernelspec": {
      "display_name": "base",
      "language": "python",
      "name": "python3"
    },
    "language_info": {
      "codemirror_mode": {
        "name": "ipython",
        "version": 3
      },
      "file_extension": ".py",
      "mimetype": "text/x-python",
      "name": "python",
      "nbconvert_exporter": "python",
      "pygments_lexer": "ipython3",
      "version": "3.9.15 (main, Nov  4 2022, 11:12:28) \n[Clang 12.0.0 ]"
    },
    "vscode": {
      "interpreter": {
        "hash": "b0cc462c96df3621bcc58e01fadcdf9264a069c5c4bbf07201077bb349d3c6bf"
      }
    }
  },
  "nbformat": 4,
  "nbformat_minor": 0
}
