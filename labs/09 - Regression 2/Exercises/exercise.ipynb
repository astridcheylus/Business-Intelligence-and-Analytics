{
  "cells": [
    {
      "cell_type": "markdown",
      "metadata": {
        "colab_type": "text",
        "id": "view-in-github"
      },
      "source": [
        "<a href=\"https://colab.research.google.com/github/michalis0/Business-Intelligence-and-Analytics/blob/master/labs/09%20-%20Regression%202/Exercises/exercise.ipynb\" target=\"_parent\"><img src=\"https://colab.research.google.com/assets/colab-badge.svg\" alt=\"Open In Colab\"/></a>"
      ]
    },
    {
      "cell_type": "markdown",
      "metadata": {
        "id": "UfuWPYBr0x4e"
      },
      "source": [
        "<h1 align=\"center\"> EXERCISE - Regression 2</h1>\n",
        "\n",
        "<div>\n",
        "<td>\n",
        "<img src=\"https://upload.wikimedia.org/wikipedia/commons/thumb/2/2b/Logo_Universit%C3%A9_de_Lausanne.svg/2000px-Logo_Universit%C3%A9_de_Lausanne.svg.png\" style=\"padding-right:10px;width:240px;float:left\"/></td>\n",
        "<h2 style=\"white-space: nowrap\">Business Intelligence and Analytics</h2></td>\n",
        "<hr style=\"clear:both\">\n",
        "<p style=\"font-size:0.85em; margin:2px; text-align:justify\">\n",
        "\n",
        "</div>"
      ]
    },
    {
      "cell_type": "markdown",
      "metadata": {
        "id": "X-TQK8ILyUmK"
      },
      "source": [
        "# Exercise: Multivariate Linear Regression, Overfitting and Crossvalidation\n",
        "\n",
        "This exercise is an application of what you learned in the walkthrough. The following cell gathers the different modules you need for this exercise (take a look at the sklearn library).\n",
        "\n",
        "Some exercises consist of filling a part of the code without writing the whole code. Replace the `\"YOUR CODE HERE\"` by your own code."
      ]
    },
    {
      "cell_type": "code",
      "execution_count": null,
      "metadata": {
        "id": "qVMlZ-Um_pE6"
      },
      "outputs": [],
      "source": [
        "# Useful starting lines\n",
        "\n",
        "import numpy as np\n",
        "import matplotlib.pyplot as plt\n",
        "#from matplotlib import collections  as mc\n",
        "import pandas as pd\n",
        "\n",
        "%matplotlib inline\n",
        "%load_ext autoreload\n",
        "%autoreload 2\n",
        "\n",
        "# Sklearn import\n",
        "from sklearn.preprocessing import MinMaxScaler # Normalization\n",
        "from sklearn.linear_model import LinearRegression # Regression linear model\n",
        "from sklearn.model_selection import train_test_split # Splitting the data set\n",
        "from sklearn.preprocessing import LabelEncoder #1-hot encoding\n",
        "from sklearn.preprocessing import OneHotEncoder # Label encoding\n",
        "from sklearn.metrics import mean_squared_error, mean_absolute_error, r2_score # Metrics for errors\n",
        "from sklearn.model_selection import KFold # Cross validation\n"
      ]
    },
    {
      "cell_type": "markdown",
      "metadata": {
        "id": "WoSlMRWc_uz5"
      },
      "source": [
        "## 1. Loading the dataset\n",
        "This week, we are going to use the `audi` dataset. Our task is to figure out how the different features have an influence the price of a car.\n",
        "Load the pandas dataset from the given URL. Then display the first 5 rows. How many observations and columns do we have?"
      ]
    },
    {
      "cell_type": "code",
      "execution_count": 3,
      "metadata": {
        "id": "zRApH5rg_yls"
      },
      "outputs": [
        {
          "data": {
            "text/plain": [
              "'YOUR CODE HERE'"
            ]
          },
          "metadata": {},
          "output_type": "display_data"
        },
        {
          "name": "stdout",
          "output_type": "stream",
          "text": [
            "Number of observations YOUR CODE HERE\n",
            "Number of columns YOUR CODE HERE\n"
          ]
        }
      ],
      "source": [
        "url = 'https://media.githubusercontent.com/media/michalis0/Business-Intelligence-and-Analytics/master/data/audi.csv'\n",
        "# Load the data (Do not drop duplicates for reproductability reasons)\n",
        "audi = \"YOUR CODE HERE\"\n",
        "display(\"YOUR CODE HERE\")\n",
        "\n",
        "# Observations and columns (dimensions)\n",
        "print(\"Number of observations\", \"YOUR CODE HERE\")\n",
        "print(\"Number of columns\", \"YOUR CODE HERE\")"
      ]
    },
    {
      "cell_type": "markdown",
      "metadata": {
        "id": "1-d5NsjRARWk"
      },
      "source": [
        "An overview of the columns:\n",
        " * `price`: price in £\n",
        " * `model` : audi model\n",
        " * `year`: registration year\n",
        " * `transmission`: type of gearbox\n",
        " * `mileage`: distance used\n",
        " * `fuelType`: engine fuel\n",
        " * `tax` : road tax\n",
        " * `mpg`: miles per gallon\n",
        " * `engineSize`: size in litres\n",
        "\n",
        " We will try to predict the price using some of the other variables."
      ]
    },
    {
      "cell_type": "markdown",
      "metadata": {
        "id": "kcb2zBloAVmY"
      },
      "source": [
        "\n",
        "## 2. Dealing with categorical variables\n",
        "First we have to deal with our categorical variables. Since it's not possible to regress anything on them, we must transform them using techniques such as label encoding or one-hot encoding. In this part, our goal is to obtain a final dataset, where there are no categorical variables."
      ]
    },
    {
      "cell_type": "markdown",
      "metadata": {
        "id": "LdZLbIjHAXNE"
      },
      "source": [
        "Using the label encoding approach, convert the `fuelType` and `model` columns to numerical columns.\n",
        "\n",
        "Hint: Use the `LabelEncoder` from sklearn. Note that you have to remove the original categorical column and replace it with the label encoded column.\n",
        "\n",
        "\n"
      ]
    },
    {
      "cell_type": "code",
      "execution_count": null,
      "metadata": {
        "id": "eWejYDJFAgL_"
      },
      "outputs": [],
      "source": [
        "# Label encoding\n"
      ]
    },
    {
      "cell_type": "markdown",
      "metadata": {
        "id": "Lom3z3AmAvjJ"
      },
      "source": [
        "Next, transform the `transmission` column using the one-hot encoding approach.\n",
        "\n",
        "**hint :** Use the `get_dummies` from pandas. Remember to set `dtype=int` for the `get_dummies` method. After concatenating the new dataframe with the one hot encoded values to the `audi` dataframe, remember to drop the original categorical column (`transmission`) from the dataframe.\n",
        "\n",
        "\n"
      ]
    },
    {
      "cell_type": "code",
      "execution_count": null,
      "metadata": {
        "id": "wZrSyds0AwmT"
      },
      "outputs": [],
      "source": [
        "# One hot encoding\n",
        "\n",
        "\n",
        "# Drop the initial columns (transmission)\n"
      ]
    },
    {
      "cell_type": "markdown",
      "metadata": {
        "id": "1ddd6wooX06d"
      },
      "source": [
        "Let's take a look at the dataframe data types after all of the transformations."
      ]
    },
    {
      "cell_type": "code",
      "execution_count": null,
      "metadata": {
        "id": "VSy2iXXvX0Br"
      },
      "outputs": [],
      "source": [
        "# Use .dtypes to check the types of the transformations"
      ]
    },
    {
      "cell_type": "markdown",
      "metadata": {
        "id": "RIYvDXeMCwkl"
      },
      "source": [
        "## 3. Multivariate Regression\n",
        "Now that we have transformed the categorical variables, let's get to regression. Using the steps we covered last week, try to predict the `price` using all of our variables.\n",
        "\n",
        "- Split the data to training and test using the sklearn `train_test_split` method. Use theses parameters for the method : `test_size=0.2, random_state=10, shuffle=True`\n",
        "\n",
        "- Use the model `LinearRegression()`\n",
        "\n",
        "- compute the MAE, MSE and R^2 on the testing set.\n",
        "\n",
        "<h2> Important: This part answers the Moodle quiz question 1. <h2>"
      ]
    },
    {
      "cell_type": "code",
      "execution_count": null,
      "metadata": {
        "id": "maH3dPcnDXEc"
      },
      "outputs": [],
      "source": [
        "# We want to predict the price using other columns\n",
        "y = \"YOUR CODE HERE\"\n",
        "X = \"YOUR CODE HERE\""
      ]
    },
    {
      "cell_type": "code",
      "execution_count": null,
      "metadata": {
        "id": "NG0H4WjYDY1p"
      },
      "outputs": [],
      "source": [
        "# Split the data set\n",
        "X_train, X_test, y_train, y_test = \"YOUR CODE HERE\"\n",
        "\n",
        "# Create and fit the model\n",
        "model = \"YOUR CODE HERE\"\n",
        "\"YOUR CODE HERE\"\n",
        "\n",
        "predictions = model.predict(X_test)\n",
        "\n",
        "# Performance metrics\n",
        "print(\"Test scores: \")\n",
        "print(\"MAE %.4f\" % \"YOUR CODE HERE\")\n",
        "print(\"MSE %.4f\" % \"YOUR CODE HERE\")\n",
        "print(\"R^2 %.4f\" % \"YOUR CODE HERE\")\n"
      ]
    },
    {
      "cell_type": "markdown",
      "metadata": {
        "id": "k0OvlQnWvQ5T"
      },
      "source": [
        "## 4.Polynomial Linear Regression\n",
        "\n",
        "Generate a new feature matrix named `X_poly` consisting of all polynomial combinations of all the features available with degree less than or equal to a degree of **2**.\n",
        "\n",
        "Use all the independant variables at your disposition (including the encoded variables).\n",
        "\n",
        "Use the function `PolynomialFeatures()`\n",
        "\n",
        "What is the lenght of this new feature Matrix?"
      ]
    },
    {
      "cell_type": "code",
      "execution_count": 4,
      "metadata": {
        "id": "UJl7GFC_wLzl"
      },
      "outputs": [
        {
          "name": "stdout",
          "output_type": "stream",
          "text": [
            "The lenght of the new feature Matrix is : ...\n"
          ]
        }
      ],
      "source": [
        "# Polynomial regression\n",
        "\n",
        "# Find the length of this feature matrix\n",
        "print('The lenght of the new feature Matrix is : ...')"
      ]
    },
    {
      "cell_type": "markdown",
      "metadata": {
        "id": "1KjPuGTfwaj4"
      },
      "source": [
        "Do a linear regression using the polynomial features you just created.\n",
        "\n",
        "Use the function `LinearRegression()`\n",
        "\n",
        "What is the R^2 score of the regression you performed?"
      ]
    },
    {
      "cell_type": "code",
      "execution_count": null,
      "metadata": {
        "id": "0RYbfKHowjAY"
      },
      "outputs": [],
      "source": [
        "# Linear Regression\n",
        "\n",
        "# What is the R^2?\n",
        "print(\"R^2 score: \")"
      ]
    },
    {
      "cell_type": "markdown",
      "metadata": {
        "id": "0hqqXRZiwo5D"
      },
      "source": [
        "We want to find what is the **best polynomial degree** for our regression.\n",
        "\n",
        "- We will compute the **MSE** for the training and the testing data of the polynomial degrees from 1 to 5 (included)\n",
        "\n",
        "- For splitting the data to training and test, use these parameters: `test_size=0.2, random_state=10, shuffle=True`\n",
        "\n",
        "- Represent your results in a graph.\n",
        "\n",
        "What is the best choice of the polynomial degree based on the MSE values on the test data?\n",
        "\n",
        "<h2> Important: This part answers the moodle quiz question 2. <h2>"
      ]
    },
    {
      "cell_type": "code",
      "execution_count": null,
      "metadata": {
        "id": "E2jXCsIhxKvI"
      },
      "outputs": [],
      "source": [
        "# YOUR CODE HERE"
      ]
    }
  ],
  "metadata": {
    "colab": {
      "include_colab_link": true,
      "provenance": []
    },
    "kernelspec": {
      "display_name": "ada",
      "language": "python",
      "name": "python3"
    },
    "language_info": {
      "codemirror_mode": {
        "name": "ipython",
        "version": 3
      },
      "file_extension": ".py",
      "mimetype": "text/x-python",
      "name": "python",
      "nbconvert_exporter": "python",
      "pygments_lexer": "ipython3",
      "version": "3.11.9"
    }
  },
  "nbformat": 4,
  "nbformat_minor": 0
}
