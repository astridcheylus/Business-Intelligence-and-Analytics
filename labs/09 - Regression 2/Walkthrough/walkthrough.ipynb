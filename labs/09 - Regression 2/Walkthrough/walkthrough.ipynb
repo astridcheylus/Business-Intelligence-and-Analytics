{
  "cells": [
    {
      "cell_type": "markdown",
      "metadata": {
        "colab_type": "text",
        "id": "view-in-github"
      },
      "source": [
        "<a href=\"https://colab.research.google.com/github/michalis0/Business-Intelligence-and-Analytics/blob/master/labs/09%20-%20Regression%202/Walkthrough/walkthrough.ipynb\" target=\"_parent\"><img src=\"https://colab.research.google.com/assets/colab-badge.svg\" alt=\"Open In Colab\"/></a>"
      ]
    },
    {
      "cell_type": "markdown",
      "metadata": {
        "id": "u461z_Wk-K-P"
      },
      "source": [
        "# Walkthrough : Regression 2\n",
        "\n",
        "This week we continue working on regression. Diving into more specific methods, we will show you how to choose the number of parameters, cross validation and 1-hot/label encoding."
      ]
    },
    {
      "cell_type": "markdown",
      "metadata": {
        "id": "gEjK31c_tCl1"
      },
      "source": [
        "# REGRESSION WITH CATEGORICAL VARIABLES"
      ]
    },
    {
      "cell_type": "code",
      "execution_count": 20,
      "metadata": {
        "id": "Oi8vCkNF_B3P"
      },
      "outputs": [],
      "source": [
        "import matplotlib.pylab as plt\n",
        "import pandas as pd\n",
        "import numpy as np\n",
        "%matplotlib inline\n",
        "from sklearn.linear_model import LinearRegression\n",
        "from sklearn.metrics import mean_absolute_error, r2_score, mean_squared_error\n",
        "from sklearn.preprocessing import LabelEncoder\n",
        "from sklearn.preprocessing import OneHotEncoder\n",
        "from sklearn.model_selection import train_test_split\n",
        "from sklearn.preprocessing import PolynomialFeatures\n",
        "import seaborn as sns\n",
        "import statistics"
      ]
    },
    {
      "cell_type": "markdown",
      "metadata": {
        "id": "32vbaIBt_5KF"
      },
      "source": [
        "## Load the dataset\n",
        "\n",
        "The Dataset we will be working on was extracted and modified from [Kaggle](https://www.kaggle.com/mohansacharya/graduate-admissions). It gives us various information concerning students and their chances of admission.\n"
      ]
    },
    {
      "cell_type": "code",
      "execution_count": 21,
      "metadata": {
        "colab": {
          "base_uri": "https://localhost:8080/",
          "height": 416
        },
        "id": "FRP6bS5fABwY",
        "outputId": "e85fac0f-93c8-4f92-e09f-6fad7567ceb4"
      },
      "outputs": [
        {
          "data": {
            "text/html": [
              "<div>\n",
              "<style scoped>\n",
              "    .dataframe tbody tr th:only-of-type {\n",
              "        vertical-align: middle;\n",
              "    }\n",
              "\n",
              "    .dataframe tbody tr th {\n",
              "        vertical-align: top;\n",
              "    }\n",
              "\n",
              "    .dataframe thead th {\n",
              "        text-align: right;\n",
              "    }\n",
              "</style>\n",
              "<table border=\"1\" class=\"dataframe\">\n",
              "  <thead>\n",
              "    <tr style=\"text-align: right;\">\n",
              "      <th></th>\n",
              "      <th>GRE Score</th>\n",
              "      <th>TOEFL Score</th>\n",
              "      <th>University Rating</th>\n",
              "      <th>SOP</th>\n",
              "      <th>LOR</th>\n",
              "      <th>CGPA</th>\n",
              "      <th>Research</th>\n",
              "      <th>Chance of Admit</th>\n",
              "    </tr>\n",
              "    <tr>\n",
              "      <th>Serial No.</th>\n",
              "      <th></th>\n",
              "      <th></th>\n",
              "      <th></th>\n",
              "      <th></th>\n",
              "      <th></th>\n",
              "      <th></th>\n",
              "      <th></th>\n",
              "      <th></th>\n",
              "    </tr>\n",
              "  </thead>\n",
              "  <tbody>\n",
              "    <tr>\n",
              "      <th>1</th>\n",
              "      <td>337</td>\n",
              "      <td>118</td>\n",
              "      <td>GOOD</td>\n",
              "      <td>4.5</td>\n",
              "      <td>4.5</td>\n",
              "      <td>9.65</td>\n",
              "      <td>YES</td>\n",
              "      <td>0.92</td>\n",
              "    </tr>\n",
              "    <tr>\n",
              "      <th>2</th>\n",
              "      <td>324</td>\n",
              "      <td>107</td>\n",
              "      <td>GOOD</td>\n",
              "      <td>4.0</td>\n",
              "      <td>4.5</td>\n",
              "      <td>8.87</td>\n",
              "      <td>YES</td>\n",
              "      <td>0.76</td>\n",
              "    </tr>\n",
              "    <tr>\n",
              "      <th>3</th>\n",
              "      <td>316</td>\n",
              "      <td>104</td>\n",
              "      <td>AVERAGE</td>\n",
              "      <td>3.0</td>\n",
              "      <td>3.5</td>\n",
              "      <td>8.00</td>\n",
              "      <td>YES</td>\n",
              "      <td>0.72</td>\n",
              "    </tr>\n",
              "    <tr>\n",
              "      <th>4</th>\n",
              "      <td>322</td>\n",
              "      <td>110</td>\n",
              "      <td>AVERAGE</td>\n",
              "      <td>3.5</td>\n",
              "      <td>2.5</td>\n",
              "      <td>8.67</td>\n",
              "      <td>YES</td>\n",
              "      <td>0.80</td>\n",
              "    </tr>\n",
              "    <tr>\n",
              "      <th>5</th>\n",
              "      <td>314</td>\n",
              "      <td>103</td>\n",
              "      <td>FAIR</td>\n",
              "      <td>2.0</td>\n",
              "      <td>3.0</td>\n",
              "      <td>8.21</td>\n",
              "      <td>NO</td>\n",
              "      <td>0.65</td>\n",
              "    </tr>\n",
              "  </tbody>\n",
              "</table>\n",
              "</div>"
            ],
            "text/plain": [
              "            GRE Score  TOEFL Score University Rating  SOP  LOR   CGPA  \\\n",
              "Serial No.                                                              \n",
              "1                 337          118              GOOD  4.5   4.5  9.65   \n",
              "2                 324          107              GOOD  4.0   4.5  8.87   \n",
              "3                 316          104           AVERAGE  3.0   3.5  8.00   \n",
              "4                 322          110           AVERAGE  3.5   2.5  8.67   \n",
              "5                 314          103              FAIR  2.0   3.0  8.21   \n",
              "\n",
              "           Research  Chance of Admit  \n",
              "Serial No.                            \n",
              "1               YES             0.92  \n",
              "2               YES             0.76  \n",
              "3               YES             0.72  \n",
              "4               YES             0.80  \n",
              "5                NO             0.65  "
            ]
          },
          "metadata": {},
          "output_type": "display_data"
        },
        {
          "name": "stdout",
          "output_type": "stream",
          "text": [
            "GRE Score              int64\n",
            "TOEFL Score            int64\n",
            "University Rating     object\n",
            "SOP                  float64\n",
            "LOR                  float64\n",
            "CGPA                 float64\n",
            "Research              object\n",
            "Chance of Admit      float64\n",
            "dtype: object\n",
            "Data matrix shape:  (400, 8)\n"
          ]
        }
      ],
      "source": [
        "# Load the dataset\n",
        "url = 'https://media.githubusercontent.com/media/michalis0/Business-Intelligence-and-Analytics/master/data/Admissions_prediction.csv'\n",
        "GAD = pd.read_csv(url, sep = \";\", index_col= 'Serial No.').drop_duplicates() # Graduate Admissions Data\n",
        "\n",
        "display(GAD.head())\n",
        "print(GAD.dtypes)\n",
        "print(\"Data matrix shape: \", GAD.shape)"
      ]
    },
    {
      "cell_type": "markdown",
      "metadata": {
        "id": "RRv1WpGd_fXY"
      },
      "source": [
        "An overview of the columns:\n",
        "\n",
        "\n",
        " * `GRE Score`: GRE is a standardized admission test (out of 340)\n",
        " * `TOEFL Score`: English knowledge (out of 120)\n",
        " * `SOP`: Statement of Purpose (out of 5)\n",
        " * `LOR`: Letter of Recomendation (out of 5)\n",
        " * `CGPA`: College GPA (out of 10)\n",
        " * `RESEARCH`: Whether the applicant did research or not\n",
        "\n",
        "\n",
        " **We will try to predict the chance of admit with the other variables.**"
      ]
    },
    {
      "cell_type": "markdown",
      "metadata": {
        "id": "BU0MR4S4_9k9"
      },
      "source": [
        "## Handling categorical variables for regression\n",
        "\n",
        "First, let's focus on the `Research` column. The applicant was either active in research, or he was not. There are therefore only 2 possible values, hence we will assign 1 for **YES** and 0 for **NO**.\n",
        "\n"
      ]
    },
    {
      "cell_type": "code",
      "execution_count": 23,
      "metadata": {
        "colab": {
          "base_uri": "https://localhost:8080/",
          "height": 238
        },
        "id": "M2kOpYqBAVOW",
        "outputId": "accc66bc-7c97-445b-bced-2679c59a9c58"
      },
      "outputs": [
        {
          "data": {
            "text/html": [
              "<div>\n",
              "<style scoped>\n",
              "    .dataframe tbody tr th:only-of-type {\n",
              "        vertical-align: middle;\n",
              "    }\n",
              "\n",
              "    .dataframe tbody tr th {\n",
              "        vertical-align: top;\n",
              "    }\n",
              "\n",
              "    .dataframe thead th {\n",
              "        text-align: right;\n",
              "    }\n",
              "</style>\n",
              "<table border=\"1\" class=\"dataframe\">\n",
              "  <thead>\n",
              "    <tr style=\"text-align: right;\">\n",
              "      <th></th>\n",
              "      <th>GRE Score</th>\n",
              "      <th>TOEFL Score</th>\n",
              "      <th>University Rating</th>\n",
              "      <th>SOP</th>\n",
              "      <th>LOR</th>\n",
              "      <th>CGPA</th>\n",
              "      <th>Research</th>\n",
              "      <th>Chance of Admit</th>\n",
              "    </tr>\n",
              "    <tr>\n",
              "      <th>Serial No.</th>\n",
              "      <th></th>\n",
              "      <th></th>\n",
              "      <th></th>\n",
              "      <th></th>\n",
              "      <th></th>\n",
              "      <th></th>\n",
              "      <th></th>\n",
              "      <th></th>\n",
              "    </tr>\n",
              "  </thead>\n",
              "  <tbody>\n",
              "    <tr>\n",
              "      <th>1</th>\n",
              "      <td>337</td>\n",
              "      <td>118</td>\n",
              "      <td>GOOD</td>\n",
              "      <td>4.5</td>\n",
              "      <td>4.5</td>\n",
              "      <td>9.65</td>\n",
              "      <td>1</td>\n",
              "      <td>0.92</td>\n",
              "    </tr>\n",
              "    <tr>\n",
              "      <th>2</th>\n",
              "      <td>324</td>\n",
              "      <td>107</td>\n",
              "      <td>GOOD</td>\n",
              "      <td>4.0</td>\n",
              "      <td>4.5</td>\n",
              "      <td>8.87</td>\n",
              "      <td>1</td>\n",
              "      <td>0.76</td>\n",
              "    </tr>\n",
              "    <tr>\n",
              "      <th>3</th>\n",
              "      <td>316</td>\n",
              "      <td>104</td>\n",
              "      <td>AVERAGE</td>\n",
              "      <td>3.0</td>\n",
              "      <td>3.5</td>\n",
              "      <td>8.00</td>\n",
              "      <td>1</td>\n",
              "      <td>0.72</td>\n",
              "    </tr>\n",
              "    <tr>\n",
              "      <th>4</th>\n",
              "      <td>322</td>\n",
              "      <td>110</td>\n",
              "      <td>AVERAGE</td>\n",
              "      <td>3.5</td>\n",
              "      <td>2.5</td>\n",
              "      <td>8.67</td>\n",
              "      <td>1</td>\n",
              "      <td>0.80</td>\n",
              "    </tr>\n",
              "    <tr>\n",
              "      <th>5</th>\n",
              "      <td>314</td>\n",
              "      <td>103</td>\n",
              "      <td>FAIR</td>\n",
              "      <td>2.0</td>\n",
              "      <td>3.0</td>\n",
              "      <td>8.21</td>\n",
              "      <td>0</td>\n",
              "      <td>0.65</td>\n",
              "    </tr>\n",
              "  </tbody>\n",
              "</table>\n",
              "</div>"
            ],
            "text/plain": [
              "            GRE Score  TOEFL Score University Rating  SOP  LOR   CGPA  \\\n",
              "Serial No.                                                              \n",
              "1                 337          118              GOOD  4.5   4.5  9.65   \n",
              "2                 324          107              GOOD  4.0   4.5  8.87   \n",
              "3                 316          104           AVERAGE  3.0   3.5  8.00   \n",
              "4                 322          110           AVERAGE  3.5   2.5  8.67   \n",
              "5                 314          103              FAIR  2.0   3.0  8.21   \n",
              "\n",
              "            Research  Chance of Admit  \n",
              "Serial No.                             \n",
              "1                  1             0.92  \n",
              "2                  1             0.76  \n",
              "3                  1             0.72  \n",
              "4                  1             0.80  \n",
              "5                  0             0.65  "
            ]
          },
          "metadata": {},
          "output_type": "display_data"
        }
      ],
      "source": [
        "GAD['Research'] = GAD['Research'].replace(['NO', 'YES'], [0,1])\n",
        "display(GAD.head())"
      ]
    },
    {
      "cell_type": "markdown",
      "metadata": {
        "id": "Ji2NlqdOj0lu"
      },
      "source": [
        "The alternative way to do this would be to use the label encoder :\n",
        "\n",
        "```python\n",
        "# Using the label encoder to transform the Research variable in a binary\n",
        "label_encoder = LabelEncoder()\n",
        "\n",
        "# Fitting and transforming the data\n",
        "df['Research'] = label_encoder.fit_transform(df['Research'])\n",
        "\n",
        "\n"
      ]
    },
    {
      "cell_type": "markdown",
      "metadata": {
        "id": "0qdFhlJ_psym"
      },
      "source": [
        "Here let's get a quick overview of the **existing correlations** between our variables using a heatmap."
      ]
    },
    {
      "cell_type": "code",
      "execution_count": 24,
      "metadata": {
        "colab": {
          "base_uri": "https://localhost:8080/",
          "height": 537
        },
        "id": "nERSyNFIdKYU",
        "outputId": "93025aa0-d940-4ca5-dc60-544cf872ea1a"
      },
      "outputs": [
        {
          "data": {
            "image/png": "[encoded data removed]",
            "text/plain": [
              "<Figure size 640x480 with 2 Axes>"
            ]
          },
          "metadata": {},
          "output_type": "display_data"
        }
      ],
      "source": [
        "sns.heatmap(GAD.corr(numeric_only=True), annot=True)\n",
        "plt.title('Correlation Matrix')\n",
        "plt.show()"
      ]
    },
    {
      "cell_type": "markdown",
      "metadata": {
        "id": "AaK5vpmRMbkc"
      },
      "source": [
        "Now as we said, we want to predict the **chance of admission** with the help of the other columns, so we create a dataframe **X** with all the other variables except `Chance of Admit`."
      ]
    },
    {
      "cell_type": "code",
      "execution_count": 25,
      "metadata": {
        "colab": {
          "base_uri": "https://localhost:8080/",
          "height": 238
        },
        "id": "ySZ47n4bO6J9",
        "outputId": "c10e50b8-9544-4598-a92f-022d6e6043b9"
      },
      "outputs": [
        {
          "data": {
            "text/html": [
              "<div>\n",
              "<style scoped>\n",
              "    .dataframe tbody tr th:only-of-type {\n",
              "        vertical-align: middle;\n",
              "    }\n",
              "\n",
              "    .dataframe tbody tr th {\n",
              "        vertical-align: top;\n",
              "    }\n",
              "\n",
              "    .dataframe thead th {\n",
              "        text-align: right;\n",
              "    }\n",
              "</style>\n",
              "<table border=\"1\" class=\"dataframe\">\n",
              "  <thead>\n",
              "    <tr style=\"text-align: right;\">\n",
              "      <th></th>\n",
              "      <th>GRE Score</th>\n",
              "      <th>TOEFL Score</th>\n",
              "      <th>University Rating</th>\n",
              "      <th>SOP</th>\n",
              "      <th>LOR</th>\n",
              "      <th>CGPA</th>\n",
              "      <th>Research</th>\n",
              "    </tr>\n",
              "    <tr>\n",
              "      <th>Serial No.</th>\n",
              "      <th></th>\n",
              "      <th></th>\n",
              "      <th></th>\n",
              "      <th></th>\n",
              "      <th></th>\n",
              "      <th></th>\n",
              "      <th></th>\n",
              "    </tr>\n",
              "  </thead>\n",
              "  <tbody>\n",
              "    <tr>\n",
              "      <th>1</th>\n",
              "      <td>337</td>\n",
              "      <td>118</td>\n",
              "      <td>GOOD</td>\n",
              "      <td>4.5</td>\n",
              "      <td>4.5</td>\n",
              "      <td>9.65</td>\n",
              "      <td>1</td>\n",
              "    </tr>\n",
              "    <tr>\n",
              "      <th>2</th>\n",
              "      <td>324</td>\n",
              "      <td>107</td>\n",
              "      <td>GOOD</td>\n",
              "      <td>4.0</td>\n",
              "      <td>4.5</td>\n",
              "      <td>8.87</td>\n",
              "      <td>1</td>\n",
              "    </tr>\n",
              "    <tr>\n",
              "      <th>3</th>\n",
              "      <td>316</td>\n",
              "      <td>104</td>\n",
              "      <td>AVERAGE</td>\n",
              "      <td>3.0</td>\n",
              "      <td>3.5</td>\n",
              "      <td>8.00</td>\n",
              "      <td>1</td>\n",
              "    </tr>\n",
              "    <tr>\n",
              "      <th>4</th>\n",
              "      <td>322</td>\n",
              "      <td>110</td>\n",
              "      <td>AVERAGE</td>\n",
              "      <td>3.5</td>\n",
              "      <td>2.5</td>\n",
              "      <td>8.67</td>\n",
              "      <td>1</td>\n",
              "    </tr>\n",
              "    <tr>\n",
              "      <th>5</th>\n",
              "      <td>314</td>\n",
              "      <td>103</td>\n",
              "      <td>FAIR</td>\n",
              "      <td>2.0</td>\n",
              "      <td>3.0</td>\n",
              "      <td>8.21</td>\n",
              "      <td>0</td>\n",
              "    </tr>\n",
              "  </tbody>\n",
              "</table>\n",
              "</div>"
            ],
            "text/plain": [
              "            GRE Score  TOEFL Score University Rating  SOP  LOR   CGPA  \\\n",
              "Serial No.                                                              \n",
              "1                 337          118              GOOD  4.5   4.5  9.65   \n",
              "2                 324          107              GOOD  4.0   4.5  8.87   \n",
              "3                 316          104           AVERAGE  3.0   3.5  8.00   \n",
              "4                 322          110           AVERAGE  3.5   2.5  8.67   \n",
              "5                 314          103              FAIR  2.0   3.0  8.21   \n",
              "\n",
              "            Research  \n",
              "Serial No.            \n",
              "1                  1  \n",
              "2                  1  \n",
              "3                  1  \n",
              "4                  1  \n",
              "5                  0  "
            ]
          },
          "execution_count": 25,
          "metadata": {},
          "output_type": "execute_result"
        }
      ],
      "source": [
        "# We assign the variable Y to the chance of admission\n",
        "y = GAD[['Chance of Admit']]\n",
        "\n",
        "# We create the dataframe X\n",
        "X = GAD.drop('Chance of Admit', axis = 1)\n",
        "\n",
        "X.head()"
      ]
    },
    {
      "cell_type": "code",
      "execution_count": 26,
      "metadata": {
        "colab": {
          "base_uri": "https://localhost:8080/"
        },
        "id": "b-6eAtVKsx_I",
        "outputId": "39dd58d9-66c1-4260-ca63-390136ee7870"
      },
      "outputs": [
        {
          "data": {
            "text/plain": [
              "GRE Score              int64\n",
              "TOEFL Score            int64\n",
              "University Rating     object\n",
              "SOP                  float64\n",
              "LOR                  float64\n",
              "CGPA                 float64\n",
              "Research               int64\n",
              "dtype: object"
            ]
          },
          "execution_count": 26,
          "metadata": {},
          "output_type": "execute_result"
        }
      ],
      "source": [
        "X.dtypes"
      ]
    },
    {
      "cell_type": "markdown",
      "metadata": {
        "id": "PmtpafMDSjep"
      },
      "source": [
        "Now we need to handle the `University Ranking`.\n",
        "We will do both, one-hot and label encoding.\n",
        "\n",
        "For *label encoding*, we can use Sklearn's `LabelEncoder()` function.\n"
      ]
    },
    {
      "cell_type": "code",
      "execution_count": 27,
      "metadata": {
        "id": "iMz58tDKSliV"
      },
      "outputs": [],
      "source": [
        "# Creating X_lab for comparison later with X_hot\n",
        "X_label = X.copy()\n",
        "\n",
        "# We will use LabelEncoder\n",
        "label_encoder = LabelEncoder()\n",
        "\n",
        "# Applying the LabelEncoder to the 'University Ranking' column\n",
        "X_label['University Rating'] = label_encoder.fit_transform(X_label['University Rating'])"
      ]
    },
    {
      "cell_type": "code",
      "execution_count": 28,
      "metadata": {
        "colab": {
          "base_uri": "https://localhost:8080/",
          "height": 255
        },
        "id": "0wVLnTrdqf88",
        "outputId": "e71617ee-0808-4078-90bd-008c6aba47b3"
      },
      "outputs": [
        {
          "data": {
            "text/html": [
              "<div>\n",
              "<style scoped>\n",
              "    .dataframe tbody tr th:only-of-type {\n",
              "        vertical-align: middle;\n",
              "    }\n",
              "\n",
              "    .dataframe tbody tr th {\n",
              "        vertical-align: top;\n",
              "    }\n",
              "\n",
              "    .dataframe thead th {\n",
              "        text-align: right;\n",
              "    }\n",
              "</style>\n",
              "<table border=\"1\" class=\"dataframe\">\n",
              "  <thead>\n",
              "    <tr style=\"text-align: right;\">\n",
              "      <th></th>\n",
              "      <th>GRE Score</th>\n",
              "      <th>TOEFL Score</th>\n",
              "      <th>University Rating</th>\n",
              "      <th>SOP</th>\n",
              "      <th>LOR</th>\n",
              "      <th>CGPA</th>\n",
              "      <th>Research</th>\n",
              "    </tr>\n",
              "    <tr>\n",
              "      <th>Serial No.</th>\n",
              "      <th></th>\n",
              "      <th></th>\n",
              "      <th></th>\n",
              "      <th></th>\n",
              "      <th></th>\n",
              "      <th></th>\n",
              "      <th></th>\n",
              "    </tr>\n",
              "  </thead>\n",
              "  <tbody>\n",
              "    <tr>\n",
              "      <th>1</th>\n",
              "      <td>337</td>\n",
              "      <td>118</td>\n",
              "      <td>3</td>\n",
              "      <td>4.5</td>\n",
              "      <td>4.5</td>\n",
              "      <td>9.65</td>\n",
              "      <td>1</td>\n",
              "    </tr>\n",
              "    <tr>\n",
              "      <th>2</th>\n",
              "      <td>324</td>\n",
              "      <td>107</td>\n",
              "      <td>3</td>\n",
              "      <td>4.0</td>\n",
              "      <td>4.5</td>\n",
              "      <td>8.87</td>\n",
              "      <td>1</td>\n",
              "    </tr>\n",
              "    <tr>\n",
              "      <th>3</th>\n",
              "      <td>316</td>\n",
              "      <td>104</td>\n",
              "      <td>0</td>\n",
              "      <td>3.0</td>\n",
              "      <td>3.5</td>\n",
              "      <td>8.00</td>\n",
              "      <td>1</td>\n",
              "    </tr>\n",
              "    <tr>\n",
              "      <th>4</th>\n",
              "      <td>322</td>\n",
              "      <td>110</td>\n",
              "      <td>0</td>\n",
              "      <td>3.5</td>\n",
              "      <td>2.5</td>\n",
              "      <td>8.67</td>\n",
              "      <td>1</td>\n",
              "    </tr>\n",
              "    <tr>\n",
              "      <th>5</th>\n",
              "      <td>314</td>\n",
              "      <td>103</td>\n",
              "      <td>2</td>\n",
              "      <td>2.0</td>\n",
              "      <td>3.0</td>\n",
              "      <td>8.21</td>\n",
              "      <td>0</td>\n",
              "    </tr>\n",
              "  </tbody>\n",
              "</table>\n",
              "</div>"
            ],
            "text/plain": [
              "            GRE Score  TOEFL Score  University Rating  SOP  LOR   CGPA  \\\n",
              "Serial No.                                                               \n",
              "1                 337          118                  3  4.5   4.5  9.65   \n",
              "2                 324          107                  3  4.0   4.5  8.87   \n",
              "3                 316          104                  0  3.0   3.5  8.00   \n",
              "4                 322          110                  0  3.5   2.5  8.67   \n",
              "5                 314          103                  2  2.0   3.0  8.21   \n",
              "\n",
              "            Research  \n",
              "Serial No.            \n",
              "1                  1  \n",
              "2                  1  \n",
              "3                  1  \n",
              "4                  1  \n",
              "5                  0  "
            ]
          },
          "metadata": {},
          "output_type": "display_data"
        },
        {
          "data": {
            "text/plain": [
              "array([3, 0, 2, 1, 4])"
            ]
          },
          "metadata": {},
          "output_type": "display_data"
        }
      ],
      "source": [
        "display(X_label.head())\n",
        "display(X_label['University Rating'].unique())"
      ]
    },
    {
      "cell_type": "code",
      "execution_count": 29,
      "metadata": {
        "colab": {
          "base_uri": "https://localhost:8080/"
        },
        "id": "8YJzpOtx3M1p",
        "outputId": "f2cbd42f-c437-4299-95aa-7d68493f621a"
      },
      "outputs": [
        {
          "data": {
            "text/plain": [
              "array(['AVERAGE', 'EXCELLENT', 'FAIR', 'GOOD', 'POOR'], dtype=object)"
            ]
          },
          "execution_count": 29,
          "metadata": {},
          "output_type": "execute_result"
        }
      ],
      "source": [
        "label_encoder.classes_ # Here we can see that the 0 corresponds to Average, 1 is excellent, 2 Fair, 3 Good and 4 Poor"
      ]
    },
    {
      "cell_type": "markdown",
      "metadata": {
        "id": "Xlj_DnDMqr_z"
      },
      "source": [
        "For *one-hot* encoding we use pandas `get_dummy` function."
      ]
    },
    {
      "cell_type": "code",
      "execution_count": 30,
      "metadata": {
        "colab": {
          "base_uri": "https://localhost:8080/",
          "height": 676
        },
        "id": "IyuTZwch3Vbs",
        "outputId": "c4b6a345-a838-45a8-fbdf-1ad883306ae9"
      },
      "outputs": [
        {
          "data": {
            "text/html": [
              "<div>\n",
              "<style scoped>\n",
              "    .dataframe tbody tr th:only-of-type {\n",
              "        vertical-align: middle;\n",
              "    }\n",
              "\n",
              "    .dataframe tbody tr th {\n",
              "        vertical-align: top;\n",
              "    }\n",
              "\n",
              "    .dataframe thead th {\n",
              "        text-align: right;\n",
              "    }\n",
              "</style>\n",
              "<table border=\"1\" class=\"dataframe\">\n",
              "  <thead>\n",
              "    <tr style=\"text-align: right;\">\n",
              "      <th></th>\n",
              "      <th>AVERAGE</th>\n",
              "      <th>EXCELLENT</th>\n",
              "      <th>FAIR</th>\n",
              "      <th>GOOD</th>\n",
              "      <th>POOR</th>\n",
              "    </tr>\n",
              "    <tr>\n",
              "      <th>Serial No.</th>\n",
              "      <th></th>\n",
              "      <th></th>\n",
              "      <th></th>\n",
              "      <th></th>\n",
              "      <th></th>\n",
              "    </tr>\n",
              "  </thead>\n",
              "  <tbody>\n",
              "    <tr>\n",
              "      <th>1</th>\n",
              "      <td>False</td>\n",
              "      <td>False</td>\n",
              "      <td>False</td>\n",
              "      <td>True</td>\n",
              "      <td>False</td>\n",
              "    </tr>\n",
              "    <tr>\n",
              "      <th>2</th>\n",
              "      <td>False</td>\n",
              "      <td>False</td>\n",
              "      <td>False</td>\n",
              "      <td>True</td>\n",
              "      <td>False</td>\n",
              "    </tr>\n",
              "    <tr>\n",
              "      <th>3</th>\n",
              "      <td>True</td>\n",
              "      <td>False</td>\n",
              "      <td>False</td>\n",
              "      <td>False</td>\n",
              "      <td>False</td>\n",
              "    </tr>\n",
              "    <tr>\n",
              "      <th>4</th>\n",
              "      <td>True</td>\n",
              "      <td>False</td>\n",
              "      <td>False</td>\n",
              "      <td>False</td>\n",
              "      <td>False</td>\n",
              "    </tr>\n",
              "    <tr>\n",
              "      <th>5</th>\n",
              "      <td>False</td>\n",
              "      <td>False</td>\n",
              "      <td>True</td>\n",
              "      <td>False</td>\n",
              "      <td>False</td>\n",
              "    </tr>\n",
              "    <tr>\n",
              "      <th>...</th>\n",
              "      <td>...</td>\n",
              "      <td>...</td>\n",
              "      <td>...</td>\n",
              "      <td>...</td>\n",
              "      <td>...</td>\n",
              "    </tr>\n",
              "    <tr>\n",
              "      <th>396</th>\n",
              "      <td>True</td>\n",
              "      <td>False</td>\n",
              "      <td>False</td>\n",
              "      <td>False</td>\n",
              "      <td>False</td>\n",
              "    </tr>\n",
              "    <tr>\n",
              "      <th>397</th>\n",
              "      <td>True</td>\n",
              "      <td>False</td>\n",
              "      <td>False</td>\n",
              "      <td>False</td>\n",
              "      <td>False</td>\n",
              "    </tr>\n",
              "    <tr>\n",
              "      <th>398</th>\n",
              "      <td>False</td>\n",
              "      <td>False</td>\n",
              "      <td>False</td>\n",
              "      <td>True</td>\n",
              "      <td>False</td>\n",
              "    </tr>\n",
              "    <tr>\n",
              "      <th>399</th>\n",
              "      <td>True</td>\n",
              "      <td>False</td>\n",
              "      <td>False</td>\n",
              "      <td>False</td>\n",
              "      <td>False</td>\n",
              "    </tr>\n",
              "    <tr>\n",
              "      <th>400</th>\n",
              "      <td>False</td>\n",
              "      <td>False</td>\n",
              "      <td>False</td>\n",
              "      <td>True</td>\n",
              "      <td>False</td>\n",
              "    </tr>\n",
              "  </tbody>\n",
              "</table>\n",
              "<p>400 rows × 5 columns</p>\n",
              "</div>"
            ],
            "text/plain": [
              "            AVERAGE  EXCELLENT   FAIR   GOOD   POOR\n",
              "Serial No.                                         \n",
              "1             False      False  False   True  False\n",
              "2             False      False  False   True  False\n",
              "3              True      False  False  False  False\n",
              "4              True      False  False  False  False\n",
              "5             False      False   True  False  False\n",
              "...             ...        ...    ...    ...    ...\n",
              "396            True      False  False  False  False\n",
              "397            True      False  False  False  False\n",
              "398           False      False  False   True  False\n",
              "399            True      False  False  False  False\n",
              "400           False      False  False   True  False\n",
              "\n",
              "[400 rows x 5 columns]"
            ]
          },
          "metadata": {},
          "output_type": "display_data"
        },
        {
          "data": {
            "text/html": [
              "<div>\n",
              "<style scoped>\n",
              "    .dataframe tbody tr th:only-of-type {\n",
              "        vertical-align: middle;\n",
              "    }\n",
              "\n",
              "    .dataframe tbody tr th {\n",
              "        vertical-align: top;\n",
              "    }\n",
              "\n",
              "    .dataframe thead th {\n",
              "        text-align: right;\n",
              "    }\n",
              "</style>\n",
              "<table border=\"1\" class=\"dataframe\">\n",
              "  <thead>\n",
              "    <tr style=\"text-align: right;\">\n",
              "      <th></th>\n",
              "      <th>GRE Score</th>\n",
              "      <th>TOEFL Score</th>\n",
              "      <th>SOP</th>\n",
              "      <th>LOR</th>\n",
              "      <th>CGPA</th>\n",
              "      <th>Research</th>\n",
              "      <th>AVERAGE</th>\n",
              "      <th>EXCELLENT</th>\n",
              "      <th>FAIR</th>\n",
              "      <th>GOOD</th>\n",
              "      <th>POOR</th>\n",
              "    </tr>\n",
              "    <tr>\n",
              "      <th>Serial No.</th>\n",
              "      <th></th>\n",
              "      <th></th>\n",
              "      <th></th>\n",
              "      <th></th>\n",
              "      <th></th>\n",
              "      <th></th>\n",
              "      <th></th>\n",
              "      <th></th>\n",
              "      <th></th>\n",
              "      <th></th>\n",
              "      <th></th>\n",
              "    </tr>\n",
              "  </thead>\n",
              "  <tbody>\n",
              "    <tr>\n",
              "      <th>1</th>\n",
              "      <td>337</td>\n",
              "      <td>118</td>\n",
              "      <td>4.5</td>\n",
              "      <td>4.5</td>\n",
              "      <td>9.65</td>\n",
              "      <td>1</td>\n",
              "      <td>False</td>\n",
              "      <td>False</td>\n",
              "      <td>False</td>\n",
              "      <td>True</td>\n",
              "      <td>False</td>\n",
              "    </tr>\n",
              "    <tr>\n",
              "      <th>2</th>\n",
              "      <td>324</td>\n",
              "      <td>107</td>\n",
              "      <td>4.0</td>\n",
              "      <td>4.5</td>\n",
              "      <td>8.87</td>\n",
              "      <td>1</td>\n",
              "      <td>False</td>\n",
              "      <td>False</td>\n",
              "      <td>False</td>\n",
              "      <td>True</td>\n",
              "      <td>False</td>\n",
              "    </tr>\n",
              "    <tr>\n",
              "      <th>3</th>\n",
              "      <td>316</td>\n",
              "      <td>104</td>\n",
              "      <td>3.0</td>\n",
              "      <td>3.5</td>\n",
              "      <td>8.00</td>\n",
              "      <td>1</td>\n",
              "      <td>True</td>\n",
              "      <td>False</td>\n",
              "      <td>False</td>\n",
              "      <td>False</td>\n",
              "      <td>False</td>\n",
              "    </tr>\n",
              "    <tr>\n",
              "      <th>4</th>\n",
              "      <td>322</td>\n",
              "      <td>110</td>\n",
              "      <td>3.5</td>\n",
              "      <td>2.5</td>\n",
              "      <td>8.67</td>\n",
              "      <td>1</td>\n",
              "      <td>True</td>\n",
              "      <td>False</td>\n",
              "      <td>False</td>\n",
              "      <td>False</td>\n",
              "      <td>False</td>\n",
              "    </tr>\n",
              "    <tr>\n",
              "      <th>5</th>\n",
              "      <td>314</td>\n",
              "      <td>103</td>\n",
              "      <td>2.0</td>\n",
              "      <td>3.0</td>\n",
              "      <td>8.21</td>\n",
              "      <td>0</td>\n",
              "      <td>False</td>\n",
              "      <td>False</td>\n",
              "      <td>True</td>\n",
              "      <td>False</td>\n",
              "      <td>False</td>\n",
              "    </tr>\n",
              "  </tbody>\n",
              "</table>\n",
              "</div>"
            ],
            "text/plain": [
              "            GRE Score  TOEFL Score  SOP  LOR   CGPA  Research  AVERAGE  \\\n",
              "Serial No.                                                               \n",
              "1                 337          118  4.5   4.5  9.65         1    False   \n",
              "2                 324          107  4.0   4.5  8.87         1    False   \n",
              "3                 316          104  3.0   3.5  8.00         1     True   \n",
              "4                 322          110  3.5   2.5  8.67         1     True   \n",
              "5                 314          103  2.0   3.0  8.21         0    False   \n",
              "\n",
              "            EXCELLENT   FAIR   GOOD   POOR  \n",
              "Serial No.                                  \n",
              "1               False  False   True  False  \n",
              "2               False  False   True  False  \n",
              "3               False  False  False  False  \n",
              "4               False  False  False  False  \n",
              "5               False   True  False  False  "
            ]
          },
          "metadata": {},
          "output_type": "display_data"
        }
      ],
      "source": [
        "# 1-hot encoding\n",
        "\n",
        "# We create a DF with Dummy variables\n",
        "dummies = pd.get_dummies(GAD[\"University Rating\"])\n",
        "X_hot = pd.concat([X, dummies], axis = 1) # We put together the X with the dummy columns we created\n",
        "\n",
        "# We drop the Rating column\n",
        "del X_hot[\"University Rating\"]\n",
        "\n",
        "# Have a look at what dummies actually looks like\n",
        "display(dummies)\n",
        "display(X_hot.head())"
      ]
    },
    {
      "cell_type": "markdown",
      "metadata": {
        "id": "mQK3FiQe-lll"
      },
      "source": [
        "We will now build two models, one for 1-hot encoding and one for label encoding.\n",
        "\n",
        "\n",
        "Let's start with *label encoding*:"
      ]
    },
    {
      "cell_type": "code",
      "execution_count": 31,
      "metadata": {
        "colab": {
          "base_uri": "https://localhost:8080/"
        },
        "id": "m6IAkPe5_GlF",
        "outputId": "d2ba0548-adf6-45ae-909f-02d290f5fc44"
      },
      "outputs": [
        {
          "name": "stdout",
          "output_type": "stream",
          "text": [
            "R^2 of train set using label encoding:  0.8165\n",
            "MAE LAB 0.05\n",
            "MSE LAB 0.00\n",
            "R^2 score LAB 0.7355\n"
          ]
        }
      ],
      "source": [
        "# Split Dataset\n",
        "X_train_lab, X_test_lab, y_train_lab, y_test_lab = train_test_split(X_label, y, test_size=0.2, random_state=0, shuffle=True) # Spliting training and testing\n",
        "\n",
        "# Fit the model\n",
        "model_lab = LinearRegression()\n",
        "model_lab.fit(X_train_lab, y_train_lab) # Fit the model on the training data\n",
        "\n",
        "# Calculate R2\n",
        "lab_r2 = round(model_lab.score(X_train_lab, y_train_lab), 4)\n",
        "print(\"R^2 of train set using label encoding: \", lab_r2 )\n",
        "\n",
        "# Calculate Scores on Test-Set\n",
        "label_predictions = model_lab.predict(X_test_lab)\n",
        "lab_mae = mean_absolute_error(y_test_lab, label_predictions)\n",
        "lab_mse = mean_squared_error(y_test_lab, label_predictions)\n",
        "lab_r2_test = r2_score(y_test_lab, label_predictions)\n",
        "\n",
        "print(\"MAE LAB %.2f\" % lab_mae)\n",
        "print(\"MSE LAB %.2f\" % lab_mse)\n",
        "print(\"R^2 score LAB %.4f\" % lab_r2_test)\n"
      ]
    },
    {
      "cell_type": "markdown",
      "metadata": {
        "id": "6CdawFAZDMgM"
      },
      "source": [
        "And now with *1-hot*:"
      ]
    },
    {
      "cell_type": "code",
      "execution_count": 33,
      "metadata": {
        "colab": {
          "base_uri": "https://localhost:8080/"
        },
        "id": "jVFRDpP9-1VQ",
        "outputId": "ffc6da3b-a6c6-422b-935a-3a6d6bc36eb3"
      },
      "outputs": [
        {
          "name": "stdout",
          "output_type": "stream",
          "text": [
            "R^2 Train Score using 1-hot encoding :  0.8182\n",
            "MAE HOT 0.05\n",
            "MSE HOT 0.00\n",
            "R^2 score HOT 0.7403\n"
          ]
        }
      ],
      "source": [
        "# Split Dataset\n",
        "X_train_hot, X_test_hot, y_train_hot, y_test_hot = train_test_split(X_hot, y, test_size=0.2, random_state=0, shuffle=True)\n",
        "\n",
        "# Fit the model\n",
        "model_hot = LinearRegression()\n",
        "model_hot.fit(X_train_hot, y_train_hot)\n",
        "\n",
        "# Calculate R2\n",
        "hot_r2 = round(model_hot.score(X_train_hot, y_train_hot), 4)\n",
        "print(\"R^2 Train Score using 1-hot encoding : \", hot_r2 )\n",
        "\n",
        "# Calculate Scores on Test-Set\n",
        "hot_predictions = model_hot.predict(X_test_hot)\n",
        "hot_mae = mean_absolute_error(y_test_hot, hot_predictions)\n",
        "hot_mse = mean_squared_error(y_test_hot, hot_predictions)\n",
        "hot_r2_test = r2_score(y_test_hot, hot_predictions)\n",
        "\n",
        "\n",
        "print(\"MAE HOT %.2f\" % hot_mae)\n",
        "print(\"MSE HOT %.2f\" % hot_mse)\n",
        "print(\"R^2 score HOT %.4f\" % hot_r2_test)\n"
      ]
    },
    {
      "cell_type": "code",
      "execution_count": 34,
      "metadata": {
        "colab": {
          "base_uri": "https://localhost:8080/"
        },
        "id": "A-pi4KJa_x39",
        "outputId": "6f08e493-501e-4172-9dd4-2c0551637edf"
      },
      "outputs": [
        {
          "name": "stdout",
          "output_type": "stream",
          "text": [
            "The 1-hot encoding method yields an R^2 0.208% higher than using label encoding for the train set.\n"
          ]
        }
      ],
      "source": [
        "print(\"The 1-hot encoding method yields an R^2 {}% higher than using label encoding for the train set.\".format(round((hot_r2/lab_r2 -1)*100, 3)))"
      ]
    },
    {
      "cell_type": "code",
      "execution_count": 35,
      "metadata": {
        "colab": {
          "base_uri": "https://localhost:8080/"
        },
        "id": "5ElfuwrsCmrt",
        "outputId": "dd3a681a-e1b0-4be5-8e1c-d3aa15c1dd97"
      },
      "outputs": [
        {
          "name": "stdout",
          "output_type": "stream",
          "text": [
            "The 1-hot encoding method yields an R^2 0.65% higher than using label encoding for the test set.\n"
          ]
        }
      ],
      "source": [
        "print(\"The 1-hot encoding method yields an R^2 {}% higher than using label encoding for the test set.\".format(round((hot_r2_test/lab_r2_test -1)*100, 3)))"
      ]
    },
    {
      "cell_type": "markdown",
      "metadata": {
        "id": "fC7JH-e0Dd4d"
      },
      "source": [
        "Have a look at how the **intercepts** and the **coefficient**s change for each method:"
      ]
    },
    {
      "cell_type": "code",
      "execution_count": 36,
      "metadata": {
        "colab": {
          "base_uri": "https://localhost:8080/"
        },
        "id": "WAMS6qKIHC35",
        "outputId": "780d8686-08ac-4e95-bd4f-ef2da75c18c7"
      },
      "outputs": [
        {
          "name": "stdout",
          "output_type": "stream",
          "text": [
            "Intercept:  -1.284738524004085\n",
            "Intercept:  -1.3605812826822135\n"
          ]
        }
      ],
      "source": [
        "print(\"Intercept: \", model_hot.intercept_[0])\n",
        "print(\"Intercept: \", model_lab.intercept_[0])"
      ]
    },
    {
      "cell_type": "code",
      "execution_count": 37,
      "metadata": {
        "colab": {
          "base_uri": "https://localhost:8080/"
        },
        "id": "cEJzhlGNIR0E",
        "outputId": "83f91c07-b108-452a-fe0f-731dfce36e7f"
      },
      "outputs": [
        {
          "name": "stdout",
          "output_type": "stream",
          "text": [
            "Features coefficients for HOT (weigths):  [[ 0.0020506   0.00202487 -0.00418539  0.02129711  0.12447107  0.02416713\n",
            "  -0.0036891   0.01520818 -0.01014306  0.00121785 -0.00259387]]\n",
            "Features coefficients for LAB (weigths):  [[ 0.0021295   0.00213468  0.00026054 -0.00262146  0.02259374  0.1276427\n",
            "   0.02445849]]\n"
          ]
        }
      ],
      "source": [
        "weights_hot = model_hot.coef_.flatten()\n",
        "weights_lab = model_lab.coef_.flatten()\n",
        "\n",
        "print(\"Features coefficients for HOT (weigths): \", model_hot.coef_)\n",
        "print(\"Features coefficients for LAB (weigths): \", model_lab.coef_)"
      ]
    },
    {
      "cell_type": "markdown",
      "metadata": {
        "id": "HmwVCD3rWxfT"
      },
      "source": [
        "# POLYNOMIAL LINEAR REGRESSION\n",
        "\n",
        "We will now have a look at another model. We are going to use `Advertisement` data we used last week. The task is to figure out how different means of advertisement influence the amount of sales of a product."
      ]
    },
    {
      "cell_type": "code",
      "execution_count": 38,
      "metadata": {
        "colab": {
          "base_uri": "https://localhost:8080/",
          "height": 237
        },
        "id": "s-2cmk3BXdcJ",
        "outputId": "994d46fe-20af-41ea-bc1f-9bd358d9a1f9"
      },
      "outputs": [
        {
          "data": {
            "text/html": [
              "<div>\n",
              "<style scoped>\n",
              "    .dataframe tbody tr th:only-of-type {\n",
              "        vertical-align: middle;\n",
              "    }\n",
              "\n",
              "    .dataframe tbody tr th {\n",
              "        vertical-align: top;\n",
              "    }\n",
              "\n",
              "    .dataframe thead th {\n",
              "        text-align: right;\n",
              "    }\n",
              "</style>\n",
              "<table border=\"1\" class=\"dataframe\">\n",
              "  <thead>\n",
              "    <tr style=\"text-align: right;\">\n",
              "      <th></th>\n",
              "      <th>TV</th>\n",
              "      <th>Radio</th>\n",
              "      <th>Newspaper</th>\n",
              "      <th>Sales</th>\n",
              "    </tr>\n",
              "    <tr>\n",
              "      <th>id</th>\n",
              "      <th></th>\n",
              "      <th></th>\n",
              "      <th></th>\n",
              "      <th></th>\n",
              "    </tr>\n",
              "  </thead>\n",
              "  <tbody>\n",
              "    <tr>\n",
              "      <th>1</th>\n",
              "      <td>230.1</td>\n",
              "      <td>37.8</td>\n",
              "      <td>69.2</td>\n",
              "      <td>22.1</td>\n",
              "    </tr>\n",
              "    <tr>\n",
              "      <th>2</th>\n",
              "      <td>44.5</td>\n",
              "      <td>39.3</td>\n",
              "      <td>45.1</td>\n",
              "      <td>10.4</td>\n",
              "    </tr>\n",
              "    <tr>\n",
              "      <th>3</th>\n",
              "      <td>17.2</td>\n",
              "      <td>45.9</td>\n",
              "      <td>69.3</td>\n",
              "      <td>9.3</td>\n",
              "    </tr>\n",
              "    <tr>\n",
              "      <th>4</th>\n",
              "      <td>151.5</td>\n",
              "      <td>41.3</td>\n",
              "      <td>58.5</td>\n",
              "      <td>18.5</td>\n",
              "    </tr>\n",
              "    <tr>\n",
              "      <th>5</th>\n",
              "      <td>180.8</td>\n",
              "      <td>10.8</td>\n",
              "      <td>58.4</td>\n",
              "      <td>12.9</td>\n",
              "    </tr>\n",
              "  </tbody>\n",
              "</table>\n",
              "</div>"
            ],
            "text/plain": [
              "       TV  Radio  Newspaper  Sales\n",
              "id                                \n",
              "1   230.1   37.8       69.2   22.1\n",
              "2    44.5   39.3       45.1   10.4\n",
              "3    17.2   45.9       69.3    9.3\n",
              "4   151.5   41.3       58.5   18.5\n",
              "5   180.8   10.8       58.4   12.9"
            ]
          },
          "execution_count": 38,
          "metadata": {},
          "output_type": "execute_result"
        }
      ],
      "source": [
        "ad_df = pd.read_csv('https://media.githubusercontent.com/media/michalis0/Business-Intelligence-and-Analytics/master/data/Advertising.csv', index_col = \"id\")\n",
        "ad_df.head()"
      ]
    },
    {
      "cell_type": "markdown",
      "metadata": {
        "id": "Vr7R_sXZSmPy"
      },
      "source": [
        "As we did before, we start by fixing our variables Y and X. In this case our dependent variable is going to be `Sales`and the independent variable will be the different means of advertisment (`TV`, `Radio`and `Newspaper`)."
      ]
    },
    {
      "cell_type": "code",
      "execution_count": 39,
      "metadata": {
        "id": "4m4OAEl1X2f5"
      },
      "outputs": [],
      "source": [
        "y = ad_df[\"Sales\"]\n",
        "X = ad_df.drop(\"Sales\", axis = 1)"
      ]
    },
    {
      "cell_type": "code",
      "execution_count": 40,
      "metadata": {
        "colab": {
          "base_uri": "https://localhost:8080/"
        },
        "id": "-dB3hlTFYgOx",
        "outputId": "5dae33e4-53df-4a45-b711-038cc7973ba5"
      },
      "outputs": [
        {
          "name": "stdout",
          "output_type": "stream",
          "text": [
            "Test scores: \n",
            "MAE 1.36\n",
            "MSE 4.40\n",
            "R^2 0.86\n",
            "Train metrics\n",
            "params:  [ 0.04458402  0.19649703 -0.00278146]\n",
            "constant:  2.99489303049533\n",
            "R^2 score:  0.8964076641629948\n"
          ]
        }
      ],
      "source": [
        "# First let's go for a linear multivariate regression\n",
        "# You should know the drill by now\n",
        "X_train, X_test, y_train, y_test = train_test_split(X, y, test_size=0.2, random_state=0, shuffle=True)\n",
        "\n",
        "model = LinearRegression()\n",
        "model.fit(X_train, y_train)\n",
        "predictions = model.predict(X_test)\n",
        "\n",
        "# 3. Performance metrics\n",
        "mae = mean_absolute_error(y_test, predictions)\n",
        "mse = mean_squared_error(y_test, predictions)\n",
        "r2 = r2_score(y_test, predictions)\n",
        "\n",
        "print(\"Test scores: \")\n",
        "print(\"MAE %.2f\" % mae)\n",
        "print(\"MSE %.2f\" % mse)\n",
        "print(\"R^2 %.2f\" % r2)\n",
        "\n",
        "print(\"Train metrics\")\n",
        "print(\"params: \", model.coef_)\n",
        "print(\"constant: \", model.intercept_)\n",
        "print(\"R^2 score: \", model.score(X, y))"
      ]
    },
    {
      "cell_type": "markdown",
      "metadata": {
        "id": "Vat_JVqHsm7B"
      },
      "source": [
        "Using polynomial regression enables you to predict the best fit line that follows the pattern (curve) of the data. It tends to increase the performance of the model. The function `PolynomialFeatures` generates a new feature matrix consisting of all polynomial combinations of the features with degree less than or equal to the specified degree.\n",
        "\n",
        "For example, if an input sample is two dimensional and of the form [a, b], the degree-2 polynomial features are [1, a, b, a^2, ab, b^2]. Let's try it on our model."
      ]
    },
    {
      "cell_type": "code",
      "execution_count": 41,
      "metadata": {
        "id": "zkr3ptZwaVa4"
      },
      "outputs": [],
      "source": [
        "# Polynomial regression\n",
        "poly = PolynomialFeatures(2) # We want degree-2 polynomial features\n",
        "X = np.array(ad_df[[\"TV\", \"Radio\"]]) # Theses are the two features we want to use. We will have in the array : 1 , TV , Radio , TV^2 , TV * Radio , Radio^2\n",
        "y = np.array(ad_df[\"Sales\"])\n",
        "X_poly = poly.fit_transform(X) # Normalizing"
      ]
    },
    {
      "cell_type": "code",
      "execution_count": 42,
      "metadata": {
        "colab": {
          "base_uri": "https://localhost:8080/"
        },
        "id": "WvrTh42JxnRc",
        "outputId": "131fb37e-28d9-40de-c43c-b99681e3d44a"
      },
      "outputs": [
        {
          "data": {
            "text/plain": [
              "array([[1.000000e+00, 2.301000e+02, 3.780000e+01, 5.294601e+04,\n",
              "        8.697780e+03, 1.428840e+03],\n",
              "       [1.000000e+00, 4.450000e+01, 3.930000e+01, 1.980250e+03,\n",
              "        1.748850e+03, 1.544490e+03],\n",
              "       [1.000000e+00, 1.720000e+01, 4.590000e+01, 2.958400e+02,\n",
              "        7.894800e+02, 2.106810e+03],\n",
              "       ...,\n",
              "       [1.000000e+00, 1.770000e+02, 9.300000e+00, 3.132900e+04,\n",
              "        1.646100e+03, 8.649000e+01],\n",
              "       [1.000000e+00, 2.836000e+02, 4.200000e+01, 8.042896e+04,\n",
              "        1.191120e+04, 1.764000e+03],\n",
              "       [1.000000e+00, 2.321000e+02, 8.600000e+00, 5.387041e+04,\n",
              "        1.996060e+03, 7.396000e+01]])"
            ]
          },
          "execution_count": 42,
          "metadata": {},
          "output_type": "execute_result"
        }
      ],
      "source": [
        "X_poly"
      ]
    },
    {
      "cell_type": "code",
      "execution_count": 43,
      "metadata": {
        "colab": {
          "base_uri": "https://localhost:8080/"
        },
        "id": "qgpU4Pl7hRn2",
        "outputId": "ca18ed42-98c4-42bc-e610-8f2e17d34cb2"
      },
      "outputs": [
        {
          "name": "stdout",
          "output_type": "stream",
          "text": [
            "params:  [ 5.19444187e+00  5.09930683e-02  2.65400299e-02 -1.09816273e-04\n",
            "  1.07462080e-03  1.86076136e-04]\n",
            "R^2 score:  0.986039101078374\n"
          ]
        }
      ],
      "source": [
        "LR = LinearRegression(fit_intercept=False) # We don't need fit intercept since polynomial features function add a column of ones to the data\n",
        "LR.fit(X_poly, y) # We make a linear regression of the model which is in the format b0 + b1 TV + b2 Radio + b3 TV^2 + b4 TV*Radio + b5 Radio^2\n",
        "print(\"params: \", LR.coef_)\n",
        "print(\"R^2 score: \", LR.score(X_poly, y))"
      ]
    },
    {
      "cell_type": "markdown",
      "metadata": {
        "id": "RAXvuEElrTSF"
      },
      "source": [
        "## OVERFITTING\n",
        "Beware, adding too many features may cause **overfitting**.\n",
        "Remember that overfitting is is the tendency of data mining procedures to tailor models to the training data, at the expense of generalization to previously unseen data points. We want to avoid this case."
      ]
    },
    {
      "cell_type": "code",
      "execution_count": null,
      "metadata": {
        "colab": {
          "base_uri": "https://localhost:8080/",
          "height": 597
        },
        "id": "-_KqypF0rV_7",
        "outputId": "a07c39f4-baf5-4450-d88f-4fee96a81b69"
      },
      "outputs": [
        {
          "data": {
            "image/png": "[encoded data removed]",
            "text/plain": [
              "<Figure size 1100x700 with 1 Axes>"
            ]
          },
          "metadata": {},
          "output_type": "display_data"
        },
        {
          "data": {
            "image/png": "[encoded data removed]",
            "text/plain": [
              "<Figure size 1100x700 with 1 Axes>"
            ]
          },
          "metadata": {},
          "output_type": "display_data"
        },
        {
          "data": {
            "image/png": "[encoded data removed]",
            "text/plain": [
              "<Figure size 1100x700 with 1 Axes>"
            ]
          },
          "metadata": {},
          "output_type": "display_data"
        }
      ],
      "source": [
        "train_err = []\n",
        "test_err = []\n",
        "for f in range(1,8):\n",
        "    poly = PolynomialFeatures(f)\n",
        "    X_poly = poly.fit_transform(X)\n",
        "    X_train, X_test, y_train, y_test = train_test_split(X_poly, y, test_size=0.2, random_state=12)\n",
        "    LR = LinearRegression(fit_intercept=False)\n",
        "    LR.fit(X_train, y_train)\n",
        "    train_err.append(mean_squared_error(y_train, LR.predict(X_train)))\n",
        "    test_err.append(mean_squared_error(y_test, LR.predict(X_test)))\n",
        "\n",
        "\n",
        "fig = plt.figure(figsize=(11,7))\n",
        "plt.plot(range(1,8), train_err, label=\"train_error\")\n",
        "plt.plot(range(1,8), test_err, label=\"test_error\")\n",
        "plt.legend(fontsize=10)\n",
        "plt.xlabel(\"polynomial degree\")\n",
        "plt.yscale('log') # Putting in log scale the y axis because the error skyrockets whrn having 7 degrees\n",
        "dummy = plt.ylabel(\"error\")\n",
        "plt.show()\n"
      ]
    },
    {
      "cell_type": "code",
      "execution_count": 48,
      "metadata": {
        "colab": {
          "base_uri": "https://localhost:8080/"
        },
        "id": "q_cRswO1mo1j",
        "outputId": "479cf834-f6ee-4194-ee72-7dd5c34a6234"
      },
      "outputs": [
        {
          "name": "stdout",
          "output_type": "stream",
          "text": [
            "The average mean absolute error of all our folds was:  1.302\n",
            "The average mean squared error of all our folds was:  3.06\n",
            "The average R^2 score of all our folds was:  0.885\n"
          ]
        }
      ],
      "source": [
        "from sklearn.model_selection import KFold\n",
        "\n",
        "\n",
        "y = ad_df[\"Sales\"]\n",
        "X = ad_df.drop(\"Sales\", axis = 1)\n",
        "\n",
        "kf = KFold(n_splits = 10, random_state = None) # this means we try 10 different folds, meaning a test size of 10%\n",
        "model = LinearRegression()\n",
        "\n",
        "mae_cumm = []\n",
        "mse_cumm = []\n",
        "r2_cumm = []\n",
        "\n",
        "for train_index, test_index in kf.split(X): # We make for each of the 10 folds the calculations\n",
        "\n",
        "  X_train, X_test = X.iloc[train_index, :], X.iloc[test_index, :]\n",
        "  y_train, y_test = y.iloc[train_index], y.iloc[test_index]\n",
        "\n",
        "  model.fit(X_train, y_train)\n",
        "  predictions = model.predict(X_test)\n",
        "\n",
        "\n",
        "  mae = mean_absolute_error(y_test, predictions)\n",
        "  mse = mean_squared_error(y_test, predictions)\n",
        "  r2 = r2_score(y_test, predictions)\n",
        "\n",
        "  mae_cumm.append(mae)\n",
        "  mse_cumm.append(mse)\n",
        "  r2_cumm.append(r2)\n",
        "\n",
        "\n",
        "mean_mae = sum(mae_cumm)/len(mae_cumm) # looking at the averages of the 10 folds\n",
        "mean_mse = sum(mse_cumm)/len(mse_cumm)\n",
        "mean_r2 = sum(r2_cumm)/len(r2_cumm)\n",
        "\n",
        "print(\"The average mean absolute error of all our folds was: \",round(mean_mae, 3))\n",
        "print(\"The average mean squared error of all our folds was: \", round(mean_mse, 3))\n",
        "print(\"The average R^2 score of all our folds was: \", round(mean_r2, 3))\n"
      ]
    },
    {
      "cell_type": "markdown",
      "metadata": {
        "id": "Ii28pGKIygC-"
      },
      "source": [
        "And for higher order polynomial regression:"
      ]
    },
    {
      "cell_type": "code",
      "execution_count": 49,
      "metadata": {
        "colab": {
          "base_uri": "https://localhost:8080/",
          "height": 652
        },
        "id": "akT_H53UysOx",
        "outputId": "4461478b-ae30-47e1-d148-5ce7b92e9497"
      },
      "outputs": [
        {
          "name": "stdout",
          "output_type": "stream",
          "text": [
            "[2.770302360080497, 0.3625454931923563, 0.2108067440804634, 0.13884563579865558, 0.07067893128003724, 0.06947940270837547]\n",
            "[3.0599676181185096, 0.42985425650836107, 0.3190220306321635, 0.2658030595692497, 2.433287070065804, 87.34667316670459]\n"
          ]
        }
      ],
      "source": [
        "train_err = []\n",
        "test_err = []\n",
        "\n",
        "y = ad_df[\"Sales\"]\n",
        "X = ad_df.drop(\"Sales\", axis = 1)\n",
        "\n",
        "kf = KFold(n_splits = 10, random_state = None) # We make 10 folds\n",
        "model = LinearRegression(fit_intercept = False)\n",
        "\n",
        "for f in range(1,7): # We try 7 different ploynomial degrees\n",
        "  train = []\n",
        "  test = []\n",
        "  for train_index, test_index in kf.split(X): # We make for each fold\n",
        "    poly = PolynomialFeatures(f)\n",
        "    X_poly = poly.fit_transform(X)\n",
        "    X_train, X_test = X_poly[train_index,:], X_poly[test_index,:]\n",
        "    y_train, y_test = y.iloc[train_index], y.iloc[test_index]\n",
        "\n",
        "    model.fit(X_train, y_train)\n",
        "    train.append(mean_squared_error(y_train, model.predict(X_train)))\n",
        "    test.append(mean_squared_error(y_test, model.predict(X_test)))\n",
        "\n",
        "  train_err.append(statistics.mean(train))\n",
        "  test_err.append(statistics.mean(test))\n",
        "\n",
        "fig=plt.figure(figsize=(11,7))\n",
        "plt.plot(range(1,7), train_err, label=\"train_error\")\n",
        "plt.plot(range(1,7), test_err, label=\"test_error\")\n",
        "plt.legend(fontsize=10)\n",
        "plt.xlabel(\"polynomial degree\")\n",
        "plt.yscale('log') # Log scale because the error increases a lot and we don't see as much\n",
        "plt.ylabel(\"error\")\n",
        "print(train_err)\n",
        "print(test_err)"
      ]
    }
  ],
  "metadata": {
    "colab": {
      "include_colab_link": true,
      "provenance": []
    },
    "kernelspec": {
      "display_name": "ada",
      "language": "python",
      "name": "python3"
    },
    "language_info": {
      "codemirror_mode": {
        "name": "ipython",
        "version": 3
      },
      "file_extension": ".py",
      "mimetype": "text/x-python",
      "name": "python",
      "nbconvert_exporter": "python",
      "pygments_lexer": "ipython3",
      "version": "3.11.9"
    }
  },
  "nbformat": 4,
  "nbformat_minor": 0
}
