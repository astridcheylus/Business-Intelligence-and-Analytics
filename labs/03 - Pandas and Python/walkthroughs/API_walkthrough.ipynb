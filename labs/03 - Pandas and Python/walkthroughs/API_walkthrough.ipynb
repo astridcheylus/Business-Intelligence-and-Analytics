{
  "cells": [
    {
      "cell_type": "markdown",
      "metadata": {
        "id": "view-in-github"
      },
      "source": [
        "<a href=\"https://colab.research.google.com/github/michalis0/Business-Intelligence-and-Analytics/blob/master/labs/03%20-%20Pandas%20and%20Python/walkthroughs/API_walkthrough.ipynb\" target=\"_parent\"><img src=\"https://colab.research.google.com/assets/colab-badge.svg\" alt=\"Open In Colab\"/></a>"
      ]
    },
    {
      "cell_type": "markdown",
      "metadata": {
        "id": "oYuwouftalkZ"
      },
      "source": [
        "<h1 align=\"center\"> API Walkthrough - Lab 3</h1>\n",
        "\n",
        "<div>\n",
        "<td>\n",
        "<img src=\"https://upload.wikimedia.org/wikipedia/commons/thumb/2/2b/Logo_Universit%C3%A9_de_Lausanne.svg/2000px-Logo_Universit%C3%A9_de_Lausanne.svg.png\" style=\"padding-right:10px;width:240px;float:left\"/></td>\n",
        "<h2 style=\"white-space: nowrap\">Business Intelligence and Analytics</h2></td>\n",
        "<hr style=\"clear:both\">\n",
        "<p style=\"font-size:0.85em; margin:2px; text-align:justify\">\n",
        "\n",
        "</div>"
      ]
    },
    {
      "cell_type": "markdown",
      "metadata": {
        "id": "nPrgCqTTVXmg"
      },
      "source": [
        "# Introduction\n",
        "\n",
        ">This exercise aims at illustrating the practical use of API requests to obtain data from the Internet. During this exercise, we will show you how to obtain API data from various websites in `json` format. Then, you will use a small program that allows you to retrieve the data in Colab. From this point onwards, the data will be accessible for you to work on.\n",
        "\n",
        "> We are going to use **2 examples**: one where you retrieve IMDb data about your **favorite movie** and another where you retrieve **current weather** data from any city in the world.\n",
        "\n",
        "_Note_: data treatment will be developed in the following labs: \"Pandas and Python\" and \"Data cleaning\", respectively the 2nd and 3rd labs. This exercise only shows you the process of obtaining _real time_ online data from an API.\n",
        "\n",
        "_Reminder_: data obtained in such a way is called _external_ data.\n",
        "\n",
        "\n"
      ]
    },
    {
      "cell_type": "markdown",
      "metadata": {
        "id": "LoodZhsh0eaH"
      },
      "source": [
        "# 1. Data from your favorite movie\n",
        "\n",
        "In this example, you will understand how to extract data concerning the movie of your choice.\n",
        "\n",
        "First, you will have to make a request against an API to obtain the data.\n",
        "\n",
        "Second, you will translate this data in Colab."
      ]
    },
    {
      "cell_type": "markdown",
      "metadata": {
        "id": "a6GT0pj-eIMz"
      },
      "source": [
        "## Making a OMDb API request\n",
        "\n",
        "**Let us take a look at the [OMDb API](https://www.omdbapi.com/)**\n",
        "\n",
        "> You can see that you will be able to make a HTTP request with this URL: ```http://www.omdbapi.com/?apikey=[yourkey]&```\n",
        "\n",
        "For this, you will need a **key** (see theory) for the API to control your requests. For OMDb API, free requests are limited to 1'000 per day.\n",
        "\n",
        "> You can get your own key [here](https://www.omdbapi.com/apikey.aspx) by inputing your email address.\n",
        "\n",
        "> You can also use the key I generated : `6be81d95`.\n",
        "\n",
        "You will then need to apply **filters** to your HTTP request for the API to recognize what you are looking for. Those will be appended to the end of your URL.\n",
        "\n",
        "For example, say I want to search for the movie \"The Big Short\" with a full plot.\n",
        "> The filters would be the following: `t=The+Big+Short&plot=full`. You can see that `t` indicates the title of the movie (for this API, it is mandatory) and `plot` has an option `full`.\n",
        "\n",
        "> The filters are always separed by a `&` sign.\n",
        "\n",
        "Therefore, the URL of my request would be the following:\n",
        "\n",
        "```https://www.omdbapi.com/?apikey=6be81d95&t=The+Big+Short&plot=full```\n",
        "\n",
        "**Try inputing that URL in your browser and see what happens!**\n"
      ]
    },
    {
      "cell_type": "markdown",
      "metadata": {
        "id": "ZY0tP7cNvAo9"
      },
      "source": [
        "### Result\n",
        "\n",
        "If everything goes well, you get a webpage in `json` format !\n",
        "\n",
        "You might recognize the **semi-structured** data type from your theory class.\n",
        "\n",
        ">However, all of this is still happening in your web browser, and you cannot process this data with any program of your choice."
      ]
    },
    {
      "cell_type": "markdown",
      "metadata": {
        "id": "A2xDQI_oew6Q"
      },
      "source": [
        "## Loading the data in Colab\n",
        "\n",
        "More on this process can be found [here](https://colab.research.google.com/github/nestauk/im-tutorials/blob/3-ysi-tutorial/notebooks/APIs/API_tutorial.ipynb). This exercise is largely inspired by the official Colab tutorial."
      ]
    },
    {
      "cell_type": "code",
      "execution_count": 1,
      "metadata": {
        "colab": {
          "base_uri": "https://localhost:8080/"
        },
        "id": "Sa-33IjZaGdI",
        "outputId": "72b2eade-f4f0-47f6-f5a3-c7e65828ba59"
      },
      "outputs": [
        {
          "name": "stdout",
          "output_type": "stream",
          "text": [
            "https://www.omdbapi.com/?apikey=6be81d95&t=The+Big+Short&plot=full\n",
            "Request returned 200 : 'OK'\n",
            "{'Actors': 'Christian Bale, Steve Carell, Ryan Gosling',\n",
            " 'Awards': 'Won 1 Oscar. 37 wins & 81 nominations total',\n",
            " 'BoxOffice': '$70,259,870',\n",
            " 'Country': 'United States',\n",
            " 'DVD': 'N/A',\n",
            " 'Director': 'Adam McKay',\n",
            " 'Genre': 'Biography, Comedy, Drama',\n",
            " 'Language': 'English',\n",
            " 'Metascore': '81',\n",
            " 'Plot': 'Three separate but parallel stories of the U.S mortgage housing '\n",
            "         'crisis of 2005 are told. Michael Burry, an eccentric ex-physician '\n",
            "         'turned one-eyed Scion Capital hedge fund manager, has traded '\n",
            "         'traditional office attire for shorts, bare feet and a Supercuts '\n",
            "         'haircut. He believes that the US housing market is built on a bubble '\n",
            "         'that will burst within the next few years. Autonomy within the '\n",
            "         'company allows Burry to do largely as he pleases, so Burry proceeds '\n",
            "         'to bet against the housing market with the banks, who are more than '\n",
            "         'happy to accept his proposal for something that has never happened '\n",
            "         'in American history. The banks believe that Burry is a crackpot and '\n",
            "         'therefore are confident in that they will win the deal. Jared '\n",
            "         'Vennett with Deutschebank gets wind of what Burry is doing and, as '\n",
            "         \"an investor believes he too can cash in on Burry's beliefs. An \"\n",
            "         'errant telephone call to FrontPoint Partners gets this information '\n",
            "         'into the hands of Mark Baum, an idealist who is fed up with the '\n",
            "         'corruption in the financial industry. Baum and his associates, who '\n",
            "         'work at an arms length under Morgan Stanley, decide to join forces '\n",
            "         'with Vennett despite not totally trusting him. In addition to '\n",
            "         \"Burry's information, they further believe that most of the mortgages \"\n",
            "         'are overrated by the bond agencies, with the banks collating all the '\n",
            "         'sub-prime mortgages under AAA packages. Charlie Geller and Jamie '\n",
            "         'Shipley, who are minor players in a $30 million start-up garage '\n",
            "         \"company called Brownfield, get a hold of Vennett's prospectus on the \"\n",
            "         'matter. Wanting in on the action but not having the official clout '\n",
            "         'to play, they decide to call an old \"friend\", retired investment '\n",
            "         'banker Ben Rickert, to help out. All three of these groups work on '\n",
            "         \"the premise that the banks are stupid and don't know what's going \"\n",
            "         'on, while for them to win, the general economy has to lose, which '\n",
            "         'means the suffering of the general investor who trusts the financial '\n",
            "         'institutions. That latter aspect may not sit well with Baum. Some of '\n",
            "         'these assumptions may be incorrect and may be far more manipulative '\n",
            "         'than they could have ever imagined, which in turn may throw curves '\n",
            "         'into the process.',\n",
            " 'Poster': 'https://m.media-amazon.com/images/M/MV5BZDZkNDQ3YjktYjBlZC00YTY1LTgxOGYtY2RhMWFhZmNkZGY3XkEyXkFqcGc@._V1_SX300.jpg',\n",
            " 'Production': 'N/A',\n",
            " 'Rated': 'R',\n",
            " 'Ratings': [{'Source': 'Internet Movie Database', 'Value': '7.8/10'},\n",
            "             {'Source': 'Rotten Tomatoes', 'Value': '89%'},\n",
            "             {'Source': 'Metacritic', 'Value': '81/100'}],\n",
            " 'Released': '23 Dec 2015',\n",
            " 'Response': 'True',\n",
            " 'Runtime': '130 min',\n",
            " 'Title': 'The Big Short',\n",
            " 'Type': 'movie',\n",
            " 'Website': 'N/A',\n",
            " 'Writer': 'Charles Randolph, Adam McKay, Michael Lewis',\n",
            " 'Year': '2015',\n",
            " 'imdbID': 'tt1596363',\n",
            " 'imdbRating': '7.8',\n",
            " 'imdbVotes': '502,511'}\n"
          ]
        }
      ],
      "source": [
        "import requests  # Import the requests library\n",
        "\n",
        "# Query URL\n",
        "url = ('https://www.omdbapi.com/?apikey=6be81d95&t=The+Big+Short&plot=full')  # Movie 'The Big Short' with a full plot\n",
        "\n",
        "print(url)\n",
        "\n",
        "response = requests.get(url)  # Make a GET request to the URL.\n",
        "\n",
        "# Print status code (and associated text).\n",
        "print(f\"Request returned {response.status_code} : '{response.reason}'\")\n",
        "\n",
        "# Note: status 200 means the request was successful. Search online for documentation about request statuses.\n",
        "\n",
        "# Print data returned (parsing as JSON)\n",
        "payload = response.json()  # Parse `response.text` into JSON\n",
        "\n",
        "import pprint # This library makes the result look good.\n",
        "\n",
        "pp = pprint.PrettyPrinter(indent=1)\n",
        "pp.pprint(payload)"
      ]
    },
    {
      "cell_type": "markdown",
      "metadata": {
        "id": "mDdTMPOym_FE"
      },
      "source": [
        "**You did it!** You can now process the data obtained in the movie description"
      ]
    },
    {
      "cell_type": "code",
      "execution_count": 2,
      "metadata": {
        "colab": {
          "base_uri": "https://localhost:8080/",
          "height": 35
        },
        "id": "HfMM215ukpIU",
        "outputId": "a9597ab2-0460-4894-8754-112c73ad7f72"
      },
      "outputs": [
        {
          "data": {
            "application/vnd.google.colaboratory.intrinsic+json": {
              "type": "string"
            },
            "text/plain": [
              "'Christian Bale, Steve Carell, Ryan Gosling'"
            ]
          },
          "execution_count": 2,
          "metadata": {},
          "output_type": "execute_result"
        }
      ],
      "source": [
        "# Show the actors that played in the movie\n",
        "\n",
        "payload['Actors']"
      ]
    },
    {
      "cell_type": "code",
      "execution_count": 3,
      "metadata": {
        "colab": {
          "base_uri": "https://localhost:8080/"
        },
        "id": "dodnN5bXk3wH",
        "outputId": "9aec9aec-3ffc-47c9-98d2-01f957768797"
      },
      "outputs": [
        {
          "name": "stdout",
          "output_type": "stream",
          "text": [
            "Three separate but parallel stories of the U.S mortgage housing crisis of 2005 are told. Michael Burry, an eccentric ex-physician turned one-eyed Scion Capital hedge fund manager, has traded traditional office attire for shorts, bare feet and a Supercuts haircut. He believes that the US housing market is built on a bubble that will burst within the next few years. Autonomy within the company allows Burry to do largely as he pleases, so Burry proceeds to bet against the housing market with the banks, who are more than happy to accept his proposal for something that has never happened in American history. The banks believe that Burry is a crackpot and therefore are confident in that they will win the deal. Jared Vennett with Deutschebank gets wind of what Burry is doing and, as an investor believes he too can cash in on Burry's beliefs. An errant telephone call to FrontPoint Partners gets this information into the hands of Mark Baum, an idealist who is fed up with the corruption in the financial industry. Baum and his associates, who work at an arms length under Morgan Stanley, decide to join forces with Vennett despite not totally trusting him. In addition to Burry's information, they further believe that most of the mortgages are overrated by the bond agencies, with the banks collating all the sub-prime mortgages under AAA packages. Charlie Geller and Jamie Shipley, who are minor players in a $30 million start-up garage company called Brownfield, get a hold of Vennett's prospectus on the matter. Wanting in on the action but not having the official clout to play, they decide to call an old \"friend\", retired investment banker Ben Rickert, to help out. All three of these groups work on the premise that the banks are stupid and don't know what's going on, while for them to win, the general economy has to lose, which means the suffering of the general investor who trusts the financial institutions. That latter aspect may not sit well with Baum. Some of these assumptions may be incorrect and may be far more manipulative than they could have ever imagined, which in turn may throw curves into the process.\n"
          ]
        }
      ],
      "source": [
        "# Show the plot of the movie\n",
        "\n",
        "plot = payload['Plot']\n",
        "\n",
        "print(plot)"
      ]
    },
    {
      "cell_type": "code",
      "execution_count": 4,
      "metadata": {
        "colab": {
          "base_uri": "https://localhost:8080/"
        },
        "id": "HvlhtmJ5oLfW",
        "outputId": "553573ca-36ae-45e9-f54e-c1c0e40667f6"
      },
      "outputs": [
        {
          "name": "stdout",
          "output_type": "stream",
          "text": [
            "<class 'str'>\n",
            "364\n"
          ]
        }
      ],
      "source": [
        "# Count the number of words in the plot\n",
        "print(type(plot))\n",
        "\n",
        "plot_length = plot.split() # Use the split method on a string\n",
        "\n",
        "print(len(plot_length)) # Count the length of the list containing all words"
      ]
    },
    {
      "cell_type": "markdown",
      "metadata": {
        "id": "gZRqqUm1rK80"
      },
      "source": [
        "## Your turn !\n",
        "\n",
        "Here, you will be able to search for your own favorite movie and retrieve the corresponding IMDb data."
      ]
    },
    {
      "cell_type": "code",
      "execution_count": 5,
      "metadata": {
        "id": "FeqPoaFfrZn9"
      },
      "outputs": [],
      "source": [
        "your_url = ('Your url here')\n",
        "\n",
        "# You will need the key and the name of the movie from omdbapi.com (see the first part of this example)"
      ]
    },
    {
      "cell_type": "code",
      "execution_count": null,
      "metadata": {
        "id": "tNs2IYQLxzBH"
      },
      "outputs": [],
      "source": [
        "import requests\n",
        "\n",
        "print(your_url) # The URL of your choice.\n",
        "\n",
        "response = requests.get(your_url)  # Make a GET request to the URL.\n",
        "\n",
        "# Print status code (and associated text).\n",
        "print(f\"Request returned {response.status_code} : '{response.reason}'\")\n",
        "\n",
        "\n",
        "# Print data returned (parsing as JSON)\n",
        "your_movie = response.json()\n",
        "\n",
        "import pprint\n",
        "pp = pprint.PrettyPrinter(indent=1)\n",
        "pp.pprint(your_movie)"
      ]
    },
    {
      "cell_type": "code",
      "execution_count": null,
      "metadata": {
        "id": "yKzT96KkzFhC"
      },
      "outputs": [],
      "source": [
        "# Find the ratings of your movie!\n",
        "\n",
        "your_movie['Your code here']"
      ]
    },
    {
      "cell_type": "code",
      "execution_count": null,
      "metadata": {
        "id": "xiTf-AfPzPIt"
      },
      "outputs": [],
      "source": [
        "# Find the writer of your movie!\n",
        "\n",
        "'Your code here'"
      ]
    },
    {
      "cell_type": "markdown",
      "metadata": {
        "id": "mzEXDyT599Cm"
      },
      "source": [
        "# 2. Current weather data\n",
        "\n",
        "In this example, you will see how to obtain real-time weather data on the city of your choice.\n",
        "\n",
        "> We will use [OpenWeather API](https://openweathermap.org/api). You can find documentation there.\n",
        "\n",
        "The process is relatively similar to the first example, and hopefully by now you will have understood the intuition. This will therefore be a more concise illustration."
      ]
    },
    {
      "cell_type": "markdown",
      "metadata": {
        "id": "QVrdMG7-CZMS"
      },
      "source": [
        "## Current weather in Lausanne\n",
        "\n",
        "We have already generated an API key: `APPID=c3b012a09cda741d210d8739c796c3da`\n",
        "\n",
        "The only parameters inputted here are the name of the city and the country code: `Lausanne,ch`.\n",
        "\n",
        "You could also input the latitude and longitude according to [the documentation](https://openweathermap.org/current).\n",
        "\n",
        "> The OpenWeather API is going to return the following `JSON`formatted data."
      ]
    },
    {
      "cell_type": "code",
      "execution_count": 5,
      "metadata": {
        "id": "FB76ieSJJNqC"
      },
      "outputs": [],
      "source": [
        "url = ('https://api.openweathermap.org/data/2.5/weather?q=Lausanne,ch&APPID=c3b012a09cda741d210d8739c796c3da') # City of Lausanne, CH"
      ]
    },
    {
      "cell_type": "markdown",
      "metadata": {
        "id": "QO19KLlc7-Lu"
      },
      "source": [
        "We automated the input of the city and the country code for you:\n",
        "\n",
        "**Run the following code and input the corresponding request. Then press enter.**"
      ]
    },
    {
      "cell_type": "code",
      "execution_count": 6,
      "metadata": {
        "colab": {
          "base_uri": "https://localhost:8080/"
        },
        "id": "DnGP610g79ro",
        "outputId": "3559e68e-fbf4-44d9-988d-2c01b9133f9e"
      },
      "outputs": [
        {
          "name": "stdout",
          "output_type": "stream",
          "text": [
            "Enter the city: Lausanne\n"
          ]
        }
      ],
      "source": [
        "url_city = input(\"Enter the city: \")"
      ]
    },
    {
      "cell_type": "code",
      "execution_count": 7,
      "metadata": {
        "colab": {
          "base_uri": "https://localhost:8080/"
        },
        "id": "csP5h9gg8krJ",
        "outputId": "5cedb195-b974-4844-a555-554b95f37b43"
      },
      "outputs": [
        {
          "name": "stdout",
          "output_type": "stream",
          "text": [
            "Enter the country code:ch\n"
          ]
        }
      ],
      "source": [
        "url_city = url_city.lower().capitalize()\n",
        "\n",
        "url_country = input(\"Enter the country code:\")"
      ]
    },
    {
      "cell_type": "code",
      "execution_count": 8,
      "metadata": {
        "id": "2j9KeyNU9C2k"
      },
      "outputs": [],
      "source": [
        "url_country = url_country.lower()\n",
        "url_data = url_city + ',' + url_country\n",
        "\n",
        "url = ('https://api.openweathermap.org/data/2.5/weather?q={}&APPID=c3b012a09cda741d210d8739c796c3da').format(url_data)"
      ]
    },
    {
      "cell_type": "markdown",
      "metadata": {
        "id": "Gt2cYv2B-76Q"
      },
      "source": [
        "We can now repeat the same operation. We fetch the data from the API using the URL with the corresponding filters you just inputted."
      ]
    },
    {
      "cell_type": "code",
      "execution_count": 9,
      "metadata": {
        "colab": {
          "base_uri": "https://localhost:8080/"
        },
        "id": "6eLmKv9X-G0t",
        "outputId": "1f8fd083-38b4-4319-a936-502117b8638a"
      },
      "outputs": [
        {
          "name": "stdout",
          "output_type": "stream",
          "text": [
            "https://api.openweathermap.org/data/2.5/weather?q=Lausanne,ch&APPID=c3b012a09cda741d210d8739c796c3da\n",
            "Request returned 200 : 'OK'\n",
            "{'base': 'stations',\n",
            " 'clouds': {'all': 0},\n",
            " 'cod': 200,\n",
            " 'coord': {'lat': 46.516, 'lon': 6.6328},\n",
            " 'dt': 1738705843,\n",
            " 'id': 2659994,\n",
            " 'main': {'feels_like': 273.3,\n",
            "          'grnd_level': 973,\n",
            "          'humidity': 94,\n",
            "          'pressure': 1033,\n",
            "          'sea_level': 1033,\n",
            "          'temp': 273.3,\n",
            "          'temp_max': 276.13,\n",
            "          'temp_min': 272.93},\n",
            " 'name': 'Lausanne',\n",
            " 'sys': {'country': 'CH',\n",
            "         'id': 2036162,\n",
            "         'sunrise': 1738652001,\n",
            "         'sunset': 1738687285,\n",
            "         'type': 2},\n",
            " 'timezone': 3600,\n",
            " 'visibility': 10000,\n",
            " 'weather': [{'description': 'clear sky',\n",
            "              'icon': '01n',\n",
            "              'id': 800,\n",
            "              'main': 'Clear'}],\n",
            " 'wind': {'deg': 327, 'gust': 1.42, 'speed': 0.4}}\n"
          ]
        }
      ],
      "source": [
        "import requests  # Import the requests library\n",
        "\n",
        "\n",
        "print(url)\n",
        "\n",
        "response = requests.get(url)  # Make a GET request to the URL.\n",
        "\n",
        "# Print status code (and associated text).\n",
        "print(f\"Request returned {response.status_code} : '{response.reason}'\")\n",
        "\n",
        "# Note: status 200 means the request was successful. Search online for documentation about request statuses.\n",
        "\n",
        "# Print data returned (parsing as JSON)\n",
        "payload = response.json()  # Parse `response.text` into JSON\n",
        "\n",
        "import pprint # This library makes the result look good.\n",
        "\n",
        "pp = pprint.PrettyPrinter(indent=1)\n",
        "pp.pprint(payload)"
      ]
    },
    {
      "cell_type": "markdown",
      "metadata": {
        "id": "zQY99f-oFIAf"
      },
      "source": [
        "_Note_: You can play with this request by changing the URL with the city of your choice."
      ]
    },
    {
      "cell_type": "code",
      "execution_count": 10,
      "metadata": {
        "colab": {
          "base_uri": "https://localhost:8080/"
        },
        "id": "X2vS-wAaFEn9",
        "outputId": "d55cdad8-82cb-4748-b5c2-193c833aa1f8"
      },
      "outputs": [
        {
          "name": "stdout",
          "output_type": "stream",
          "text": [
            "<class 'dict'>\n"
          ]
        },
        {
          "data": {
            "text/plain": [
              "{'temp': 273.3,\n",
              " 'feels_like': 273.3,\n",
              " 'temp_min': 272.93,\n",
              " 'temp_max': 276.13,\n",
              " 'pressure': 1033,\n",
              " 'humidity': 94,\n",
              " 'sea_level': 1033,\n",
              " 'grnd_level': 973}"
            ]
          },
          "execution_count": 10,
          "metadata": {},
          "output_type": "execute_result"
        }
      ],
      "source": [
        "# What is the temperature?\n",
        "print(type(payload['main']))\n",
        "\n",
        "main_info = payload['main']\n",
        "main_info"
      ]
    },
    {
      "cell_type": "code",
      "execution_count": 11,
      "metadata": {
        "colab": {
          "base_uri": "https://localhost:8080/"
        },
        "id": "ScV2ZFzwrsyX",
        "outputId": "41f72f6a-6a94-4144-eeb3-e9ed9f79df0e"
      },
      "outputs": [
        {
          "data": {
            "text/plain": [
              "273.3"
            ]
          },
          "execution_count": 11,
          "metadata": {},
          "output_type": "execute_result"
        }
      ],
      "source": [
        "# The previous cell is a dictionary. You can directly obtain the temperature:\n",
        "payload['main']['temp']"
      ]
    },
    {
      "cell_type": "code",
      "execution_count": 12,
      "metadata": {
        "colab": {
          "base_uri": "https://localhost:8080/",
          "height": 89
        },
        "id": "5B6hmLxlF4Un",
        "outputId": "b11e1fea-0c84-411a-9413-6ae3f1bfc372"
      },
      "outputs": [
        {
          "data": {
            "application/vnd.google.colaboratory.intrinsic+json": {
              "summary": "{\n  \"name\": \"df_main\",\n  \"rows\": 1,\n  \"fields\": [\n    {\n      \"column\": \"temp\",\n      \"properties\": {\n        \"dtype\": \"number\",\n        \"std\": null,\n        \"min\": 273.3,\n        \"max\": 273.3,\n        \"num_unique_values\": 1,\n        \"samples\": [\n          273.3\n        ],\n        \"semantic_type\": \"\",\n        \"description\": \"\"\n      }\n    },\n    {\n      \"column\": \"feels_like\",\n      \"properties\": {\n        \"dtype\": \"number\",\n        \"std\": null,\n        \"min\": 273.3,\n        \"max\": 273.3,\n        \"num_unique_values\": 1,\n        \"samples\": [\n          273.3\n        ],\n        \"semantic_type\": \"\",\n        \"description\": \"\"\n      }\n    },\n    {\n      \"column\": \"temp_min\",\n      \"properties\": {\n        \"dtype\": \"number\",\n        \"std\": null,\n        \"min\": 272.93,\n        \"max\": 272.93,\n        \"num_unique_values\": 1,\n        \"samples\": [\n          272.93\n        ],\n        \"semantic_type\": \"\",\n        \"description\": \"\"\n      }\n    },\n    {\n      \"column\": \"temp_max\",\n      \"properties\": {\n        \"dtype\": \"number\",\n        \"std\": null,\n        \"min\": 276.13,\n        \"max\": 276.13,\n        \"num_unique_values\": 1,\n        \"samples\": [\n          276.13\n        ],\n        \"semantic_type\": \"\",\n        \"description\": \"\"\n      }\n    },\n    {\n      \"column\": \"pressure\",\n      \"properties\": {\n        \"dtype\": \"number\",\n        \"std\": null,\n        \"min\": 1033,\n        \"max\": 1033,\n        \"num_unique_values\": 1,\n        \"samples\": [\n          1033\n        ],\n        \"semantic_type\": \"\",\n        \"description\": \"\"\n      }\n    },\n    {\n      \"column\": \"humidity\",\n      \"properties\": {\n        \"dtype\": \"number\",\n        \"std\": null,\n        \"min\": 94,\n        \"max\": 94,\n        \"num_unique_values\": 1,\n        \"samples\": [\n          94\n        ],\n        \"semantic_type\": \"\",\n        \"description\": \"\"\n      }\n    },\n    {\n      \"column\": \"sea_level\",\n      \"properties\": {\n        \"dtype\": \"number\",\n        \"std\": null,\n        \"min\": 1033,\n        \"max\": 1033,\n        \"num_unique_values\": 1,\n        \"samples\": [\n          1033\n        ],\n        \"semantic_type\": \"\",\n        \"description\": \"\"\n      }\n    },\n    {\n      \"column\": \"grnd_level\",\n      \"properties\": {\n        \"dtype\": \"number\",\n        \"std\": null,\n        \"min\": 973,\n        \"max\": 973,\n        \"num_unique_values\": 1,\n        \"samples\": [\n          973\n        ],\n        \"semantic_type\": \"\",\n        \"description\": \"\"\n      }\n    }\n  ]\n}",
              "type": "dataframe",
              "variable_name": "df_main"
            },
            "text/html": [
              "\n",
              "  <div id=\"df-5a3226d9-a6e2-41d2-a82d-529e8a923d2d\" class=\"colab-df-container\">\n",
              "    <div>\n",
              "<style scoped>\n",
              "    .dataframe tbody tr th:only-of-type {\n",
              "        vertical-align: middle;\n",
              "    }\n",
              "\n",
              "    .dataframe tbody tr th {\n",
              "        vertical-align: top;\n",
              "    }\n",
              "\n",
              "    .dataframe thead th {\n",
              "        text-align: right;\n",
              "    }\n",
              "</style>\n",
              "<table border=\"1\" class=\"dataframe\">\n",
              "  <thead>\n",
              "    <tr style=\"text-align: right;\">\n",
              "      <th></th>\n",
              "      <th>temp</th>\n",
              "      <th>feels_like</th>\n",
              "      <th>temp_min</th>\n",
              "      <th>temp_max</th>\n",
              "      <th>pressure</th>\n",
              "      <th>humidity</th>\n",
              "      <th>sea_level</th>\n",
              "      <th>grnd_level</th>\n",
              "    </tr>\n",
              "  </thead>\n",
              "  <tbody>\n",
              "    <tr>\n",
              "      <th>Lausanne</th>\n",
              "      <td>273.3</td>\n",
              "      <td>273.3</td>\n",
              "      <td>272.93</td>\n",
              "      <td>276.13</td>\n",
              "      <td>1033</td>\n",
              "      <td>94</td>\n",
              "      <td>1033</td>\n",
              "      <td>973</td>\n",
              "    </tr>\n",
              "  </tbody>\n",
              "</table>\n",
              "</div>\n",
              "    <div class=\"colab-df-buttons\">\n",
              "\n",
              "  <div class=\"colab-df-container\">\n",
              "    <button class=\"colab-df-convert\" onclick=\"convertToInteractive('df-5a3226d9-a6e2-41d2-a82d-529e8a923d2d')\"\n",
              "            title=\"Convert this dataframe to an interactive table.\"\n",
              "            style=\"display:none;\">\n",
              "\n",
              "  <svg xmlns=\"http://www.w3.org/2000/svg\" height=\"24px\" viewBox=\"0 -960 960 960\">\n",
              "    <path d=\"M120-120v-720h720v720H120Zm60-500h600v-160H180v160Zm220 220h160v-160H400v160Zm0 220h160v-160H400v160ZM180-400h160v-160H180v160Zm440 0h160v-160H620v160ZM180-180h160v-160H180v160Zm440 0h160v-160H620v160Z\"/>\n",
              "  </svg>\n",
              "    </button>\n",
              "\n",
              "  <style>\n",
              "    .colab-df-container {\n",
              "      display:flex;\n",
              "      gap: 12px;\n",
              "    }\n",
              "\n",
              "    .colab-df-convert {\n",
              "      background-color: #E8F0FE;\n",
              "      border: none;\n",
              "      border-radius: 50%;\n",
              "      cursor: pointer;\n",
              "      display: none;\n",
              "      fill: #1967D2;\n",
              "      height: 32px;\n",
              "      padding: 0 0 0 0;\n",
              "      width: 32px;\n",
              "    }\n",
              "\n",
              "    .colab-df-convert:hover {\n",
              "      background-color: #E2EBFA;\n",
              "      box-shadow: 0px 1px 2px rgba(60, 64, 67, 0.3), 0px 1px 3px 1px rgba(60, 64, 67, 0.15);\n",
              "      fill: #174EA6;\n",
              "    }\n",
              "\n",
              "    .colab-df-buttons div {\n",
              "      margin-bottom: 4px;\n",
              "    }\n",
              "\n",
              "    [theme=dark] .colab-df-convert {\n",
              "      background-color: #3B4455;\n",
              "      fill: #D2E3FC;\n",
              "    }\n",
              "\n",
              "    [theme=dark] .colab-df-convert:hover {\n",
              "      background-color: #434B5C;\n",
              "      box-shadow: 0px 1px 3px 1px rgba(0, 0, 0, 0.15);\n",
              "      filter: drop-shadow(0px 1px 2px rgba(0, 0, 0, 0.3));\n",
              "      fill: #FFFFFF;\n",
              "    }\n",
              "  </style>\n",
              "\n",
              "    <script>\n",
              "      const buttonEl =\n",
              "        document.querySelector('#df-5a3226d9-a6e2-41d2-a82d-529e8a923d2d button.colab-df-convert');\n",
              "      buttonEl.style.display =\n",
              "        google.colab.kernel.accessAllowed ? 'block' : 'none';\n",
              "\n",
              "      async function convertToInteractive(key) {\n",
              "        const element = document.querySelector('#df-5a3226d9-a6e2-41d2-a82d-529e8a923d2d');\n",
              "        const dataTable =\n",
              "          await google.colab.kernel.invokeFunction('convertToInteractive',\n",
              "                                                    [key], {});\n",
              "        if (!dataTable) return;\n",
              "\n",
              "        const docLinkHtml = 'Like what you see? Visit the ' +\n",
              "          '<a target=\"_blank\" href=https://colab.research.google.com/notebooks/data_table.ipynb>data table notebook</a>'\n",
              "          + ' to learn more about interactive tables.';\n",
              "        element.innerHTML = '';\n",
              "        dataTable['output_type'] = 'display_data';\n",
              "        await google.colab.output.renderOutput(dataTable, element);\n",
              "        const docLink = document.createElement('div');\n",
              "        docLink.innerHTML = docLinkHtml;\n",
              "        element.appendChild(docLink);\n",
              "      }\n",
              "    </script>\n",
              "  </div>\n",
              "\n",
              "\n",
              "  <div id=\"id_2cb0b2a0-5d46-414d-b20e-c4eb54b4aa82\">\n",
              "    <style>\n",
              "      .colab-df-generate {\n",
              "        background-color: #E8F0FE;\n",
              "        border: none;\n",
              "        border-radius: 50%;\n",
              "        cursor: pointer;\n",
              "        display: none;\n",
              "        fill: #1967D2;\n",
              "        height: 32px;\n",
              "        padding: 0 0 0 0;\n",
              "        width: 32px;\n",
              "      }\n",
              "\n",
              "      .colab-df-generate:hover {\n",
              "        background-color: #E2EBFA;\n",
              "        box-shadow: 0px 1px 2px rgba(60, 64, 67, 0.3), 0px 1px 3px 1px rgba(60, 64, 67, 0.15);\n",
              "        fill: #174EA6;\n",
              "      }\n",
              "\n",
              "      [theme=dark] .colab-df-generate {\n",
              "        background-color: #3B4455;\n",
              "        fill: #D2E3FC;\n",
              "      }\n",
              "\n",
              "      [theme=dark] .colab-df-generate:hover {\n",
              "        background-color: #434B5C;\n",
              "        box-shadow: 0px 1px 3px 1px rgba(0, 0, 0, 0.15);\n",
              "        filter: drop-shadow(0px 1px 2px rgba(0, 0, 0, 0.3));\n",
              "        fill: #FFFFFF;\n",
              "      }\n",
              "    </style>\n",
              "    <button class=\"colab-df-generate\" onclick=\"generateWithVariable('df_main')\"\n",
              "            title=\"Generate code using this dataframe.\"\n",
              "            style=\"display:none;\">\n",
              "\n",
              "  <svg xmlns=\"http://www.w3.org/2000/svg\" height=\"24px\"viewBox=\"0 0 24 24\"\n",
              "       width=\"24px\">\n",
              "    <path d=\"M7,19H8.4L18.45,9,17,7.55,7,17.6ZM5,21V16.75L18.45,3.32a2,2,0,0,1,2.83,0l1.4,1.43a1.91,1.91,0,0,1,.58,1.4,1.91,1.91,0,0,1-.58,1.4L9.25,21ZM18.45,9,17,7.55Zm-12,3A5.31,5.31,0,0,0,4.9,8.1,5.31,5.31,0,0,0,1,6.5,5.31,5.31,0,0,0,4.9,4.9,5.31,5.31,0,0,0,6.5,1,5.31,5.31,0,0,0,8.1,4.9,5.31,5.31,0,0,0,12,6.5,5.46,5.46,0,0,0,6.5,12Z\"/>\n",
              "  </svg>\n",
              "    </button>\n",
              "    <script>\n",
              "      (() => {\n",
              "      const buttonEl =\n",
              "        document.querySelector('#id_2cb0b2a0-5d46-414d-b20e-c4eb54b4aa82 button.colab-df-generate');\n",
              "      buttonEl.style.display =\n",
              "        google.colab.kernel.accessAllowed ? 'block' : 'none';\n",
              "\n",
              "      buttonEl.onclick = () => {\n",
              "        google.colab.notebook.generateWithVariable('df_main');\n",
              "      }\n",
              "      })();\n",
              "    </script>\n",
              "  </div>\n",
              "\n",
              "    </div>\n",
              "  </div>\n"
            ],
            "text/plain": [
              "           temp  feels_like  temp_min  temp_max  pressure  humidity  \\\n",
              "Lausanne  273.3       273.3    272.93    276.13      1033        94   \n",
              "\n",
              "          sea_level  grnd_level  \n",
              "Lausanne       1033         973  "
            ]
          },
          "execution_count": 12,
          "metadata": {},
          "output_type": "execute_result"
        }
      ],
      "source": [
        "# You can also translate this data into a pandas DataFrame (cf. pandas walkthrough)\n",
        "import pandas as pd\n",
        "\n",
        "name = payload['name']\n",
        "main_index = []\n",
        "main_index.append(name)\n",
        "\n",
        "df_main = pd.DataFrame(main_info, index=main_index)\n",
        "df_main"
      ]
    },
    {
      "cell_type": "code",
      "execution_count": 13,
      "metadata": {
        "colab": {
          "base_uri": "https://localhost:8080/",
          "height": 89
        },
        "id": "FXx9vFnTHvyN",
        "outputId": "f9ac0b23-e451-49d4-81a0-ac8d3f1c5e8a"
      },
      "outputs": [
        {
          "data": {
            "application/vnd.google.colaboratory.intrinsic+json": {
              "summary": "{\n  \"name\": \"df_main\",\n  \"rows\": 1,\n  \"fields\": [\n    {\n      \"column\": \"temp\",\n      \"properties\": {\n        \"dtype\": \"number\",\n        \"std\": null,\n        \"min\": 0.1500000000000341,\n        \"max\": 0.1500000000000341,\n        \"num_unique_values\": 1,\n        \"samples\": [\n          0.1500000000000341\n        ],\n        \"semantic_type\": \"\",\n        \"description\": \"\"\n      }\n    },\n    {\n      \"column\": \"feels_like\",\n      \"properties\": {\n        \"dtype\": \"number\",\n        \"std\": null,\n        \"min\": 0.1500000000000341,\n        \"max\": 0.1500000000000341,\n        \"num_unique_values\": 1,\n        \"samples\": [\n          0.1500000000000341\n        ],\n        \"semantic_type\": \"\",\n        \"description\": \"\"\n      }\n    },\n    {\n      \"column\": \"temp_min\",\n      \"properties\": {\n        \"dtype\": \"number\",\n        \"std\": null,\n        \"min\": -0.21999999999997044,\n        \"max\": -0.21999999999997044,\n        \"num_unique_values\": 1,\n        \"samples\": [\n          -0.21999999999997044\n        ],\n        \"semantic_type\": \"\",\n        \"description\": \"\"\n      }\n    },\n    {\n      \"column\": \"temp_max\",\n      \"properties\": {\n        \"dtype\": \"number\",\n        \"std\": null,\n        \"min\": 2.980000000000018,\n        \"max\": 2.980000000000018,\n        \"num_unique_values\": 1,\n        \"samples\": [\n          2.980000000000018\n        ],\n        \"semantic_type\": \"\",\n        \"description\": \"\"\n      }\n    },\n    {\n      \"column\": \"pressure\",\n      \"properties\": {\n        \"dtype\": \"number\",\n        \"std\": null,\n        \"min\": 1033,\n        \"max\": 1033,\n        \"num_unique_values\": 1,\n        \"samples\": [\n          1033\n        ],\n        \"semantic_type\": \"\",\n        \"description\": \"\"\n      }\n    },\n    {\n      \"column\": \"humidity\",\n      \"properties\": {\n        \"dtype\": \"number\",\n        \"std\": null,\n        \"min\": 94,\n        \"max\": 94,\n        \"num_unique_values\": 1,\n        \"samples\": [\n          94\n        ],\n        \"semantic_type\": \"\",\n        \"description\": \"\"\n      }\n    },\n    {\n      \"column\": \"sea_level\",\n      \"properties\": {\n        \"dtype\": \"number\",\n        \"std\": null,\n        \"min\": 1033,\n        \"max\": 1033,\n        \"num_unique_values\": 1,\n        \"samples\": [\n          1033\n        ],\n        \"semantic_type\": \"\",\n        \"description\": \"\"\n      }\n    },\n    {\n      \"column\": \"grnd_level\",\n      \"properties\": {\n        \"dtype\": \"number\",\n        \"std\": null,\n        \"min\": 973,\n        \"max\": 973,\n        \"num_unique_values\": 1,\n        \"samples\": [\n          973\n        ],\n        \"semantic_type\": \"\",\n        \"description\": \"\"\n      }\n    }\n  ]\n}",
              "type": "dataframe",
              "variable_name": "df_main"
            },
            "text/html": [
              "\n",
              "  <div id=\"df-b250cc5d-086a-4c93-8585-748e81105d00\" class=\"colab-df-container\">\n",
              "    <div>\n",
              "<style scoped>\n",
              "    .dataframe tbody tr th:only-of-type {\n",
              "        vertical-align: middle;\n",
              "    }\n",
              "\n",
              "    .dataframe tbody tr th {\n",
              "        vertical-align: top;\n",
              "    }\n",
              "\n",
              "    .dataframe thead th {\n",
              "        text-align: right;\n",
              "    }\n",
              "</style>\n",
              "<table border=\"1\" class=\"dataframe\">\n",
              "  <thead>\n",
              "    <tr style=\"text-align: right;\">\n",
              "      <th></th>\n",
              "      <th>temp</th>\n",
              "      <th>feels_like</th>\n",
              "      <th>temp_min</th>\n",
              "      <th>temp_max</th>\n",
              "      <th>pressure</th>\n",
              "      <th>humidity</th>\n",
              "      <th>sea_level</th>\n",
              "      <th>grnd_level</th>\n",
              "    </tr>\n",
              "  </thead>\n",
              "  <tbody>\n",
              "    <tr>\n",
              "      <th>Lausanne</th>\n",
              "      <td>0.15</td>\n",
              "      <td>0.15</td>\n",
              "      <td>-0.22</td>\n",
              "      <td>2.98</td>\n",
              "      <td>1033</td>\n",
              "      <td>94</td>\n",
              "      <td>1033</td>\n",
              "      <td>973</td>\n",
              "    </tr>\n",
              "  </tbody>\n",
              "</table>\n",
              "</div>\n",
              "    <div class=\"colab-df-buttons\">\n",
              "\n",
              "  <div class=\"colab-df-container\">\n",
              "    <button class=\"colab-df-convert\" onclick=\"convertToInteractive('df-b250cc5d-086a-4c93-8585-748e81105d00')\"\n",
              "            title=\"Convert this dataframe to an interactive table.\"\n",
              "            style=\"display:none;\">\n",
              "\n",
              "  <svg xmlns=\"http://www.w3.org/2000/svg\" height=\"24px\" viewBox=\"0 -960 960 960\">\n",
              "    <path d=\"M120-120v-720h720v720H120Zm60-500h600v-160H180v160Zm220 220h160v-160H400v160Zm0 220h160v-160H400v160ZM180-400h160v-160H180v160Zm440 0h160v-160H620v160ZM180-180h160v-160H180v160Zm440 0h160v-160H620v160Z\"/>\n",
              "  </svg>\n",
              "    </button>\n",
              "\n",
              "  <style>\n",
              "    .colab-df-container {\n",
              "      display:flex;\n",
              "      gap: 12px;\n",
              "    }\n",
              "\n",
              "    .colab-df-convert {\n",
              "      background-color: #E8F0FE;\n",
              "      border: none;\n",
              "      border-radius: 50%;\n",
              "      cursor: pointer;\n",
              "      display: none;\n",
              "      fill: #1967D2;\n",
              "      height: 32px;\n",
              "      padding: 0 0 0 0;\n",
              "      width: 32px;\n",
              "    }\n",
              "\n",
              "    .colab-df-convert:hover {\n",
              "      background-color: #E2EBFA;\n",
              "      box-shadow: 0px 1px 2px rgba(60, 64, 67, 0.3), 0px 1px 3px 1px rgba(60, 64, 67, 0.15);\n",
              "      fill: #174EA6;\n",
              "    }\n",
              "\n",
              "    .colab-df-buttons div {\n",
              "      margin-bottom: 4px;\n",
              "    }\n",
              "\n",
              "    [theme=dark] .colab-df-convert {\n",
              "      background-color: #3B4455;\n",
              "      fill: #D2E3FC;\n",
              "    }\n",
              "\n",
              "    [theme=dark] .colab-df-convert:hover {\n",
              "      background-color: #434B5C;\n",
              "      box-shadow: 0px 1px 3px 1px rgba(0, 0, 0, 0.15);\n",
              "      filter: drop-shadow(0px 1px 2px rgba(0, 0, 0, 0.3));\n",
              "      fill: #FFFFFF;\n",
              "    }\n",
              "  </style>\n",
              "\n",
              "    <script>\n",
              "      const buttonEl =\n",
              "        document.querySelector('#df-b250cc5d-086a-4c93-8585-748e81105d00 button.colab-df-convert');\n",
              "      buttonEl.style.display =\n",
              "        google.colab.kernel.accessAllowed ? 'block' : 'none';\n",
              "\n",
              "      async function convertToInteractive(key) {\n",
              "        const element = document.querySelector('#df-b250cc5d-086a-4c93-8585-748e81105d00');\n",
              "        const dataTable =\n",
              "          await google.colab.kernel.invokeFunction('convertToInteractive',\n",
              "                                                    [key], {});\n",
              "        if (!dataTable) return;\n",
              "\n",
              "        const docLinkHtml = 'Like what you see? Visit the ' +\n",
              "          '<a target=\"_blank\" href=https://colab.research.google.com/notebooks/data_table.ipynb>data table notebook</a>'\n",
              "          + ' to learn more about interactive tables.';\n",
              "        element.innerHTML = '';\n",
              "        dataTable['output_type'] = 'display_data';\n",
              "        await google.colab.output.renderOutput(dataTable, element);\n",
              "        const docLink = document.createElement('div');\n",
              "        docLink.innerHTML = docLinkHtml;\n",
              "        element.appendChild(docLink);\n",
              "      }\n",
              "    </script>\n",
              "  </div>\n",
              "\n",
              "\n",
              "  <div id=\"id_b4aba46d-54df-42a9-900c-6850df02197d\">\n",
              "    <style>\n",
              "      .colab-df-generate {\n",
              "        background-color: #E8F0FE;\n",
              "        border: none;\n",
              "        border-radius: 50%;\n",
              "        cursor: pointer;\n",
              "        display: none;\n",
              "        fill: #1967D2;\n",
              "        height: 32px;\n",
              "        padding: 0 0 0 0;\n",
              "        width: 32px;\n",
              "      }\n",
              "\n",
              "      .colab-df-generate:hover {\n",
              "        background-color: #E2EBFA;\n",
              "        box-shadow: 0px 1px 2px rgba(60, 64, 67, 0.3), 0px 1px 3px 1px rgba(60, 64, 67, 0.15);\n",
              "        fill: #174EA6;\n",
              "      }\n",
              "\n",
              "      [theme=dark] .colab-df-generate {\n",
              "        background-color: #3B4455;\n",
              "        fill: #D2E3FC;\n",
              "      }\n",
              "\n",
              "      [theme=dark] .colab-df-generate:hover {\n",
              "        background-color: #434B5C;\n",
              "        box-shadow: 0px 1px 3px 1px rgba(0, 0, 0, 0.15);\n",
              "        filter: drop-shadow(0px 1px 2px rgba(0, 0, 0, 0.3));\n",
              "        fill: #FFFFFF;\n",
              "      }\n",
              "    </style>\n",
              "    <button class=\"colab-df-generate\" onclick=\"generateWithVariable('df_main')\"\n",
              "            title=\"Generate code using this dataframe.\"\n",
              "            style=\"display:none;\">\n",
              "\n",
              "  <svg xmlns=\"http://www.w3.org/2000/svg\" height=\"24px\"viewBox=\"0 0 24 24\"\n",
              "       width=\"24px\">\n",
              "    <path d=\"M7,19H8.4L18.45,9,17,7.55,7,17.6ZM5,21V16.75L18.45,3.32a2,2,0,0,1,2.83,0l1.4,1.43a1.91,1.91,0,0,1,.58,1.4,1.91,1.91,0,0,1-.58,1.4L9.25,21ZM18.45,9,17,7.55Zm-12,3A5.31,5.31,0,0,0,4.9,8.1,5.31,5.31,0,0,0,1,6.5,5.31,5.31,0,0,0,4.9,4.9,5.31,5.31,0,0,0,6.5,1,5.31,5.31,0,0,0,8.1,4.9,5.31,5.31,0,0,0,12,6.5,5.46,5.46,0,0,0,6.5,12Z\"/>\n",
              "  </svg>\n",
              "    </button>\n",
              "    <script>\n",
              "      (() => {\n",
              "      const buttonEl =\n",
              "        document.querySelector('#id_b4aba46d-54df-42a9-900c-6850df02197d button.colab-df-generate');\n",
              "      buttonEl.style.display =\n",
              "        google.colab.kernel.accessAllowed ? 'block' : 'none';\n",
              "\n",
              "      buttonEl.onclick = () => {\n",
              "        google.colab.notebook.generateWithVariable('df_main');\n",
              "      }\n",
              "      })();\n",
              "    </script>\n",
              "  </div>\n",
              "\n",
              "    </div>\n",
              "  </div>\n"
            ],
            "text/plain": [
              "          temp  feels_like  temp_min  temp_max  pressure  humidity  sea_level  \\\n",
              "Lausanne  0.15        0.15     -0.22      2.98      1033        94       1033   \n",
              "\n",
              "          grnd_level  \n",
              "Lausanne         973  "
            ]
          },
          "execution_count": 13,
          "metadata": {},
          "output_type": "execute_result"
        }
      ],
      "source": [
        "# Temperature is in Kelvin- let us convert into Celsius\n",
        "\n",
        "df_main[['temp', 'feels_like', 'temp_min', 'temp_max']] = df_main[['temp', 'feels_like', 'temp_min', 'temp_max']] - 273.15\n",
        "df_main"
      ]
    }
  ],
  "metadata": {
    "colab": {
      "provenance": []
    },
    "kernelspec": {
      "display_name": "ada",
      "language": "python",
      "name": "python3"
    },
    "language_info": {
      "codemirror_mode": {
        "name": "ipython",
        "version": 3
      },
      "file_extension": ".py",
      "mimetype": "text/x-python",
      "name": "python",
      "nbconvert_exporter": "python",
      "pygments_lexer": "ipython3",
      "version": "3.11.9"
    }
  },
  "nbformat": 4,
  "nbformat_minor": 0
}
