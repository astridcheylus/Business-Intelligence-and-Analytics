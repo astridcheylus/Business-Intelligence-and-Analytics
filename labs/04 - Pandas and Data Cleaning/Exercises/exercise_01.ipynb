{
  "cells": [
    {
      "cell_type": "markdown",
      "metadata": {},
      "source": [
        "[![Open in Colab](https://colab.research.google.com/assets/colab-badge.svg)](https://colab.research.google.com/github/michalis0/Business-Intelligence-and-Analytics/blob/master/labs/04%20-%20Pandas%20and%20Data%20Cleaning/Exercises/exercise_01.ipynb)\n",
        "\n"
      ]
    },
    {
      "cell_type": "markdown",
      "metadata": {
        "id": "AtYsn1mvhp4K"
      },
      "source": [
        "# EDA and data visualization\n",
        "\n",
        "## EXERCISE 1\n",
        "\n",
        "In this exercise you're going to put in practice what you just learned and implement the same types of charts.<br>\n",
        "Those charts will help you to answer questions.\n",
        "\n",
        "For this, we're going to use the same data-set we used in the walkthroughs.<br>\n",
        "\n",
        "***Beware ! You need to clean the data-set to be able to answer the questions ;)***"
      ]
    },
    {
      "cell_type": "markdown",
      "metadata": {
        "id": "JYocJ-4liOLV"
      },
      "source": [
        "## 1. Imports, data set and cleaning"
      ]
    },
    {
      "cell_type": "markdown",
      "metadata": {
        "id": "RijUQ0qCjW8t"
      },
      "source": [
        "### 1.1 Imports"
      ]
    },
    {
      "cell_type": "markdown",
      "metadata": {
        "id": "cnpLDT6B1ZBa"
      },
      "source": [
        "First, you have to import the libraries you will need."
      ]
    },
    {
      "cell_type": "code",
      "execution_count": 3,
      "metadata": {
        "id": "cGLLr160hapX"
      },
      "outputs": [],
      "source": [
        "# Don't forget to import seaborn and scatter_matrix\n",
        "import pandas as pd\n",
        "import seaborn as sns\n",
        "from pandas.plotting import scatter_matrix\n",
        "import matplotlib.pyplot as plt\n",
        "\n",
        "# Set some Pandas options\n",
        "sns.set(style=\"darkgrid\")\n",
        "pd.set_option('display.max_rows', 500)\n",
        "pd.set_option('display.max_columns', 500)\n",
        "pd.set_option('display.width', 1000)"
      ]
    },
    {
      "cell_type": "markdown",
      "metadata": {
        "id": "XXOsSdIejaFv"
      },
      "source": [
        "### 1.2 Load the data-set"
      ]
    },
    {
      "cell_type": "markdown",
      "metadata": {
        "id": "on331IB127tE"
      },
      "source": [
        "Here is the url to retrieve the data set : https://media.githubusercontent.com/media/michalis0/Business-Intelligence-and-Analytics/master/data/Telco-Customer-Churn.csv\n",
        "\n"
      ]
    },
    {
      "cell_type": "code",
      "execution_count": null,
      "metadata": {
        "id": "xFyebb9sitQQ"
      },
      "outputs": [],
      "source": [
        "# Import data set and call head function"
      ]
    },
    {
      "cell_type": "markdown",
      "metadata": {
        "id": "4wzFhxvh8Mrb"
      },
      "source": [
        "### 1.3 Converting column types\n"
      ]
    },
    {
      "cell_type": "code",
      "execution_count": null,
      "metadata": {
        "id": "699nhd2x8SZq"
      },
      "outputs": [],
      "source": [
        "# Take a look at the column types"
      ]
    },
    {
      "cell_type": "code",
      "execution_count": null,
      "metadata": {
        "id": "KmNZ-IeY8ZmV"
      },
      "outputs": [],
      "source": [
        "# Convert Total Charges to numeric, use error = 'coerce'"
      ]
    },
    {
      "cell_type": "code",
      "execution_count": null,
      "metadata": {
        "id": "D4qLmpwT8-K_"
      },
      "outputs": [],
      "source": [
        "# What columns can be converted to the categorical type?\n",
        "# Convert 3 of them here"
      ]
    },
    {
      "cell_type": "markdown",
      "metadata": {
        "id": "L7HXDweH9mQT"
      },
      "source": [
        "### 1.4 Boolean values\n",
        "\n",
        "Remember that boolean values are either True or False. Use the `value_counts()` function to see what values compose the `seniorCitizen` column."
      ]
    },
    {
      "cell_type": "code",
      "execution_count": null,
      "metadata": {
        "id": "HrHH1V5w-HfH"
      },
      "outputs": [],
      "source": []
    },
    {
      "cell_type": "markdown",
      "metadata": {
        "id": "oPPs11sN-HvW"
      },
      "source": [
        "If you did it right, you should see that the column is composed only of 0's and 1's. We can consider the 1's for `True` and the 0's for `False`.\n",
        "\n",
        "You can use the `astype` function for this, just pass 'bool' as an argument instead of 'category'.\n",
        "\n",
        "What other columns can be converted to this type? Convert at least 3 of them."
      ]
    },
    {
      "cell_type": "code",
      "execution_count": null,
      "metadata": {
        "id": "M5298v19-cLx"
      },
      "outputs": [],
      "source": []
    },
    {
      "cell_type": "markdown",
      "metadata": {
        "id": "kFaAuHmujjsG"
      },
      "source": [
        "### 1.5 Cleaning the NaN values"
      ]
    },
    {
      "cell_type": "markdown",
      "metadata": {
        "id": "7fPhklq63ghP"
      },
      "source": [
        "Now since the data set contains NaN values, you will need to clean first before the analysis."
      ]
    },
    {
      "cell_type": "code",
      "execution_count": null,
      "metadata": {
        "id": "Z3tQFRjAi4gZ"
      },
      "outputs": [],
      "source": [
        "# Count the null values"
      ]
    },
    {
      "cell_type": "code",
      "execution_count": null,
      "metadata": {
        "id": "Gk6fbuU8EiIL"
      },
      "outputs": [],
      "source": [
        "# Drop the null values"
      ]
    },
    {
      "cell_type": "markdown",
      "metadata": {
        "id": "hBAgHL0jjB-A"
      },
      "source": [
        "## 2. First analysis\n",
        "**Question:**\n",
        "What is the proportion of women in our Data?"
      ]
    },
    {
      "cell_type": "code",
      "execution_count": null,
      "metadata": {
        "id": "4JJPX8QqkFY9"
      },
      "outputs": [],
      "source": []
    },
    {
      "cell_type": "markdown",
      "metadata": {
        "id": "oQsmwPedkdiN"
      },
      "source": [
        "## 3. Histogram\n",
        "\n",
        "Now, plot an histogram of the `TotalCharges` column, use 20 bins.\n"
      ]
    },
    {
      "cell_type": "code",
      "execution_count": null,
      "metadata": {
        "id": "IR6u5OuflDfX"
      },
      "outputs": [],
      "source": []
    },
    {
      "cell_type": "markdown",
      "metadata": {
        "id": "-F86Xg0erSRC"
      },
      "source": [
        "## 4. Boxplot\n",
        "\n",
        "**question:** What are the mean, median, min and the value of the third quartile of the `MonthlyCharges` and `TotalCharges` ?<br>\n",
        "\n",
        "Plot both in one figure\n"
      ]
    },
    {
      "cell_type": "code",
      "execution_count": null,
      "metadata": {
        "id": "251-kJdnrzxf"
      },
      "outputs": [],
      "source": [
        "# Here for the visualization\n"
      ]
    },
    {
      "cell_type": "code",
      "execution_count": null,
      "metadata": {
        "id": "gs2HcETer6S6"
      },
      "outputs": [],
      "source": [
        "# Here for the numerical\n"
      ]
    },
    {
      "cell_type": "markdown",
      "metadata": {
        "id": "GkBnjB1jsLyl"
      },
      "source": [
        "## 5. Scatter Plot and lines\n"
      ]
    },
    {
      "cell_type": "markdown",
      "metadata": {
        "id": "vqIPh6zzsXqU"
      },
      "source": [
        "### 5.1 Scatter plot\n",
        "**question:** Is there a correlation between the `MonthlyCharges` and the `TotalCharges` ?"
      ]
    },
    {
      "cell_type": "code",
      "execution_count": null,
      "metadata": {
        "id": "ZbgTbWEltB0c"
      },
      "outputs": [],
      "source": []
    },
    {
      "cell_type": "markdown",
      "metadata": {
        "id": "9AFfnMivupSb"
      },
      "source": [
        "### 5.2 Pair Grid\n",
        "**question:** could you find any correlation between one of those values: `tenure`, `MonthlyCharges`, `TotalCharges` ?\n",
        " (Use scatterplot)"
      ]
    },
    {
      "cell_type": "code",
      "execution_count": null,
      "metadata": {
        "id": "xePuV_YNwTeJ"
      },
      "outputs": [],
      "source": [
        "\n"
      ]
    },
    {
      "cell_type": "markdown",
      "metadata": {
        "id": "pmOC7u59Foyi"
      },
      "source": [
        "## 6. Heatmap and correlations\n",
        "Calculate the correlation DataFrame, and plot its heatmap.\n",
        "\n",
        "**Warning: This heatmap helps answer the two-question quiz**"
      ]
    },
    {
      "cell_type": "code",
      "execution_count": null,
      "metadata": {
        "id": "9Qr8aL3ZF5-J"
      },
      "outputs": [],
      "source": []
    },
    {
      "cell_type": "markdown",
      "metadata": {
        "id": "l_VHB2MGLUmP"
      },
      "source": [
        "## 7. Plot the histogram with seaborn\n",
        "\n",
        "\n"
      ]
    },
    {
      "cell_type": "markdown",
      "metadata": {
        "id": "UeLhpeiALdgB"
      },
      "source": [
        "Create two histograms to compare SeniorCitizen vs Churn and Gender vs Churn. You can use sns.countplot.\n",
        "\n",
        "Tip: Use the \"hue\" parameter in sns.countplot() to differentiate the Churn categories within each SeniorCitizen and gender group.\n",
        "If you have doubts, you can check the online documentation [here](https://seaborn.pydata.org/generated/seaborn.countplot.html?utm_source=chatgpt.com)."
      ]
    },
    {
      "cell_type": "code",
      "execution_count": null,
      "metadata": {
        "id": "61YZWIRDL6Fh"
      },
      "outputs": [],
      "source": []
    },
    {
      "cell_type": "code",
      "execution_count": null,
      "metadata": {
        "id": "HJfGguFAL6iD"
      },
      "outputs": [],
      "source": []
    }
  ],
  "metadata": {
    "colab": {
      "provenance": []
    },
    "kernelspec": {
      "display_name": "Python 3",
      "language": "python",
      "name": "python3"
    },
    "language_info": {
      "codemirror_mode": {
        "name": "ipython",
        "version": 3
      },
      "file_extension": ".py",
      "mimetype": "text/x-python",
      "name": "python",
      "nbconvert_exporter": "python",
      "pygments_lexer": "ipython3",
      "version": "3.13.2"
    }
  },
  "nbformat": 4,
  "nbformat_minor": 0
}
